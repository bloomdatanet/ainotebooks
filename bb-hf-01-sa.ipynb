{
 "cells": [
  {
   "cell_type": "markdown",
   "id": "58ed854c-b185-4681-9b3d-a94aba8f6722",
   "metadata": {},
   "source": [
    "# bloom bytes: hugging face: 01 sentiment analysis\n",
    "bb-hf-01-sa.ipynb"
   ]
  },
  {
   "cell_type": "markdown",
   "id": "44892f1c-3e34-4a13-90a4-c4590a98782a",
   "metadata": {},
   "source": [
    "Notes\n",
    "1. I'm using anaconda and created the environment as follows: <br>\n",
    " `conda create -n hugs python=3.9 tensorflow transformers pytorch jupyter sentencepiece`\n",
    "2. Calling pipeline() will download the models needed.  Larger models may take some time to download.  pytorch is an especially large one (over 1 GB), and is needed for the summarization pipeline.  Models are stored in anaconda3/pkgs and are shared by all conda environments so don't need to download multiple times.  These can get big - my pkgs folder is over 20 GB.  Example: <br>\n",
    "`Downloading pytorch_model.bin:   0%|          | 0.00/1.22G [00:00<?, ?B/s]`\n",
    "3. pipeline often returns warnings, typically along the following:\n",
    "    - `Using a pipeline without specifying a model name and revision in production is not recommended.`\n",
    "       <br>safe to ignore as these are just illustrative examples.  \n",
    "    - `No model was supplied, defaulted to...`\n",
    "       <br>safe to ignore as these are just illustrative examples.\n",
    "    - ``Setting `pad_token_id` to `eos_token_id`:50256 for open-end generation.``\n",
    "       <br> safe to ignore\n",
    "    - `Some weights of the model checkpoint at... were not used when initializing...`\n",
    "       <br> safe to ignore\n",
    "    - ``ValueError: This tokenizer cannot be instantiated. Please make sure you have `sentencepiece` installed in order to use this tokenizer.``\n",
    "       <br> errors like this typically occur when a module is missing.  With conda you can add with conda install X.\n",
    "5. Hugging Face NLP Course link: https://huggingface.co/learn/nlp-course/chapter1/1?fw=pt\n",
    "6. Hugging Face ModelHub: https://huggingface.co/docs/hub/en/models-the-hub\n",
    "7. Hugging Face TextClassificationPipeline: https://huggingface.co/docs/transformers/v4.37.2/en/main_classes/pipelines#transformers.TextClassificationPipeline"
   ]
  },
  {
   "cell_type": "code",
   "execution_count": 6,
   "id": "fc37a5ab-6629-4937-85f0-4bdddf813829",
   "metadata": {},
   "outputs": [],
   "source": [
    "import time\n",
    "class timer:\n",
    "    def __init__(self):\n",
    "        self.t0 = time.time()\n",
    "        self.t1 = 0\n",
    "        self.t = -1\n",
    "        self.state = \"INIT\"\n",
    "    def start(self):\n",
    "        if (self.state != \"INIT\") and (self.state != \"STOP\"):\n",
    "            print(\"error - cannot start already started timer\")\n",
    "            return\n",
    "        self.t0 = time.time()  # restart from now\n",
    "        self.state = \"START\"\n",
    "    def stopandprint(self):\n",
    "        self.stop()\n",
    "        self.print()\n",
    "    def stop(self):\n",
    "        if (self.state != \"INIT\") and (self.state != \"START\"):\n",
    "            print(\"error - cannot stop already stopped timer\")\n",
    "            return\n",
    "        self.t1 = time.time()\n",
    "        self.t = self.t1 - self.t0\n",
    "        self.state = \"STOP\"\n",
    "        return self.t\n",
    "    def print(self):\n",
    "        if self.state == \"STOP\":\n",
    "            print(\"Elapsed seconds: {:8.3f}\".format(self.t))\n",
    "        else:\n",
    "            tmp = time.time() - self.t0\n",
    "            print(\"Elapsed seconds: {:8.3f} (and counting)\".format(tmp))"
   ]
  },
  {
   "cell_type": "code",
   "execution_count": 7,
   "id": "cd60be91-3a64-4814-87ee-daebcdcb6e5e",
   "metadata": {},
   "outputs": [
    {
     "name": "stdout",
     "output_type": "stream",
     "text": [
      "Elapsed seconds:    1.005\n",
      "error - cannot start already started timer\n"
     ]
    }
   ],
   "source": [
    "t = timer()\n",
    "t.start()\n",
    "time.sleep(1)\n",
    "t.stop()\n",
    "time.sleep(.5)\n",
    "t.print()\n",
    "t.start()\n",
    "t.start()"
   ]
  },
  {
   "cell_type": "code",
   "execution_count": 11,
   "id": "1ac7ff62-3236-454f-aed8-43fb44d2c409",
   "metadata": {},
   "outputs": [
    {
     "name": "stdout",
     "output_type": "stream",
     "text": [
      "Elapsed seconds:   26.635 (and counting)\n"
     ]
    },
    {
     "data": {
      "text/plain": [
       "26.63501000404358"
      ]
     },
     "execution_count": 11,
     "metadata": {},
     "output_type": "execute_result"
    }
   ],
   "source": [
    "t.print()\n",
    "t.stop()"
   ]
  },
  {
   "cell_type": "markdown",
   "id": "eab79371-8fed-43b3-b8b9-a52157a24a6a",
   "metadata": {},
   "source": [
    "# 1. Introducing pipeline and sentiment-analysis"
   ]
  },
  {
   "cell_type": "code",
   "execution_count": 12,
   "id": "c0a05f4a-81e6-4160-9d19-f9e7eb454afb",
   "metadata": {},
   "outputs": [],
   "source": [
    "from transformers import pipeline"
   ]
  },
  {
   "cell_type": "code",
   "execution_count": 13,
   "id": "0d117d2e-8661-4a00-9204-c405c21409a9",
   "metadata": {},
   "outputs": [
    {
     "name": "stderr",
     "output_type": "stream",
     "text": [
      "No model was supplied, defaulted to distilbert-base-uncased-finetuned-sst-2-english and revision af0f99b (https://huggingface.co/distilbert-base-uncased-finetuned-sst-2-english).\n",
      "Using a pipeline without specifying a model name and revision in production is not recommended.\n"
     ]
    }
   ],
   "source": [
    "classifier = pipeline(task=\"sentiment-analysis\")"
   ]
  },
  {
   "cell_type": "code",
   "execution_count": 14,
   "id": "c3e418e9-2cb0-40af-a9e8-c249f130bbfd",
   "metadata": {},
   "outputs": [
    {
     "data": {
      "text/plain": [
       "[{'label': 'POSITIVE', 'score': 0.9998063445091248}]"
      ]
     },
     "execution_count": 14,
     "metadata": {},
     "output_type": "execute_result"
    }
   ],
   "source": [
    "classifier(\"this is a great book.  Everyone should read this book right now.\")"
   ]
  },
  {
   "cell_type": "code",
   "execution_count": 15,
   "id": "cf80657f-1a7e-43cd-bebc-ca2e216d834b",
   "metadata": {},
   "outputs": [
    {
     "data": {
      "text/plain": [
       "[{'label': 'NEGATIVE', 'score': 0.9996964931488037}]"
      ]
     },
     "execution_count": 15,
     "metadata": {},
     "output_type": "execute_result"
    }
   ],
   "source": [
    "classifier(\"this book is worse than any book ever\")"
   ]
  },
  {
   "cell_type": "markdown",
   "id": "87da1210-907f-4bbf-8772-e5a47fa7b3cc",
   "metadata": {},
   "source": [
    "# M1"
   ]
  },
  {
   "cell_type": "code",
   "execution_count": 20,
   "id": "a19e407d-08ef-4b8d-91e5-fc37e17316a2",
   "metadata": {},
   "outputs": [],
   "source": [
    "M1 = []\n",
    "M1.append(\"This is a very medicore book. Read it if you like stories about talking dragons.\")\n",
    "M1.append(\"This is a very medicore book. Read it if you like silly stories about talking dragons.\")\n",
    "M1.append(\"This is a very medicore book. Read it if you like dumb stories about talking dragons.\")\n",
    "R1 = classifier(M1)"
   ]
  },
  {
   "cell_type": "code",
   "execution_count": 21,
   "id": "92e7458d-6f36-4649-a9e7-0d74c4cf448e",
   "metadata": {},
   "outputs": [
    {
     "data": {
      "text/plain": [
       "{'label': 'POSITIVE', 'score': 0.848868191242218}"
      ]
     },
     "execution_count": 21,
     "metadata": {},
     "output_type": "execute_result"
    }
   ],
   "source": [
    "R1[0]"
   ]
  },
  {
   "cell_type": "code",
   "execution_count": 22,
   "id": "0586c7ba-2060-4d7a-af00-223bf180bff1",
   "metadata": {},
   "outputs": [
    {
     "data": {
      "text/plain": [
       "{'label': 'POSITIVE', 'score': 0.5143406987190247}"
      ]
     },
     "execution_count": 22,
     "metadata": {},
     "output_type": "execute_result"
    }
   ],
   "source": [
    "R1[1]"
   ]
  },
  {
   "cell_type": "code",
   "execution_count": 23,
   "id": "9ddcaa37-1887-46f8-bf2c-6394a4fc35b8",
   "metadata": {},
   "outputs": [
    {
     "data": {
      "text/plain": [
       "{'label': 'NEGATIVE', 'score': 0.9953979849815369}"
      ]
     },
     "execution_count": 23,
     "metadata": {},
     "output_type": "execute_result"
    }
   ],
   "source": [
    "R1[2]"
   ]
  },
  {
   "cell_type": "markdown",
   "id": "98b03895-26f6-4121-8e25-c58900f99e47",
   "metadata": {},
   "source": [
    "# M2"
   ]
  },
  {
   "cell_type": "code",
   "execution_count": 24,
   "id": "672f991a-2219-448a-9150-b631d6c14125",
   "metadata": {},
   "outputs": [],
   "source": [
    "M2 = []\n",
    "M2.append(\"This is not a novel to be tossed aside lightly.\")\n",
    "M2.append(\"This is not a novel to be tossed aside lightly. It should be thrown with great force.\")\n",
    "M2.append(\"This is not a novel to be tossed aside lightly. Don't even pick up this book in the first place.\")\n",
    "R2 = classifier(M2)"
   ]
  },
  {
   "cell_type": "code",
   "execution_count": 25,
   "id": "376b196f-4ae2-41b9-ba05-94352985543b",
   "metadata": {},
   "outputs": [
    {
     "data": {
      "text/plain": [
       "[{'label': 'POSITIVE', 'score': 0.8818190693855286},\n",
       " {'label': 'POSITIVE', 'score': 0.9708155989646912},\n",
       " {'label': 'NEGATIVE', 'score': 0.992668867111206}]"
      ]
     },
     "execution_count": 25,
     "metadata": {},
     "output_type": "execute_result"
    }
   ],
   "source": [
    "R2"
   ]
  },
  {
   "cell_type": "markdown",
   "id": "60ccf330-4297-4174-b8d6-34a50f2a0a49",
   "metadata": {},
   "source": [
    "# M3"
   ]
  },
  {
   "cell_type": "code",
   "execution_count": 26,
   "id": "93206bc7-6bd9-4cd6-8d77-542ae704da7c",
   "metadata": {},
   "outputs": [
    {
     "name": "stdout",
     "output_type": "stream",
     "text": [
      "Elapsed seconds:    1.110\n"
     ]
    }
   ],
   "source": [
    "t = timer()\n",
    "M3 = []\n",
    "M3.append(\"These aren't the droids you're looking for.\")\n",
    "M3.append(\"These are not the droids you're looking for.  These are, however, excellent droids\")\n",
    "M3.append(\"These are excellent droids, but they are not the droids you're looking for.\")\n",
    "M3.append(\"These are excellent droids.\")\n",
    "M3.append(\"These are great droids, almost what I wanted\")\n",
    "M3.append(\"These are great droids, but not what I wanted\")\n",
    "M3.append(\"These are great droids, but sometimes do their thing\")\n",
    "M3.append(\"These are great droids, but they constantly bicker\")\n",
    "M3.append(\"These are great droids, although they're very independent\")\n",
    "M3.append(\"These droids are good enough for government purposes, maybe not for enterprise use\")\n",
    "M3.append(\"These droids are good enough for government purposes, and for enterprise use\")\n",
    "R3 = classifier(M3)\n",
    "t.stopandprint()"
   ]
  },
  {
   "cell_type": "code",
   "execution_count": 27,
   "id": "1b227879-9b7e-4b67-a6c4-01fb61a4f100",
   "metadata": {},
   "outputs": [
    {
     "data": {
      "text/plain": [
       "[{'label': 'NEGATIVE', 'score': 0.9956250786781311},\n",
       " {'label': 'POSITIVE', 'score': 0.9992830157279968},\n",
       " {'label': 'NEGATIVE', 'score': 0.5603905916213989},\n",
       " {'label': 'POSITIVE', 'score': 0.9997205138206482},\n",
       " {'label': 'POSITIVE', 'score': 0.999283492565155},\n",
       " {'label': 'NEGATIVE', 'score': 0.9990296363830566},\n",
       " {'label': 'POSITIVE', 'score': 0.9945772886276245},\n",
       " {'label': 'NEGATIVE', 'score': 0.9469334483146667},\n",
       " {'label': 'POSITIVE', 'score': 0.9975984692573547},\n",
       " {'label': 'POSITIVE', 'score': 0.9303880929946899},\n",
       " {'label': 'POSITIVE', 'score': 0.9968749284744263}]"
      ]
     },
     "execution_count": 27,
     "metadata": {},
     "output_type": "execute_result"
    }
   ],
   "source": [
    "R3"
   ]
  },
  {
   "cell_type": "code",
   "execution_count": 29,
   "id": "873734e3-02a6-4f26-b426-546c7992d828",
   "metadata": {},
   "outputs": [],
   "source": [
    "def process(texts, results, **kwargs):\n",
    "    PROCESS_ARG_PRINT = \"print\"\n",
    "    PROCESS_ARG_SORT = \"sort\"\n",
    "    PROCESS_ARG_NORETURN = \"noreturn\"\n",
    "    PROCESS_ARG_TRUNCATE = \"truncate\"\n",
    "    \n",
    "    printOpt = False\n",
    "    sortOpt = False\n",
    "    noreturnOpt = False\n",
    "    truncateNum = -1\n",
    "    \n",
    "    if len(texts) != len(results):\n",
    "        print(\"error - mismatched lists\")\n",
    "        return\n",
    "\n",
    "    for key, value in kwargs.items():\n",
    "        if key == PROCESS_ARG_PRINT:\n",
    "            printOpt = kwargs[PROCESS_ARG_PRINT]\n",
    "        elif key == PROCESS_ARG_SORT:\n",
    "            sortOpt = kwargs[PROCESS_ARG_SORT]\n",
    "        elif key == PROCESS_ARG_NORETURN:\n",
    "            noreturnOpt = kwargs[PROCESS_ARG_NORETURN]\n",
    "        elif key == PROCESS_ARG_TRUNCATE:\n",
    "            truncateNum = kwargs[PROCESS_ARG_TRUNCATE]\n",
    "        else:\n",
    "            print(\"ignoring unrecognised arg\", key)\n",
    "      \n",
    "    n = len(texts)\n",
    "    Rn = []\n",
    "    Rp = []\n",
    "    R = []\n",
    "    for i in range(n):\n",
    "        confidence = results[i][\"score\"]\n",
    "        sentiment = \" \"\n",
    "        if results[i][\"label\"] == \"NEGATIVE\":\n",
    "            sentiment = \"-\"\n",
    "            if truncateNum > 0:\n",
    "                Rn.append([confidence, sentiment, texts[i][0:truncateNum]])\n",
    "            else:\n",
    "                Rn.append([confidence, sentiment, texts[i]])\n",
    "        else:\n",
    "            sentiment = \"+\"\n",
    "            if truncateNum > 0:\n",
    "                Rp.append([confidence, sentiment, texts[i][0:truncateNum]])\n",
    "            else:\n",
    "                Rp.append([confidence, sentiment, texts[i]])\n",
    "        \n",
    "        if truncateNum > 0:\n",
    "            R.append([confidence, sentiment, texts[i][0:truncateNum]])\n",
    "        else:\n",
    "            R.append([confidence, sentiment, texts[i]])\n",
    "            \n",
    "    if sortOpt:\n",
    "        Rp = sorted(Rp, key = lambda x: -x[0])\n",
    "        Rn = sorted(Rn, key = lambda x: x[0])\n",
    "        R = Rp + Rn\n",
    "    \n",
    "    if printOpt:\n",
    "        for r in R:\n",
    "            print(\"{:3s} {:6.4f} {:s}\".format(r[1], r[0], r[2]))    \n",
    "    if noreturnOpt:\n",
    "        return\n",
    "    else:\n",
    "        return R"
   ]
  },
  {
   "cell_type": "code",
   "execution_count": 30,
   "id": "6dec6ba0-b2d0-477b-b12c-cd911984945b",
   "metadata": {},
   "outputs": [
    {
     "data": {
      "text/plain": [
       "[[0.9956250786781311, '-', \"These aren't the droids you're looking for.\"],\n",
       " [0.9992830157279968,\n",
       "  '+',\n",
       "  \"These are not the droids you're looking for.  These are, however, excellent droids\"],\n",
       " [0.5603905916213989,\n",
       "  '-',\n",
       "  \"These are excellent droids, but they are not the droids you're looking for.\"],\n",
       " [0.9997205138206482, '+', 'These are excellent droids.'],\n",
       " [0.999283492565155, '+', 'These are great droids, almost what I wanted'],\n",
       " [0.9990296363830566, '-', 'These are great droids, but not what I wanted'],\n",
       " [0.9945772886276245,\n",
       "  '+',\n",
       "  'These are great droids, but sometimes do their thing'],\n",
       " [0.9469334483146667,\n",
       "  '-',\n",
       "  'These are great droids, but they constantly bicker'],\n",
       " [0.9975984692573547,\n",
       "  '+',\n",
       "  \"These are great droids, although they're very independent\"],\n",
       " [0.9303880929946899,\n",
       "  '+',\n",
       "  'These droids are good enough for government purposes, maybe not for enterprise use'],\n",
       " [0.9968749284744263,\n",
       "  '+',\n",
       "  'These droids are good enough for government purposes, and for enterprise use']]"
      ]
     },
     "execution_count": 30,
     "metadata": {},
     "output_type": "execute_result"
    }
   ],
   "source": [
    "process(M3, R3)"
   ]
  },
  {
   "cell_type": "code",
   "execution_count": 31,
   "id": "a3b73292-22ce-4cb0-87be-f16c91a97fba",
   "metadata": {},
   "outputs": [
    {
     "name": "stdout",
     "output_type": "stream",
     "text": [
      "-   0.9956 These aren't the droids you're looking for.\n",
      "+   0.9993 These are not the droids you're looking for.  These are, however, excellent droids\n",
      "-   0.5604 These are excellent droids, but they are not the droids you're looking for.\n",
      "+   0.9997 These are excellent droids.\n",
      "+   0.9993 These are great droids, almost what I wanted\n",
      "-   0.9990 These are great droids, but not what I wanted\n",
      "+   0.9946 These are great droids, but sometimes do their thing\n",
      "-   0.9469 These are great droids, but they constantly bicker\n",
      "+   0.9976 These are great droids, although they're very independent\n",
      "+   0.9304 These droids are good enough for government purposes, maybe not for enterprise use\n",
      "+   0.9969 These droids are good enough for government purposes, and for enterprise use\n"
     ]
    }
   ],
   "source": [
    "process(M3, R3, print=True,noreturn=True)"
   ]
  },
  {
   "cell_type": "code",
   "execution_count": 32,
   "id": "9ee8a215-e29b-4d31-ad55-e0baa62381db",
   "metadata": {},
   "outputs": [
    {
     "name": "stdout",
     "output_type": "stream",
     "text": [
      "+   0.9997 These are excellent droids.\n",
      "+   0.9993 These are great droids, almost what I wanted\n",
      "+   0.9993 These are not the droids you're looking for.  These are, however, excellent droids\n",
      "+   0.9976 These are great droids, although they're very independent\n",
      "+   0.9969 These droids are good enough for government purposes, and for enterprise use\n",
      "+   0.9946 These are great droids, but sometimes do their thing\n",
      "+   0.9304 These droids are good enough for government purposes, maybe not for enterprise use\n",
      "-   0.5604 These are excellent droids, but they are not the droids you're looking for.\n",
      "-   0.9469 These are great droids, but they constantly bicker\n",
      "-   0.9956 These aren't the droids you're looking for.\n",
      "-   0.9990 These are great droids, but not what I wanted\n"
     ]
    }
   ],
   "source": [
    "process(M3, R3, print=True,sort=True,noreturn=True)"
   ]
  },
  {
   "cell_type": "markdown",
   "id": "fcc7c8de-af6d-4717-9136-78393137dcd1",
   "metadata": {},
   "source": [
    "# M4"
   ]
  },
  {
   "cell_type": "code",
   "execution_count": 33,
   "id": "aa89530b-9c4d-4b95-aaa0-40d00fb00e1d",
   "metadata": {},
   "outputs": [
    {
     "name": "stdout",
     "output_type": "stream",
     "text": [
      "/Users/jeremybloom/Dropbox/datasets/quotes-misc.txt\n"
     ]
    },
    {
     "data": {
      "text/plain": [
       "['# some quotes\\n',\n",
       " 'I enjoy tacos and burritos more than flautas.\\n',\n",
       " 'I enjoy tacos and burritos, but I dislike flautas.\\n',\n",
       " 'Please smoke the ham.\\n',\n",
       " 'Bro, do you even lift?\\n',\n",
       " \"The microwave functions great but it's a little louder than the one it replaces.  I like the color but not the price.\\n\",\n",
       " \"The microwave functions better than expected for it's budget price\\n\",\n",
       " 'You will be disappointed in this microwave.\\n',\n",
       " 'You will not be disappointed in this microwave.\\n',\n",
       " 'We should start a club.\\n',\n",
       " 'We should start a team.\\n',\n",
       " 'We should start a gang.\\n',\n",
       " 'We should start a private army.\\n',\n",
       " 'We should start an organization to take over the world.\\n',\n",
       " 'I enjoy margaritas almost as much as I enjoy surfing.\\n',\n",
       " 'If you pick up a starving dog and make him prosperous he will not bite you. This is the principal difference between a dog and man.\\n',\n",
       " 'It was a dark and stormy night\\n',\n",
       " 'I know why the caged bird sings\\n',\n",
       " 'Why, sometimes, I’ve believed as many as six impossible things before breakfast.\\n',\n",
       " 'Nobody realizes that some people expend tremendous energy merely to be normal.\\n',\n",
       " 'I opened myself to the gentle indifference of the world.\\n',\n",
       " 'Where there is no hope, it is incumbent on us to invent it.\\n',\n",
       " 'Man is nothing else but what he makes of himself\\n',\n",
       " 'One cannot give an Other his freedom, only his liberty.\\n',\n",
       " 'Three can keep a secret, if two of them are dead.\\n',\n",
       " 'The ultimate measure of a man is not where he stands in moments of comfort and convenience, but where he stands at times of challenge and controversy.\\n',\n",
       " 'Freedom is never voluntarily given by the oppressor; it must be demanded by the oppressed.']"
      ]
     },
     "execution_count": 33,
     "metadata": {},
     "output_type": "execute_result"
    }
   ],
   "source": [
    "import os\n",
    "\n",
    "fn = os.path.expanduser('~') + \"/Dropbox/datasets/quotes-misc.txt\"\n",
    "print(fn)\n",
    "with open(fn, \"r\") as f:\n",
    "    M4 = f.readlines()\n",
    "M4"
   ]
  },
  {
   "cell_type": "code",
   "execution_count": 34,
   "id": "7ed5e36d-d299-46dc-bdbf-ad8d139ad4b9",
   "metadata": {},
   "outputs": [],
   "source": [
    "M4v2 = list(filter(lambda x: x[0] != \"#\", M4))  # remove commented lines"
   ]
  },
  {
   "cell_type": "code",
   "execution_count": 35,
   "id": "85d4ca1d-ec48-4d0f-9cee-ae01b1a08903",
   "metadata": {},
   "outputs": [
    {
     "data": {
      "text/plain": [
       "['I enjoy tacos and burritos more than flautas.\\n',\n",
       " 'I enjoy tacos and burritos, but I dislike flautas.\\n',\n",
       " 'Please smoke the ham.\\n',\n",
       " 'Bro, do you even lift?\\n',\n",
       " \"The microwave functions great but it's a little louder than the one it replaces.  I like the color but not the price.\\n\",\n",
       " \"The microwave functions better than expected for it's budget price\\n\",\n",
       " 'You will be disappointed in this microwave.\\n',\n",
       " 'You will not be disappointed in this microwave.\\n',\n",
       " 'We should start a club.\\n',\n",
       " 'We should start a team.\\n',\n",
       " 'We should start a gang.\\n',\n",
       " 'We should start a private army.\\n',\n",
       " 'We should start an organization to take over the world.\\n',\n",
       " 'I enjoy margaritas almost as much as I enjoy surfing.\\n',\n",
       " 'If you pick up a starving dog and make him prosperous he will not bite you. This is the principal difference between a dog and man.\\n',\n",
       " 'It was a dark and stormy night\\n',\n",
       " 'I know why the caged bird sings\\n',\n",
       " 'Why, sometimes, I’ve believed as many as six impossible things before breakfast.\\n',\n",
       " 'Nobody realizes that some people expend tremendous energy merely to be normal.\\n',\n",
       " 'I opened myself to the gentle indifference of the world.\\n',\n",
       " 'Where there is no hope, it is incumbent on us to invent it.\\n',\n",
       " 'Man is nothing else but what he makes of himself\\n',\n",
       " 'One cannot give an Other his freedom, only his liberty.\\n',\n",
       " 'Three can keep a secret, if two of them are dead.\\n',\n",
       " 'The ultimate measure of a man is not where he stands in moments of comfort and convenience, but where he stands at times of challenge and controversy.\\n',\n",
       " 'Freedom is never voluntarily given by the oppressor; it must be demanded by the oppressed.']"
      ]
     },
     "execution_count": 35,
     "metadata": {},
     "output_type": "execute_result"
    }
   ],
   "source": [
    "M4v2"
   ]
  },
  {
   "cell_type": "code",
   "execution_count": 36,
   "id": "de521798-d620-4728-bc58-775358ea2aa2",
   "metadata": {},
   "outputs": [],
   "source": [
    "M4v2 = [s[:-1] for s in M4v2]                   # remove last char (which is a newline)"
   ]
  },
  {
   "cell_type": "code",
   "execution_count": 37,
   "id": "4b222bd9-505a-4113-ba06-223350e30746",
   "metadata": {},
   "outputs": [
    {
     "data": {
      "text/plain": [
       "['I enjoy tacos and burritos more than flautas.',\n",
       " 'I enjoy tacos and burritos, but I dislike flautas.',\n",
       " 'Please smoke the ham.',\n",
       " 'Bro, do you even lift?',\n",
       " \"The microwave functions great but it's a little louder than the one it replaces.  I like the color but not the price.\",\n",
       " \"The microwave functions better than expected for it's budget price\",\n",
       " 'You will be disappointed in this microwave.',\n",
       " 'You will not be disappointed in this microwave.',\n",
       " 'We should start a club.',\n",
       " 'We should start a team.',\n",
       " 'We should start a gang.',\n",
       " 'We should start a private army.',\n",
       " 'We should start an organization to take over the world.',\n",
       " 'I enjoy margaritas almost as much as I enjoy surfing.',\n",
       " 'If you pick up a starving dog and make him prosperous he will not bite you. This is the principal difference between a dog and man.',\n",
       " 'It was a dark and stormy night',\n",
       " 'I know why the caged bird sings',\n",
       " 'Why, sometimes, I’ve believed as many as six impossible things before breakfast.',\n",
       " 'Nobody realizes that some people expend tremendous energy merely to be normal.',\n",
       " 'I opened myself to the gentle indifference of the world.',\n",
       " 'Where there is no hope, it is incumbent on us to invent it.',\n",
       " 'Man is nothing else but what he makes of himself',\n",
       " 'One cannot give an Other his freedom, only his liberty.',\n",
       " 'Three can keep a secret, if two of them are dead.',\n",
       " 'The ultimate measure of a man is not where he stands in moments of comfort and convenience, but where he stands at times of challenge and controversy.',\n",
       " 'Freedom is never voluntarily given by the oppressor; it must be demanded by the oppressed']"
      ]
     },
     "execution_count": 37,
     "metadata": {},
     "output_type": "execute_result"
    }
   ],
   "source": [
    "M4v2"
   ]
  },
  {
   "cell_type": "code",
   "execution_count": 38,
   "id": "1d5e0a92-cbc0-4b62-b775-0c87cd164dae",
   "metadata": {},
   "outputs": [
    {
     "name": "stdout",
     "output_type": "stream",
     "text": [
      "Elapsed seconds:    2.714\n"
     ]
    }
   ],
   "source": [
    "t.start()\n",
    "R4v2 = classifier(M4v2)\n",
    "t.stopandprint()"
   ]
  },
  {
   "cell_type": "code",
   "execution_count": 39,
   "id": "84c10fce-acd0-4f2a-bbca-9068992de5f7",
   "metadata": {},
   "outputs": [
    {
     "name": "stdout",
     "output_type": "stream",
     "text": [
      "+   0.9996 I enjoy tacos and burritos more than flautas.\n",
      "-   0.7773 I enjoy tacos and burritos, but I dislike flautas.\n",
      "-   0.6885 Please smoke the ham.\n",
      "-   0.7789 Bro, do you even lift?\n",
      "+   0.5671 The microwave functions great but it's a little louder than the one it replaces.  I like the color but not the price.\n",
      "+   0.9187 The microwave functions better than expected for it's budget price\n",
      "-   0.9997 You will be disappointed in this microwave.\n",
      "+   0.9975 You will not be disappointed in this microwave.\n",
      "+   0.9886 We should start a club.\n",
      "+   0.9918 We should start a team.\n",
      "-   0.9947 We should start a gang.\n",
      "-   0.9853 We should start a private army.\n",
      "+   0.7775 We should start an organization to take over the world.\n",
      "-   0.5903 I enjoy margaritas almost as much as I enjoy surfing.\n",
      "+   0.9984 If you pick up a starving dog and make him prosperous he will not bite you. This is the principal difference between a dog and man.\n",
      "-   0.7057 It was a dark and stormy night\n",
      "+   0.9226 I know why the caged bird sings\n",
      "-   0.9911 Why, sometimes, I’ve believed as many as six impossible things before breakfast.\n",
      "-   0.9360 Nobody realizes that some people expend tremendous energy merely to be normal.\n",
      "+   0.9922 I opened myself to the gentle indifference of the world.\n",
      "+   0.6724 Where there is no hope, it is incumbent on us to invent it.\n",
      "+   0.9913 Man is nothing else but what he makes of himself\n",
      "+   0.5026 One cannot give an Other his freedom, only his liberty.\n",
      "-   0.7794 Three can keep a secret, if two of them are dead.\n",
      "+   0.9989 The ultimate measure of a man is not where he stands in moments of comfort and convenience, but where he stands at times of challenge and controversy.\n",
      "+   0.9453 Freedom is never voluntarily given by the oppressor; it must be demanded by the oppressed\n"
     ]
    }
   ],
   "source": [
    "process(M4v2, R4v2, print=1, noreturn=1)"
   ]
  },
  {
   "cell_type": "code",
   "execution_count": 40,
   "id": "816654f8-85c1-4a2f-9cee-806f0e034e7e",
   "metadata": {},
   "outputs": [
    {
     "name": "stdout",
     "output_type": "stream",
     "text": [
      "+   0.9996 I enjoy tacos and burritos more than flautas.\n",
      "+   0.9989 The ultimate measure of a man is not where he stands in moments of comfort and convenience, but where he stands at times of challenge and controversy.\n",
      "+   0.9984 If you pick up a starving dog and make him prosperous he will not bite you. This is the principal difference between a dog and man.\n",
      "+   0.9975 You will not be disappointed in this microwave.\n",
      "+   0.9922 I opened myself to the gentle indifference of the world.\n",
      "+   0.9918 We should start a team.\n",
      "+   0.9913 Man is nothing else but what he makes of himself\n",
      "+   0.9886 We should start a club.\n",
      "+   0.9453 Freedom is never voluntarily given by the oppressor; it must be demanded by the oppressed\n",
      "+   0.9226 I know why the caged bird sings\n",
      "+   0.9187 The microwave functions better than expected for it's budget price\n",
      "+   0.7775 We should start an organization to take over the world.\n",
      "+   0.6724 Where there is no hope, it is incumbent on us to invent it.\n",
      "+   0.5671 The microwave functions great but it's a little louder than the one it replaces.  I like the color but not the price.\n",
      "+   0.5026 One cannot give an Other his freedom, only his liberty.\n",
      "-   0.5903 I enjoy margaritas almost as much as I enjoy surfing.\n",
      "-   0.6885 Please smoke the ham.\n",
      "-   0.7057 It was a dark and stormy night\n",
      "-   0.7773 I enjoy tacos and burritos, but I dislike flautas.\n",
      "-   0.7789 Bro, do you even lift?\n",
      "-   0.7794 Three can keep a secret, if two of them are dead.\n",
      "-   0.9360 Nobody realizes that some people expend tremendous energy merely to be normal.\n",
      "-   0.9853 We should start a private army.\n",
      "-   0.9911 Why, sometimes, I’ve believed as many as six impossible things before breakfast.\n",
      "-   0.9947 We should start a gang.\n",
      "-   0.9997 You will be disappointed in this microwave.\n"
     ]
    }
   ],
   "source": [
    "process(M4v2, R4v2, print=1, sort=1, noreturn=1)"
   ]
  },
  {
   "cell_type": "markdown",
   "id": "7ab8d404-019c-4a32-83af-1d59af2106bd",
   "metadata": {},
   "source": [
    "# M5"
   ]
  },
  {
   "cell_type": "code",
   "execution_count": 41,
   "id": "31948d5f-3ec2-46d0-8dd5-f5822166e317",
   "metadata": {},
   "outputs": [],
   "source": [
    "import os\n",
    "import pandas as pd\n",
    "fn = os.path.expanduser('~') + \"/Dropbox/datasets/amazon.csv\"\n",
    "df = pd.read_csv(fn)"
   ]
  },
  {
   "cell_type": "code",
   "execution_count": 42,
   "id": "3641c232-7676-4b11-85fe-5eb050115295",
   "metadata": {},
   "outputs": [
    {
     "data": {
      "text/html": [
       "<div>\n",
       "<style scoped>\n",
       "    .dataframe tbody tr th:only-of-type {\n",
       "        vertical-align: middle;\n",
       "    }\n",
       "\n",
       "    .dataframe tbody tr th {\n",
       "        vertical-align: top;\n",
       "    }\n",
       "\n",
       "    .dataframe thead th {\n",
       "        text-align: right;\n",
       "    }\n",
       "</style>\n",
       "<table border=\"1\" class=\"dataframe\">\n",
       "  <thead>\n",
       "    <tr style=\"text-align: right;\">\n",
       "      <th></th>\n",
       "      <th>product_id</th>\n",
       "      <th>product_name</th>\n",
       "      <th>category</th>\n",
       "      <th>discounted_price</th>\n",
       "      <th>actual_price</th>\n",
       "      <th>discount_percentage</th>\n",
       "      <th>rating</th>\n",
       "      <th>rating_count</th>\n",
       "      <th>about_product</th>\n",
       "      <th>user_id</th>\n",
       "      <th>user_name</th>\n",
       "      <th>review_id</th>\n",
       "      <th>review_title</th>\n",
       "      <th>review_content</th>\n",
       "      <th>img_link</th>\n",
       "      <th>product_link</th>\n",
       "    </tr>\n",
       "  </thead>\n",
       "  <tbody>\n",
       "    <tr>\n",
       "      <th>0</th>\n",
       "      <td>B07JW9H4J1</td>\n",
       "      <td>Wayona Nylon Braided USB to Lightning Fast Cha...</td>\n",
       "      <td>Computers&amp;Accessories|Accessories&amp;Peripherals|...</td>\n",
       "      <td>₹399</td>\n",
       "      <td>₹1,099</td>\n",
       "      <td>64%</td>\n",
       "      <td>4.2</td>\n",
       "      <td>24,269</td>\n",
       "      <td>High Compatibility : Compatible With iPhone 12...</td>\n",
       "      <td>AG3D6O4STAQKAY2UVGEUV46KN35Q,AHMY5CWJMMK5BJRBB...</td>\n",
       "      <td>Manav,Adarsh gupta,Sundeep,S.Sayeed Ahmed,jasp...</td>\n",
       "      <td>R3HXWT0LRP0NMF,R2AJM3LFTLZHFO,R6AQJGUP6P86,R1K...</td>\n",
       "      <td>Satisfied,Charging is really fast,Value for mo...</td>\n",
       "      <td>Looks durable Charging is fine tooNo complains...</td>\n",
       "      <td>https://m.media-amazon.com/images/W/WEBP_40237...</td>\n",
       "      <td>https://www.amazon.in/Wayona-Braided-WN3LG1-Sy...</td>\n",
       "    </tr>\n",
       "    <tr>\n",
       "      <th>1</th>\n",
       "      <td>B098NS6PVG</td>\n",
       "      <td>Ambrane Unbreakable 60W / 3A Fast Charging 1.5...</td>\n",
       "      <td>Computers&amp;Accessories|Accessories&amp;Peripherals|...</td>\n",
       "      <td>₹199</td>\n",
       "      <td>₹349</td>\n",
       "      <td>43%</td>\n",
       "      <td>4.0</td>\n",
       "      <td>43,994</td>\n",
       "      <td>Compatible with all Type C enabled devices, be...</td>\n",
       "      <td>AECPFYFQVRUWC3KGNLJIOREFP5LQ,AGYYVPDD7YG7FYNBX...</td>\n",
       "      <td>ArdKn,Nirbhay kumar,Sagar Viswanathan,Asp,Plac...</td>\n",
       "      <td>RGIQEG07R9HS2,R1SMWZQ86XIN8U,R2J3Y1WL29GWDE,RY...</td>\n",
       "      <td>A Good Braided Cable for Your Type C Device,Go...</td>\n",
       "      <td>I ordered this cable to connect my phone to An...</td>\n",
       "      <td>https://m.media-amazon.com/images/W/WEBP_40237...</td>\n",
       "      <td>https://www.amazon.in/Ambrane-Unbreakable-Char...</td>\n",
       "    </tr>\n",
       "    <tr>\n",
       "      <th>2</th>\n",
       "      <td>B096MSW6CT</td>\n",
       "      <td>Sounce Fast Phone Charging Cable &amp; Data Sync U...</td>\n",
       "      <td>Computers&amp;Accessories|Accessories&amp;Peripherals|...</td>\n",
       "      <td>₹199</td>\n",
       "      <td>₹1,899</td>\n",
       "      <td>90%</td>\n",
       "      <td>3.9</td>\n",
       "      <td>7,928</td>\n",
       "      <td>【 Fast Charger&amp; Data Sync】-With built-in safet...</td>\n",
       "      <td>AGU3BBQ2V2DDAMOAKGFAWDDQ6QHA,AESFLDV2PT363T2AQ...</td>\n",
       "      <td>Kunal,Himanshu,viswanath,sai niharka,saqib mal...</td>\n",
       "      <td>R3J3EQQ9TZI5ZJ,R3E7WBGK7ID0KV,RWU79XKQ6I1QF,R2...</td>\n",
       "      <td>Good speed for earlier versions,Good Product,W...</td>\n",
       "      <td>Not quite durable and sturdy,https://m.media-a...</td>\n",
       "      <td>https://m.media-amazon.com/images/W/WEBP_40237...</td>\n",
       "      <td>https://www.amazon.in/Sounce-iPhone-Charging-C...</td>\n",
       "    </tr>\n",
       "    <tr>\n",
       "      <th>3</th>\n",
       "      <td>B08HDJ86NZ</td>\n",
       "      <td>boAt Deuce USB 300 2 in 1 Type-C &amp; Micro USB S...</td>\n",
       "      <td>Computers&amp;Accessories|Accessories&amp;Peripherals|...</td>\n",
       "      <td>₹329</td>\n",
       "      <td>₹699</td>\n",
       "      <td>53%</td>\n",
       "      <td>4.2</td>\n",
       "      <td>94,363</td>\n",
       "      <td>The boAt Deuce USB 300 2 in 1 cable is compati...</td>\n",
       "      <td>AEWAZDZZJLQUYVOVGBEUKSLXHQ5A,AG5HTSFRRE6NL3M5S...</td>\n",
       "      <td>Omkar dhale,JD,HEMALATHA,Ajwadh a.,amar singh ...</td>\n",
       "      <td>R3EEUZKKK9J36I,R3HJVYCLYOY554,REDECAZ7AMPQC,R1...</td>\n",
       "      <td>Good product,Good one,Nice,Really nice product...</td>\n",
       "      <td>Good product,long wire,Charges good,Nice,I bou...</td>\n",
       "      <td>https://m.media-amazon.com/images/I/41V5FtEWPk...</td>\n",
       "      <td>https://www.amazon.in/Deuce-300-Resistant-Tang...</td>\n",
       "    </tr>\n",
       "    <tr>\n",
       "      <th>4</th>\n",
       "      <td>B08CF3B7N1</td>\n",
       "      <td>Portronics Konnect L 1.2M Fast Charging 3A 8 P...</td>\n",
       "      <td>Computers&amp;Accessories|Accessories&amp;Peripherals|...</td>\n",
       "      <td>₹154</td>\n",
       "      <td>₹399</td>\n",
       "      <td>61%</td>\n",
       "      <td>4.2</td>\n",
       "      <td>16,905</td>\n",
       "      <td>[CHARGE &amp; SYNC FUNCTION]- This cable comes wit...</td>\n",
       "      <td>AE3Q6KSUK5P75D5HFYHCRAOLODSA,AFUGIFH5ZAFXRDSZH...</td>\n",
       "      <td>rahuls6099,Swasat Borah,Ajay Wadke,Pranali,RVK...</td>\n",
       "      <td>R1BP4L2HH9TFUP,R16PVJEXKV6QZS,R2UPDB81N66T4P,R...</td>\n",
       "      <td>As good as original,Decent,Good one for second...</td>\n",
       "      <td>Bought this instead of original apple, does th...</td>\n",
       "      <td>https://m.media-amazon.com/images/W/WEBP_40237...</td>\n",
       "      <td>https://www.amazon.in/Portronics-Konnect-POR-1...</td>\n",
       "    </tr>\n",
       "  </tbody>\n",
       "</table>\n",
       "</div>"
      ],
      "text/plain": [
       "   product_id                                       product_name  \\\n",
       "0  B07JW9H4J1  Wayona Nylon Braided USB to Lightning Fast Cha...   \n",
       "1  B098NS6PVG  Ambrane Unbreakable 60W / 3A Fast Charging 1.5...   \n",
       "2  B096MSW6CT  Sounce Fast Phone Charging Cable & Data Sync U...   \n",
       "3  B08HDJ86NZ  boAt Deuce USB 300 2 in 1 Type-C & Micro USB S...   \n",
       "4  B08CF3B7N1  Portronics Konnect L 1.2M Fast Charging 3A 8 P...   \n",
       "\n",
       "                                            category discounted_price  \\\n",
       "0  Computers&Accessories|Accessories&Peripherals|...             ₹399   \n",
       "1  Computers&Accessories|Accessories&Peripherals|...             ₹199   \n",
       "2  Computers&Accessories|Accessories&Peripherals|...             ₹199   \n",
       "3  Computers&Accessories|Accessories&Peripherals|...             ₹329   \n",
       "4  Computers&Accessories|Accessories&Peripherals|...             ₹154   \n",
       "\n",
       "  actual_price discount_percentage rating rating_count  \\\n",
       "0       ₹1,099                 64%    4.2       24,269   \n",
       "1         ₹349                 43%    4.0       43,994   \n",
       "2       ₹1,899                 90%    3.9        7,928   \n",
       "3         ₹699                 53%    4.2       94,363   \n",
       "4         ₹399                 61%    4.2       16,905   \n",
       "\n",
       "                                       about_product  \\\n",
       "0  High Compatibility : Compatible With iPhone 12...   \n",
       "1  Compatible with all Type C enabled devices, be...   \n",
       "2  【 Fast Charger& Data Sync】-With built-in safet...   \n",
       "3  The boAt Deuce USB 300 2 in 1 cable is compati...   \n",
       "4  [CHARGE & SYNC FUNCTION]- This cable comes wit...   \n",
       "\n",
       "                                             user_id  \\\n",
       "0  AG3D6O4STAQKAY2UVGEUV46KN35Q,AHMY5CWJMMK5BJRBB...   \n",
       "1  AECPFYFQVRUWC3KGNLJIOREFP5LQ,AGYYVPDD7YG7FYNBX...   \n",
       "2  AGU3BBQ2V2DDAMOAKGFAWDDQ6QHA,AESFLDV2PT363T2AQ...   \n",
       "3  AEWAZDZZJLQUYVOVGBEUKSLXHQ5A,AG5HTSFRRE6NL3M5S...   \n",
       "4  AE3Q6KSUK5P75D5HFYHCRAOLODSA,AFUGIFH5ZAFXRDSZH...   \n",
       "\n",
       "                                           user_name  \\\n",
       "0  Manav,Adarsh gupta,Sundeep,S.Sayeed Ahmed,jasp...   \n",
       "1  ArdKn,Nirbhay kumar,Sagar Viswanathan,Asp,Plac...   \n",
       "2  Kunal,Himanshu,viswanath,sai niharka,saqib mal...   \n",
       "3  Omkar dhale,JD,HEMALATHA,Ajwadh a.,amar singh ...   \n",
       "4  rahuls6099,Swasat Borah,Ajay Wadke,Pranali,RVK...   \n",
       "\n",
       "                                           review_id  \\\n",
       "0  R3HXWT0LRP0NMF,R2AJM3LFTLZHFO,R6AQJGUP6P86,R1K...   \n",
       "1  RGIQEG07R9HS2,R1SMWZQ86XIN8U,R2J3Y1WL29GWDE,RY...   \n",
       "2  R3J3EQQ9TZI5ZJ,R3E7WBGK7ID0KV,RWU79XKQ6I1QF,R2...   \n",
       "3  R3EEUZKKK9J36I,R3HJVYCLYOY554,REDECAZ7AMPQC,R1...   \n",
       "4  R1BP4L2HH9TFUP,R16PVJEXKV6QZS,R2UPDB81N66T4P,R...   \n",
       "\n",
       "                                        review_title  \\\n",
       "0  Satisfied,Charging is really fast,Value for mo...   \n",
       "1  A Good Braided Cable for Your Type C Device,Go...   \n",
       "2  Good speed for earlier versions,Good Product,W...   \n",
       "3  Good product,Good one,Nice,Really nice product...   \n",
       "4  As good as original,Decent,Good one for second...   \n",
       "\n",
       "                                      review_content  \\\n",
       "0  Looks durable Charging is fine tooNo complains...   \n",
       "1  I ordered this cable to connect my phone to An...   \n",
       "2  Not quite durable and sturdy,https://m.media-a...   \n",
       "3  Good product,long wire,Charges good,Nice,I bou...   \n",
       "4  Bought this instead of original apple, does th...   \n",
       "\n",
       "                                            img_link  \\\n",
       "0  https://m.media-amazon.com/images/W/WEBP_40237...   \n",
       "1  https://m.media-amazon.com/images/W/WEBP_40237...   \n",
       "2  https://m.media-amazon.com/images/W/WEBP_40237...   \n",
       "3  https://m.media-amazon.com/images/I/41V5FtEWPk...   \n",
       "4  https://m.media-amazon.com/images/W/WEBP_40237...   \n",
       "\n",
       "                                        product_link  \n",
       "0  https://www.amazon.in/Wayona-Braided-WN3LG1-Sy...  \n",
       "1  https://www.amazon.in/Ambrane-Unbreakable-Char...  \n",
       "2  https://www.amazon.in/Sounce-iPhone-Charging-C...  \n",
       "3  https://www.amazon.in/Deuce-300-Resistant-Tang...  \n",
       "4  https://www.amazon.in/Portronics-Konnect-POR-1...  "
      ]
     },
     "execution_count": 42,
     "metadata": {},
     "output_type": "execute_result"
    }
   ],
   "source": [
    "df.head()"
   ]
  },
  {
   "cell_type": "code",
   "execution_count": 43,
   "id": "70abc23a-c561-4424-a2f9-c8fc6af3f4c0",
   "metadata": {},
   "outputs": [
    {
     "data": {
      "text/plain": [
       "product_id                                                    B07JW9H4J1\n",
       "product_name           Wayona Nylon Braided USB to Lightning Fast Cha...\n",
       "category               Computers&Accessories|Accessories&Peripherals|...\n",
       "discounted_price                                                    ₹399\n",
       "actual_price                                                      ₹1,099\n",
       "discount_percentage                                                  64%\n",
       "rating                                                               4.2\n",
       "rating_count                                                      24,269\n",
       "about_product          High Compatibility : Compatible With iPhone 12...\n",
       "user_id                AG3D6O4STAQKAY2UVGEUV46KN35Q,AHMY5CWJMMK5BJRBB...\n",
       "user_name              Manav,Adarsh gupta,Sundeep,S.Sayeed Ahmed,jasp...\n",
       "review_id              R3HXWT0LRP0NMF,R2AJM3LFTLZHFO,R6AQJGUP6P86,R1K...\n",
       "review_title           Satisfied,Charging is really fast,Value for mo...\n",
       "review_content         Looks durable Charging is fine tooNo complains...\n",
       "img_link               https://m.media-amazon.com/images/W/WEBP_40237...\n",
       "product_link           https://www.amazon.in/Wayona-Braided-WN3LG1-Sy...\n",
       "Name: 0, dtype: object"
      ]
     },
     "execution_count": 43,
     "metadata": {},
     "output_type": "execute_result"
    }
   ],
   "source": [
    "df.loc[0]"
   ]
  },
  {
   "cell_type": "code",
   "execution_count": 44,
   "id": "3f272906-fece-4f2f-912d-8e58683b1ce7",
   "metadata": {},
   "outputs": [
    {
     "data": {
      "text/plain": [
       "(1465, 16)"
      ]
     },
     "execution_count": 44,
     "metadata": {},
     "output_type": "execute_result"
    }
   ],
   "source": [
    "df.shape"
   ]
  },
  {
   "cell_type": "code",
   "execution_count": 45,
   "id": "8a281539-0bdf-4999-b8e4-8832b4bdc6c0",
   "metadata": {},
   "outputs": [
    {
     "name": "stdout",
     "output_type": "stream",
     "text": [
      "len(X): 211\n"
     ]
    }
   ],
   "source": [
    "X = df[\"category\"].unique()\n",
    "print(\"len(X):\", len(X))"
   ]
  },
  {
   "cell_type": "code",
   "execution_count": 47,
   "id": "f0e3900d-0da7-4814-825f-b0c055d6a96c",
   "metadata": {},
   "outputs": [
    {
     "name": "stdout",
     "output_type": "stream",
     "text": [
      "Electronics|HomeTheater,TV&Video|Televisions|SmartTelevisions\n"
     ]
    }
   ],
   "source": [
    "category = X[3]\n",
    "print(category)"
   ]
  },
  {
   "cell_type": "code",
   "execution_count": 48,
   "id": "a6a3efa5-12bb-4faa-b29d-b1e18371a949",
   "metadata": {},
   "outputs": [
    {
     "data": {
      "text/plain": [
       "(63, 16)"
      ]
     },
     "execution_count": 48,
     "metadata": {},
     "output_type": "execute_result"
    }
   ],
   "source": [
    "df2 = df[df[\"category\"] == category]\n",
    "df2.shape"
   ]
  },
  {
   "cell_type": "code",
   "execution_count": 50,
   "id": "78728fb8-1aaa-4591-8945-9fad8e731cad",
   "metadata": {},
   "outputs": [
    {
     "data": {
      "text/plain": [
       "63"
      ]
     },
     "execution_count": 50,
     "metadata": {},
     "output_type": "execute_result"
    }
   ],
   "source": [
    "M5 = df2[\"review_content\"].to_list()\n",
    "len(M5)"
   ]
  },
  {
   "cell_type": "code",
   "execution_count": 51,
   "id": "f835764f-131d-4bce-a275-e8d4d5564e90",
   "metadata": {},
   "outputs": [
    {
     "name": "stderr",
     "output_type": "stream",
     "text": [
      "Token indices sequence length is longer than the specified maximum sequence length for this model (1222 > 512). Running this sequence through the model will result in indexing errors\n"
     ]
    },
    {
     "ename": "RuntimeError",
     "evalue": "The size of tensor a (1222) must match the size of tensor b (512) at non-singleton dimension 1",
     "output_type": "error",
     "traceback": [
      "\u001b[0;31m---------------------------------------------------------------------------\u001b[0m",
      "\u001b[0;31mRuntimeError\u001b[0m                              Traceback (most recent call last)",
      "Cell \u001b[0;32mIn[51], line 2\u001b[0m\n\u001b[1;32m      1\u001b[0m t1 \u001b[38;5;241m=\u001b[39m timer()\n\u001b[0;32m----> 2\u001b[0m R5 \u001b[38;5;241m=\u001b[39m \u001b[43mclassifier\u001b[49m\u001b[43m(\u001b[49m\u001b[43mM5\u001b[49m\u001b[43m)\u001b[49m\n\u001b[1;32m      3\u001b[0m t1\u001b[38;5;241m.\u001b[39mstopandprint()\n",
      "File \u001b[0;32m~/anaconda3/envs/hugs/lib/python3.9/site-packages/transformers/pipelines/text_classification.py:156\u001b[0m, in \u001b[0;36mTextClassificationPipeline.__call__\u001b[0;34m(self, *args, **kwargs)\u001b[0m\n\u001b[1;32m    122\u001b[0m \u001b[38;5;28;01mdef\u001b[39;00m \u001b[38;5;21m__call__\u001b[39m(\u001b[38;5;28mself\u001b[39m, \u001b[38;5;241m*\u001b[39margs, \u001b[38;5;241m*\u001b[39m\u001b[38;5;241m*\u001b[39mkwargs):\n\u001b[1;32m    123\u001b[0m \u001b[38;5;250m    \u001b[39m\u001b[38;5;124;03m\"\"\"\u001b[39;00m\n\u001b[1;32m    124\u001b[0m \u001b[38;5;124;03m    Classify the text(s) given as inputs.\u001b[39;00m\n\u001b[1;32m    125\u001b[0m \n\u001b[0;32m   (...)\u001b[0m\n\u001b[1;32m    154\u001b[0m \u001b[38;5;124;03m        If `top_k` is used, one such dictionary is returned per label.\u001b[39;00m\n\u001b[1;32m    155\u001b[0m \u001b[38;5;124;03m    \"\"\"\u001b[39;00m\n\u001b[0;32m--> 156\u001b[0m     result \u001b[38;5;241m=\u001b[39m \u001b[38;5;28;43msuper\u001b[39;49m\u001b[43m(\u001b[49m\u001b[43m)\u001b[49m\u001b[38;5;241;43m.\u001b[39;49m\u001b[38;5;21;43m__call__\u001b[39;49m\u001b[43m(\u001b[49m\u001b[38;5;241;43m*\u001b[39;49m\u001b[43margs\u001b[49m\u001b[43m,\u001b[49m\u001b[43m \u001b[49m\u001b[38;5;241;43m*\u001b[39;49m\u001b[38;5;241;43m*\u001b[39;49m\u001b[43mkwargs\u001b[49m\u001b[43m)\u001b[49m\n\u001b[1;32m    157\u001b[0m     \u001b[38;5;66;03m# TODO try and retrieve it in a nicer way from _sanitize_parameters.\u001b[39;00m\n\u001b[1;32m    158\u001b[0m     _legacy \u001b[38;5;241m=\u001b[39m \u001b[38;5;124m\"\u001b[39m\u001b[38;5;124mtop_k\u001b[39m\u001b[38;5;124m\"\u001b[39m \u001b[38;5;129;01mnot\u001b[39;00m \u001b[38;5;129;01min\u001b[39;00m kwargs\n",
      "File \u001b[0;32m~/anaconda3/envs/hugs/lib/python3.9/site-packages/transformers/pipelines/base.py:1110\u001b[0m, in \u001b[0;36mPipeline.__call__\u001b[0;34m(self, inputs, num_workers, batch_size, *args, **kwargs)\u001b[0m\n\u001b[1;32m   1106\u001b[0m \u001b[38;5;28;01mif\u001b[39;00m can_use_iterator:\n\u001b[1;32m   1107\u001b[0m     final_iterator \u001b[38;5;241m=\u001b[39m \u001b[38;5;28mself\u001b[39m\u001b[38;5;241m.\u001b[39mget_iterator(\n\u001b[1;32m   1108\u001b[0m         inputs, num_workers, batch_size, preprocess_params, forward_params, postprocess_params\n\u001b[1;32m   1109\u001b[0m     )\n\u001b[0;32m-> 1110\u001b[0m     outputs \u001b[38;5;241m=\u001b[39m \u001b[38;5;28;43mlist\u001b[39;49m\u001b[43m(\u001b[49m\u001b[43mfinal_iterator\u001b[49m\u001b[43m)\u001b[49m\n\u001b[1;32m   1111\u001b[0m     \u001b[38;5;28;01mreturn\u001b[39;00m outputs\n\u001b[1;32m   1112\u001b[0m \u001b[38;5;28;01melse\u001b[39;00m:\n",
      "File \u001b[0;32m~/anaconda3/envs/hugs/lib/python3.9/site-packages/transformers/pipelines/pt_utils.py:124\u001b[0m, in \u001b[0;36mPipelineIterator.__next__\u001b[0;34m(self)\u001b[0m\n\u001b[1;32m    121\u001b[0m     \u001b[38;5;28;01mreturn\u001b[39;00m \u001b[38;5;28mself\u001b[39m\u001b[38;5;241m.\u001b[39mloader_batch_item()\n\u001b[1;32m    123\u001b[0m \u001b[38;5;66;03m# We're out of items within a batch\u001b[39;00m\n\u001b[0;32m--> 124\u001b[0m item \u001b[38;5;241m=\u001b[39m \u001b[38;5;28;43mnext\u001b[39;49m\u001b[43m(\u001b[49m\u001b[38;5;28;43mself\u001b[39;49m\u001b[38;5;241;43m.\u001b[39;49m\u001b[43miterator\u001b[49m\u001b[43m)\u001b[49m\n\u001b[1;32m    125\u001b[0m processed \u001b[38;5;241m=\u001b[39m \u001b[38;5;28mself\u001b[39m\u001b[38;5;241m.\u001b[39minfer(item, \u001b[38;5;241m*\u001b[39m\u001b[38;5;241m*\u001b[39m\u001b[38;5;28mself\u001b[39m\u001b[38;5;241m.\u001b[39mparams)\n\u001b[1;32m    126\u001b[0m \u001b[38;5;66;03m# We now have a batch of \"inferred things\".\u001b[39;00m\n",
      "File \u001b[0;32m~/anaconda3/envs/hugs/lib/python3.9/site-packages/transformers/pipelines/pt_utils.py:125\u001b[0m, in \u001b[0;36mPipelineIterator.__next__\u001b[0;34m(self)\u001b[0m\n\u001b[1;32m    123\u001b[0m \u001b[38;5;66;03m# We're out of items within a batch\u001b[39;00m\n\u001b[1;32m    124\u001b[0m item \u001b[38;5;241m=\u001b[39m \u001b[38;5;28mnext\u001b[39m(\u001b[38;5;28mself\u001b[39m\u001b[38;5;241m.\u001b[39miterator)\n\u001b[0;32m--> 125\u001b[0m processed \u001b[38;5;241m=\u001b[39m \u001b[38;5;28;43mself\u001b[39;49m\u001b[38;5;241;43m.\u001b[39;49m\u001b[43minfer\u001b[49m\u001b[43m(\u001b[49m\u001b[43mitem\u001b[49m\u001b[43m,\u001b[49m\u001b[43m \u001b[49m\u001b[38;5;241;43m*\u001b[39;49m\u001b[38;5;241;43m*\u001b[39;49m\u001b[38;5;28;43mself\u001b[39;49m\u001b[38;5;241;43m.\u001b[39;49m\u001b[43mparams\u001b[49m\u001b[43m)\u001b[49m\n\u001b[1;32m    126\u001b[0m \u001b[38;5;66;03m# We now have a batch of \"inferred things\".\u001b[39;00m\n\u001b[1;32m    127\u001b[0m \u001b[38;5;28;01mif\u001b[39;00m \u001b[38;5;28mself\u001b[39m\u001b[38;5;241m.\u001b[39mloader_batch_size \u001b[38;5;129;01mis\u001b[39;00m \u001b[38;5;129;01mnot\u001b[39;00m \u001b[38;5;28;01mNone\u001b[39;00m:\n\u001b[1;32m    128\u001b[0m     \u001b[38;5;66;03m# Try to infer the size of the batch\u001b[39;00m\n",
      "File \u001b[0;32m~/anaconda3/envs/hugs/lib/python3.9/site-packages/transformers/pipelines/base.py:1035\u001b[0m, in \u001b[0;36mPipeline.forward\u001b[0;34m(self, model_inputs, **forward_params)\u001b[0m\n\u001b[1;32m   1033\u001b[0m     \u001b[38;5;28;01mwith\u001b[39;00m inference_context():\n\u001b[1;32m   1034\u001b[0m         model_inputs \u001b[38;5;241m=\u001b[39m \u001b[38;5;28mself\u001b[39m\u001b[38;5;241m.\u001b[39m_ensure_tensor_on_device(model_inputs, device\u001b[38;5;241m=\u001b[39m\u001b[38;5;28mself\u001b[39m\u001b[38;5;241m.\u001b[39mdevice)\n\u001b[0;32m-> 1035\u001b[0m         model_outputs \u001b[38;5;241m=\u001b[39m \u001b[38;5;28;43mself\u001b[39;49m\u001b[38;5;241;43m.\u001b[39;49m\u001b[43m_forward\u001b[49m\u001b[43m(\u001b[49m\u001b[43mmodel_inputs\u001b[49m\u001b[43m,\u001b[49m\u001b[43m \u001b[49m\u001b[38;5;241;43m*\u001b[39;49m\u001b[38;5;241;43m*\u001b[39;49m\u001b[43mforward_params\u001b[49m\u001b[43m)\u001b[49m\n\u001b[1;32m   1036\u001b[0m         model_outputs \u001b[38;5;241m=\u001b[39m \u001b[38;5;28mself\u001b[39m\u001b[38;5;241m.\u001b[39m_ensure_tensor_on_device(model_outputs, device\u001b[38;5;241m=\u001b[39mtorch\u001b[38;5;241m.\u001b[39mdevice(\u001b[38;5;124m\"\u001b[39m\u001b[38;5;124mcpu\u001b[39m\u001b[38;5;124m\"\u001b[39m))\n\u001b[1;32m   1037\u001b[0m \u001b[38;5;28;01melse\u001b[39;00m:\n",
      "File \u001b[0;32m~/anaconda3/envs/hugs/lib/python3.9/site-packages/transformers/pipelines/text_classification.py:187\u001b[0m, in \u001b[0;36mTextClassificationPipeline._forward\u001b[0;34m(self, model_inputs)\u001b[0m\n\u001b[1;32m    185\u001b[0m \u001b[38;5;28;01mif\u001b[39;00m \u001b[38;5;124m\"\u001b[39m\u001b[38;5;124muse_cache\u001b[39m\u001b[38;5;124m\"\u001b[39m \u001b[38;5;129;01min\u001b[39;00m inspect\u001b[38;5;241m.\u001b[39msignature(model_forward)\u001b[38;5;241m.\u001b[39mparameters\u001b[38;5;241m.\u001b[39mkeys():\n\u001b[1;32m    186\u001b[0m     model_inputs[\u001b[38;5;124m\"\u001b[39m\u001b[38;5;124muse_cache\u001b[39m\u001b[38;5;124m\"\u001b[39m] \u001b[38;5;241m=\u001b[39m \u001b[38;5;28;01mFalse\u001b[39;00m\n\u001b[0;32m--> 187\u001b[0m \u001b[38;5;28;01mreturn\u001b[39;00m \u001b[38;5;28;43mself\u001b[39;49m\u001b[38;5;241;43m.\u001b[39;49m\u001b[43mmodel\u001b[49m\u001b[43m(\u001b[49m\u001b[38;5;241;43m*\u001b[39;49m\u001b[38;5;241;43m*\u001b[39;49m\u001b[43mmodel_inputs\u001b[49m\u001b[43m)\u001b[49m\n",
      "File \u001b[0;32m~/anaconda3/envs/hugs/lib/python3.9/site-packages/torch/nn/modules/module.py:1518\u001b[0m, in \u001b[0;36mModule._wrapped_call_impl\u001b[0;34m(self, *args, **kwargs)\u001b[0m\n\u001b[1;32m   1516\u001b[0m     \u001b[38;5;28;01mreturn\u001b[39;00m \u001b[38;5;28mself\u001b[39m\u001b[38;5;241m.\u001b[39m_compiled_call_impl(\u001b[38;5;241m*\u001b[39margs, \u001b[38;5;241m*\u001b[39m\u001b[38;5;241m*\u001b[39mkwargs)  \u001b[38;5;66;03m# type: ignore[misc]\u001b[39;00m\n\u001b[1;32m   1517\u001b[0m \u001b[38;5;28;01melse\u001b[39;00m:\n\u001b[0;32m-> 1518\u001b[0m     \u001b[38;5;28;01mreturn\u001b[39;00m \u001b[38;5;28;43mself\u001b[39;49m\u001b[38;5;241;43m.\u001b[39;49m\u001b[43m_call_impl\u001b[49m\u001b[43m(\u001b[49m\u001b[38;5;241;43m*\u001b[39;49m\u001b[43margs\u001b[49m\u001b[43m,\u001b[49m\u001b[43m \u001b[49m\u001b[38;5;241;43m*\u001b[39;49m\u001b[38;5;241;43m*\u001b[39;49m\u001b[43mkwargs\u001b[49m\u001b[43m)\u001b[49m\n",
      "File \u001b[0;32m~/anaconda3/envs/hugs/lib/python3.9/site-packages/torch/nn/modules/module.py:1527\u001b[0m, in \u001b[0;36mModule._call_impl\u001b[0;34m(self, *args, **kwargs)\u001b[0m\n\u001b[1;32m   1522\u001b[0m \u001b[38;5;66;03m# If we don't have any hooks, we want to skip the rest of the logic in\u001b[39;00m\n\u001b[1;32m   1523\u001b[0m \u001b[38;5;66;03m# this function, and just call forward.\u001b[39;00m\n\u001b[1;32m   1524\u001b[0m \u001b[38;5;28;01mif\u001b[39;00m \u001b[38;5;129;01mnot\u001b[39;00m (\u001b[38;5;28mself\u001b[39m\u001b[38;5;241m.\u001b[39m_backward_hooks \u001b[38;5;129;01mor\u001b[39;00m \u001b[38;5;28mself\u001b[39m\u001b[38;5;241m.\u001b[39m_backward_pre_hooks \u001b[38;5;129;01mor\u001b[39;00m \u001b[38;5;28mself\u001b[39m\u001b[38;5;241m.\u001b[39m_forward_hooks \u001b[38;5;129;01mor\u001b[39;00m \u001b[38;5;28mself\u001b[39m\u001b[38;5;241m.\u001b[39m_forward_pre_hooks\n\u001b[1;32m   1525\u001b[0m         \u001b[38;5;129;01mor\u001b[39;00m _global_backward_pre_hooks \u001b[38;5;129;01mor\u001b[39;00m _global_backward_hooks\n\u001b[1;32m   1526\u001b[0m         \u001b[38;5;129;01mor\u001b[39;00m _global_forward_hooks \u001b[38;5;129;01mor\u001b[39;00m _global_forward_pre_hooks):\n\u001b[0;32m-> 1527\u001b[0m     \u001b[38;5;28;01mreturn\u001b[39;00m \u001b[43mforward_call\u001b[49m\u001b[43m(\u001b[49m\u001b[38;5;241;43m*\u001b[39;49m\u001b[43margs\u001b[49m\u001b[43m,\u001b[49m\u001b[43m \u001b[49m\u001b[38;5;241;43m*\u001b[39;49m\u001b[38;5;241;43m*\u001b[39;49m\u001b[43mkwargs\u001b[49m\u001b[43m)\u001b[49m\n\u001b[1;32m   1529\u001b[0m \u001b[38;5;28;01mtry\u001b[39;00m:\n\u001b[1;32m   1530\u001b[0m     result \u001b[38;5;241m=\u001b[39m \u001b[38;5;28;01mNone\u001b[39;00m\n",
      "File \u001b[0;32m~/anaconda3/envs/hugs/lib/python3.9/site-packages/transformers/models/distilbert/modeling_distilbert.py:789\u001b[0m, in \u001b[0;36mDistilBertForSequenceClassification.forward\u001b[0;34m(self, input_ids, attention_mask, head_mask, inputs_embeds, labels, output_attentions, output_hidden_states, return_dict)\u001b[0m\n\u001b[1;32m    781\u001b[0m \u001b[38;5;250m\u001b[39m\u001b[38;5;124mr\u001b[39m\u001b[38;5;124;03m\"\"\"\u001b[39;00m\n\u001b[1;32m    782\u001b[0m \u001b[38;5;124;03mlabels (`torch.LongTensor` of shape `(batch_size,)`, *optional*):\u001b[39;00m\n\u001b[1;32m    783\u001b[0m \u001b[38;5;124;03m    Labels for computing the sequence classification/regression loss. Indices should be in `[0, ...,\u001b[39;00m\n\u001b[1;32m    784\u001b[0m \u001b[38;5;124;03m    config.num_labels - 1]`. If `config.num_labels == 1` a regression loss is computed (Mean-Square loss), If\u001b[39;00m\n\u001b[1;32m    785\u001b[0m \u001b[38;5;124;03m    `config.num_labels > 1` a classification loss is computed (Cross-Entropy).\u001b[39;00m\n\u001b[1;32m    786\u001b[0m \u001b[38;5;124;03m\"\"\"\u001b[39;00m\n\u001b[1;32m    787\u001b[0m return_dict \u001b[38;5;241m=\u001b[39m return_dict \u001b[38;5;28;01mif\u001b[39;00m return_dict \u001b[38;5;129;01mis\u001b[39;00m \u001b[38;5;129;01mnot\u001b[39;00m \u001b[38;5;28;01mNone\u001b[39;00m \u001b[38;5;28;01melse\u001b[39;00m \u001b[38;5;28mself\u001b[39m\u001b[38;5;241m.\u001b[39mconfig\u001b[38;5;241m.\u001b[39muse_return_dict\n\u001b[0;32m--> 789\u001b[0m distilbert_output \u001b[38;5;241m=\u001b[39m \u001b[38;5;28;43mself\u001b[39;49m\u001b[38;5;241;43m.\u001b[39;49m\u001b[43mdistilbert\u001b[49m\u001b[43m(\u001b[49m\n\u001b[1;32m    790\u001b[0m \u001b[43m    \u001b[49m\u001b[43minput_ids\u001b[49m\u001b[38;5;241;43m=\u001b[39;49m\u001b[43minput_ids\u001b[49m\u001b[43m,\u001b[49m\n\u001b[1;32m    791\u001b[0m \u001b[43m    \u001b[49m\u001b[43mattention_mask\u001b[49m\u001b[38;5;241;43m=\u001b[39;49m\u001b[43mattention_mask\u001b[49m\u001b[43m,\u001b[49m\n\u001b[1;32m    792\u001b[0m \u001b[43m    \u001b[49m\u001b[43mhead_mask\u001b[49m\u001b[38;5;241;43m=\u001b[39;49m\u001b[43mhead_mask\u001b[49m\u001b[43m,\u001b[49m\n\u001b[1;32m    793\u001b[0m \u001b[43m    \u001b[49m\u001b[43minputs_embeds\u001b[49m\u001b[38;5;241;43m=\u001b[39;49m\u001b[43minputs_embeds\u001b[49m\u001b[43m,\u001b[49m\n\u001b[1;32m    794\u001b[0m \u001b[43m    \u001b[49m\u001b[43moutput_attentions\u001b[49m\u001b[38;5;241;43m=\u001b[39;49m\u001b[43moutput_attentions\u001b[49m\u001b[43m,\u001b[49m\n\u001b[1;32m    795\u001b[0m \u001b[43m    \u001b[49m\u001b[43moutput_hidden_states\u001b[49m\u001b[38;5;241;43m=\u001b[39;49m\u001b[43moutput_hidden_states\u001b[49m\u001b[43m,\u001b[49m\n\u001b[1;32m    796\u001b[0m \u001b[43m    \u001b[49m\u001b[43mreturn_dict\u001b[49m\u001b[38;5;241;43m=\u001b[39;49m\u001b[43mreturn_dict\u001b[49m\u001b[43m,\u001b[49m\n\u001b[1;32m    797\u001b[0m \u001b[43m\u001b[49m\u001b[43m)\u001b[49m\n\u001b[1;32m    798\u001b[0m hidden_state \u001b[38;5;241m=\u001b[39m distilbert_output[\u001b[38;5;241m0\u001b[39m]  \u001b[38;5;66;03m# (bs, seq_len, dim)\u001b[39;00m\n\u001b[1;32m    799\u001b[0m pooled_output \u001b[38;5;241m=\u001b[39m hidden_state[:, \u001b[38;5;241m0\u001b[39m]  \u001b[38;5;66;03m# (bs, dim)\u001b[39;00m\n",
      "File \u001b[0;32m~/anaconda3/envs/hugs/lib/python3.9/site-packages/torch/nn/modules/module.py:1518\u001b[0m, in \u001b[0;36mModule._wrapped_call_impl\u001b[0;34m(self, *args, **kwargs)\u001b[0m\n\u001b[1;32m   1516\u001b[0m     \u001b[38;5;28;01mreturn\u001b[39;00m \u001b[38;5;28mself\u001b[39m\u001b[38;5;241m.\u001b[39m_compiled_call_impl(\u001b[38;5;241m*\u001b[39margs, \u001b[38;5;241m*\u001b[39m\u001b[38;5;241m*\u001b[39mkwargs)  \u001b[38;5;66;03m# type: ignore[misc]\u001b[39;00m\n\u001b[1;32m   1517\u001b[0m \u001b[38;5;28;01melse\u001b[39;00m:\n\u001b[0;32m-> 1518\u001b[0m     \u001b[38;5;28;01mreturn\u001b[39;00m \u001b[38;5;28;43mself\u001b[39;49m\u001b[38;5;241;43m.\u001b[39;49m\u001b[43m_call_impl\u001b[49m\u001b[43m(\u001b[49m\u001b[38;5;241;43m*\u001b[39;49m\u001b[43margs\u001b[49m\u001b[43m,\u001b[49m\u001b[43m \u001b[49m\u001b[38;5;241;43m*\u001b[39;49m\u001b[38;5;241;43m*\u001b[39;49m\u001b[43mkwargs\u001b[49m\u001b[43m)\u001b[49m\n",
      "File \u001b[0;32m~/anaconda3/envs/hugs/lib/python3.9/site-packages/torch/nn/modules/module.py:1527\u001b[0m, in \u001b[0;36mModule._call_impl\u001b[0;34m(self, *args, **kwargs)\u001b[0m\n\u001b[1;32m   1522\u001b[0m \u001b[38;5;66;03m# If we don't have any hooks, we want to skip the rest of the logic in\u001b[39;00m\n\u001b[1;32m   1523\u001b[0m \u001b[38;5;66;03m# this function, and just call forward.\u001b[39;00m\n\u001b[1;32m   1524\u001b[0m \u001b[38;5;28;01mif\u001b[39;00m \u001b[38;5;129;01mnot\u001b[39;00m (\u001b[38;5;28mself\u001b[39m\u001b[38;5;241m.\u001b[39m_backward_hooks \u001b[38;5;129;01mor\u001b[39;00m \u001b[38;5;28mself\u001b[39m\u001b[38;5;241m.\u001b[39m_backward_pre_hooks \u001b[38;5;129;01mor\u001b[39;00m \u001b[38;5;28mself\u001b[39m\u001b[38;5;241m.\u001b[39m_forward_hooks \u001b[38;5;129;01mor\u001b[39;00m \u001b[38;5;28mself\u001b[39m\u001b[38;5;241m.\u001b[39m_forward_pre_hooks\n\u001b[1;32m   1525\u001b[0m         \u001b[38;5;129;01mor\u001b[39;00m _global_backward_pre_hooks \u001b[38;5;129;01mor\u001b[39;00m _global_backward_hooks\n\u001b[1;32m   1526\u001b[0m         \u001b[38;5;129;01mor\u001b[39;00m _global_forward_hooks \u001b[38;5;129;01mor\u001b[39;00m _global_forward_pre_hooks):\n\u001b[0;32m-> 1527\u001b[0m     \u001b[38;5;28;01mreturn\u001b[39;00m \u001b[43mforward_call\u001b[49m\u001b[43m(\u001b[49m\u001b[38;5;241;43m*\u001b[39;49m\u001b[43margs\u001b[49m\u001b[43m,\u001b[49m\u001b[43m \u001b[49m\u001b[38;5;241;43m*\u001b[39;49m\u001b[38;5;241;43m*\u001b[39;49m\u001b[43mkwargs\u001b[49m\u001b[43m)\u001b[49m\n\u001b[1;32m   1529\u001b[0m \u001b[38;5;28;01mtry\u001b[39;00m:\n\u001b[1;32m   1530\u001b[0m     result \u001b[38;5;241m=\u001b[39m \u001b[38;5;28;01mNone\u001b[39;00m\n",
      "File \u001b[0;32m~/anaconda3/envs/hugs/lib/python3.9/site-packages/transformers/models/distilbert/modeling_distilbert.py:607\u001b[0m, in \u001b[0;36mDistilBertModel.forward\u001b[0;34m(self, input_ids, attention_mask, head_mask, inputs_embeds, output_attentions, output_hidden_states, return_dict)\u001b[0m\n\u001b[1;32m    604\u001b[0m \u001b[38;5;66;03m# Prepare head mask if needed\u001b[39;00m\n\u001b[1;32m    605\u001b[0m head_mask \u001b[38;5;241m=\u001b[39m \u001b[38;5;28mself\u001b[39m\u001b[38;5;241m.\u001b[39mget_head_mask(head_mask, \u001b[38;5;28mself\u001b[39m\u001b[38;5;241m.\u001b[39mconfig\u001b[38;5;241m.\u001b[39mnum_hidden_layers)\n\u001b[0;32m--> 607\u001b[0m embeddings \u001b[38;5;241m=\u001b[39m \u001b[38;5;28;43mself\u001b[39;49m\u001b[38;5;241;43m.\u001b[39;49m\u001b[43membeddings\u001b[49m\u001b[43m(\u001b[49m\u001b[43minput_ids\u001b[49m\u001b[43m,\u001b[49m\u001b[43m \u001b[49m\u001b[43minputs_embeds\u001b[49m\u001b[43m)\u001b[49m  \u001b[38;5;66;03m# (bs, seq_length, dim)\u001b[39;00m\n\u001b[1;32m    609\u001b[0m \u001b[38;5;28;01mreturn\u001b[39;00m \u001b[38;5;28mself\u001b[39m\u001b[38;5;241m.\u001b[39mtransformer(\n\u001b[1;32m    610\u001b[0m     x\u001b[38;5;241m=\u001b[39membeddings,\n\u001b[1;32m    611\u001b[0m     attn_mask\u001b[38;5;241m=\u001b[39mattention_mask,\n\u001b[0;32m   (...)\u001b[0m\n\u001b[1;32m    615\u001b[0m     return_dict\u001b[38;5;241m=\u001b[39mreturn_dict,\n\u001b[1;32m    616\u001b[0m )\n",
      "File \u001b[0;32m~/anaconda3/envs/hugs/lib/python3.9/site-packages/torch/nn/modules/module.py:1518\u001b[0m, in \u001b[0;36mModule._wrapped_call_impl\u001b[0;34m(self, *args, **kwargs)\u001b[0m\n\u001b[1;32m   1516\u001b[0m     \u001b[38;5;28;01mreturn\u001b[39;00m \u001b[38;5;28mself\u001b[39m\u001b[38;5;241m.\u001b[39m_compiled_call_impl(\u001b[38;5;241m*\u001b[39margs, \u001b[38;5;241m*\u001b[39m\u001b[38;5;241m*\u001b[39mkwargs)  \u001b[38;5;66;03m# type: ignore[misc]\u001b[39;00m\n\u001b[1;32m   1517\u001b[0m \u001b[38;5;28;01melse\u001b[39;00m:\n\u001b[0;32m-> 1518\u001b[0m     \u001b[38;5;28;01mreturn\u001b[39;00m \u001b[38;5;28;43mself\u001b[39;49m\u001b[38;5;241;43m.\u001b[39;49m\u001b[43m_call_impl\u001b[49m\u001b[43m(\u001b[49m\u001b[38;5;241;43m*\u001b[39;49m\u001b[43margs\u001b[49m\u001b[43m,\u001b[49m\u001b[43m \u001b[49m\u001b[38;5;241;43m*\u001b[39;49m\u001b[38;5;241;43m*\u001b[39;49m\u001b[43mkwargs\u001b[49m\u001b[43m)\u001b[49m\n",
      "File \u001b[0;32m~/anaconda3/envs/hugs/lib/python3.9/site-packages/torch/nn/modules/module.py:1527\u001b[0m, in \u001b[0;36mModule._call_impl\u001b[0;34m(self, *args, **kwargs)\u001b[0m\n\u001b[1;32m   1522\u001b[0m \u001b[38;5;66;03m# If we don't have any hooks, we want to skip the rest of the logic in\u001b[39;00m\n\u001b[1;32m   1523\u001b[0m \u001b[38;5;66;03m# this function, and just call forward.\u001b[39;00m\n\u001b[1;32m   1524\u001b[0m \u001b[38;5;28;01mif\u001b[39;00m \u001b[38;5;129;01mnot\u001b[39;00m (\u001b[38;5;28mself\u001b[39m\u001b[38;5;241m.\u001b[39m_backward_hooks \u001b[38;5;129;01mor\u001b[39;00m \u001b[38;5;28mself\u001b[39m\u001b[38;5;241m.\u001b[39m_backward_pre_hooks \u001b[38;5;129;01mor\u001b[39;00m \u001b[38;5;28mself\u001b[39m\u001b[38;5;241m.\u001b[39m_forward_hooks \u001b[38;5;129;01mor\u001b[39;00m \u001b[38;5;28mself\u001b[39m\u001b[38;5;241m.\u001b[39m_forward_pre_hooks\n\u001b[1;32m   1525\u001b[0m         \u001b[38;5;129;01mor\u001b[39;00m _global_backward_pre_hooks \u001b[38;5;129;01mor\u001b[39;00m _global_backward_hooks\n\u001b[1;32m   1526\u001b[0m         \u001b[38;5;129;01mor\u001b[39;00m _global_forward_hooks \u001b[38;5;129;01mor\u001b[39;00m _global_forward_pre_hooks):\n\u001b[0;32m-> 1527\u001b[0m     \u001b[38;5;28;01mreturn\u001b[39;00m \u001b[43mforward_call\u001b[49m\u001b[43m(\u001b[49m\u001b[38;5;241;43m*\u001b[39;49m\u001b[43margs\u001b[49m\u001b[43m,\u001b[49m\u001b[43m \u001b[49m\u001b[38;5;241;43m*\u001b[39;49m\u001b[38;5;241;43m*\u001b[39;49m\u001b[43mkwargs\u001b[49m\u001b[43m)\u001b[49m\n\u001b[1;32m   1529\u001b[0m \u001b[38;5;28;01mtry\u001b[39;00m:\n\u001b[1;32m   1530\u001b[0m     result \u001b[38;5;241m=\u001b[39m \u001b[38;5;28;01mNone\u001b[39;00m\n",
      "File \u001b[0;32m~/anaconda3/envs/hugs/lib/python3.9/site-packages/transformers/models/distilbert/modeling_distilbert.py:135\u001b[0m, in \u001b[0;36mEmbeddings.forward\u001b[0;34m(self, input_ids, input_embeds)\u001b[0m\n\u001b[1;32m    131\u001b[0m     position_ids \u001b[38;5;241m=\u001b[39m position_ids\u001b[38;5;241m.\u001b[39munsqueeze(\u001b[38;5;241m0\u001b[39m)\u001b[38;5;241m.\u001b[39mexpand_as(input_ids)  \u001b[38;5;66;03m# (bs, max_seq_length)\u001b[39;00m\n\u001b[1;32m    133\u001b[0m position_embeddings \u001b[38;5;241m=\u001b[39m \u001b[38;5;28mself\u001b[39m\u001b[38;5;241m.\u001b[39mposition_embeddings(position_ids)  \u001b[38;5;66;03m# (bs, max_seq_length, dim)\u001b[39;00m\n\u001b[0;32m--> 135\u001b[0m embeddings \u001b[38;5;241m=\u001b[39m \u001b[43minput_embeds\u001b[49m\u001b[43m \u001b[49m\u001b[38;5;241;43m+\u001b[39;49m\u001b[43m \u001b[49m\u001b[43mposition_embeddings\u001b[49m  \u001b[38;5;66;03m# (bs, max_seq_length, dim)\u001b[39;00m\n\u001b[1;32m    136\u001b[0m embeddings \u001b[38;5;241m=\u001b[39m \u001b[38;5;28mself\u001b[39m\u001b[38;5;241m.\u001b[39mLayerNorm(embeddings)  \u001b[38;5;66;03m# (bs, max_seq_length, dim)\u001b[39;00m\n\u001b[1;32m    137\u001b[0m embeddings \u001b[38;5;241m=\u001b[39m \u001b[38;5;28mself\u001b[39m\u001b[38;5;241m.\u001b[39mdropout(embeddings)  \u001b[38;5;66;03m# (bs, max_seq_length, dim)\u001b[39;00m\n",
      "\u001b[0;31mRuntimeError\u001b[0m: The size of tensor a (1222) must match the size of tensor b (512) at non-singleton dimension 1"
     ]
    }
   ],
   "source": [
    "t1 = timer()\n",
    "R5 = classifier(M5)\n",
    "t1.stopandprint()"
   ]
  },
  {
   "cell_type": "code",
   "execution_count": 53,
   "id": "37d5c575-70d3-42c8-99d9-eb9da97eab57",
   "metadata": {},
   "outputs": [],
   "source": [
    "M5v2 = [m[:500] for m in M5]"
   ]
  },
  {
   "cell_type": "code",
   "execution_count": 54,
   "id": "2baf24b1-faa8-44cd-b8b8-253fed36c720",
   "metadata": {},
   "outputs": [
    {
     "data": {
      "text/plain": [
       "63"
      ]
     },
     "execution_count": 54,
     "metadata": {},
     "output_type": "execute_result"
    }
   ],
   "source": [
    "len(M5v2)"
   ]
  },
  {
   "cell_type": "code",
   "execution_count": 55,
   "id": "5be9b554-6ef0-4abe-b94f-70efdc1ac07f",
   "metadata": {},
   "outputs": [
    {
     "data": {
      "text/plain": [
       "37"
      ]
     },
     "execution_count": 55,
     "metadata": {},
     "output_type": "execute_result"
    }
   ],
   "source": [
    "M5v2 = list(set(M5v2))\n",
    "len(M5v2)"
   ]
  },
  {
   "cell_type": "code",
   "execution_count": 56,
   "id": "45a1d057-5e7f-4824-8965-c997669d6d2f",
   "metadata": {},
   "outputs": [
    {
     "name": "stdout",
     "output_type": "stream",
     "text": [
      "Elapsed seconds:   76.273\n"
     ]
    }
   ],
   "source": [
    "t1 = timer()\n",
    "R5v2 = classifier(M5v2)\n",
    "t1.stopandprint()"
   ]
  },
  {
   "cell_type": "code",
   "execution_count": 57,
   "id": "7db5bcda-7188-4d9d-9054-09b18201c0b0",
   "metadata": {},
   "outputs": [
    {
     "name": "stdout",
     "output_type": "stream",
     "text": [
      "+   0.9998 Tv is good in this price range,It's an excellent product for this price range,Good,Picture quality is good,Amazing product sound quality is okay and smart features is little bit slow but it’s okay ove\n",
      "+   0.9988 V nice and good,Good,Good,Very non responsive company,after several reminder to company and Amazon they don't bother to install the TV as committed since last 8 daysLet's see how they will respond in \n",
      "+   0.9988 Vu  UHD SMART 43\"  web os  version good  tv 2022 , picture quality and opareting  nice  , but sound  quality I am not satisfied not afctvive  to other t vs,HDR can’t be turned off in apps,Got it at 19\n",
      "+   0.9987 This OnePlus TV is great if you want a affordable and middle range features TV. I got it in the offer and it was totally worth it.Pros:-1. Sound is awesome - 100% satisfied with the quality of sound. \n",
      "+   0.9981 Update after 9 months of use:1. The TV is still going strong - all the good points mentioned in the original review below are still true and very happy with the TV.It's as if OnePlus have been listeni\n",
      "+   0.9980 Apart from dispatch of the item by Amazon the ifalcon smart TV is a good buy for the value of money. Picture is crystal clear enjoy it with high speed internet.,https://m.media-amazon.com/images/I/515\n",
      "+   0.9973 Picture & sound quality good,Storage is not 8 gb there is only 2.8 gb,https://m.media-amazon.com/images/I/51-RmznbJjL._SY88.jpg,Good tv i like it,https://m.media-amazon.com/images/I/71R-NmGhkYL._SY88.\n",
      "+   0.9968 ,What's not to love about this all-new 55 inch Amazon Fire TV?UNBOXINGThe whole experience from delivery to commissioning was completely seamless;  the packaging is strong and very sturdy, using a lot\n",
      "+   0.9940 ,Screen quality is good.It's been a month I bought it still working fine.Two main negatives are1• It doesn't have default option to directly start on tata sky tv, we have to select hdmi option from in\n",
      "+   0.9939 About the TV - Wonderful---------------------------------------------------------------Probably the best TV in this price range (INR13000).Good - Google interface, loaded with features, lightweight, 5\n",
      "+   0.9868 Tv is good as such, there are multiple issues for it, you get what you paid for so not going to brag about it. Picture looks crisp, sound is awful, light weight, flimsy legs and body, tv looks frame l\n",
      "+   0.9851 It’s doesn’t support Alexa (What is mentioned in product description, it’s wrong),Excellent purchase. Feeling the videos are little bit darker. Any body can help me to set it in a good clarity video. \n",
      "+   0.9837 Delivered in time. Package was in good condition, thanks amazon. Was installed within a day. Writing this review after using the tv for more than a week.1. picture quality is good.2. Sound could be be\n",
      "+   0.9400 Best but slow response from tv,Product is good,https://m.media-amazon.com/images/I/71Knz9n24GL._SY88.jpg,Value for money,Super quality....go with TCL,,Best price,చాలా బాగుంది కానీ యుాస్ బి పోర్ట్స్ లో\n",
      "+   0.9108 When I say Android TV few buyers wouldn't be able to grasp it . It has unofficial build of Android 9 so basically you can install all Android TV apk and apps . For play store you can install aptoide m\n",
      "+   0.9093 I recently purchased the Kodak TV from Amazon and overall, my experience has been satisfactory. The picture quality is good and the streaming capabilities are convenient. The user interface is easy to\n",
      "+   0.9092 Everything is good. Just one suggestion, when TCL is giving its own channel, then it should have some content. What it does, it will route me to another OTT platform for which subscription will be req\n",
      "+   0.9023 The worst service given by Amazon, you say it's amazon product but after booking many times nobody came for installation, Quality is good, software is not updated you should give updated versions.,Pro\n",
      "+   0.5300 It's very good peace what I read.,Institutions free is very expensive and difficult prasasan but thanks for Amazon,My review is after 2 months of buyExcellent Mi Tv 55inchI like the its built quality.\n",
      "-   0.8320 It has been a week since we bought the 43\" LED TV. Its definitely a value for Money buy. Good Picture and Sound quality, loaded with abundant Apps and Features.The Flip side is the Installation time, \n",
      "-   0.8993 LG was always Good , correct delivery, good service but sound quality was poor. The speakers were fitted below the tv. No clear sound. That was the only problem.,Good videoGood vice,Picture quality is\n",
      "-   0.9613 It's a good tv with a picture and sound exceeding its price class. The installation, however, leaves a lot desired. It was delayed until several calls. The technician was not the most well behaved in \n",
      "-   0.9847 Tv working good, the screen is VA type, if we want to see good picture we need to maintain minimum distance to tv because this tv pixels are so big. But if we maintain minimum distance picture looks s\n",
      "-   0.9852 Super,Good Quality , value for money.. in time installed,Tv thik hai but vu ka customer support bhot bekar hai , bacho se tv lock ho gya tha , vu me call kia to kahne lage Amazon me baat karo , matlb \n",
      "-   0.9865 Good quality,Good product,Average,No operation button in television which is big irritate when the remote not working,In simple words, Please don’t buy this MI TV and especially from Amazon/this selle\n",
      "-   0.9889 Overall experience in this price is good.You can change 5 modes of audio.Play Store not support, but their app store has almost all apps, which we uses on tv like Netflix, Prime, YouTube.We can't adju\n",
      "-   0.9926 Before finalizing the AUE60 55\", I visited Croma and Vijay Sales to check for the same TV or similar models for their features and picture quality. I was told AUE60 & AUE70(the models listed here as C\n",
      "-   0.9936 I am posting this after a few weeks of using the product.Usage: Continuous, OTT only, no Cable/Dish operator.Average daily usage: 6-8 hours.The TV is a great value-for-money product.Installation: The \n",
      "-   0.9952 TV looks fine, however I see some lag while selecting the applications such as Amazon prime etc. I didn’t install any new apps.,Received the TV on time.Good Things about TV and TCL:-1. Quick Response:\n",
      "-   0.9964 Pros- xiomi 5a is best in budget-Nice picture quality-Very nice audio output- Full of featureCONS- sometimes tv lags-Sometimes stucksIn this prize range all tv having cons like this.::Overall nice tv,\n",
      "-   0.9966 Worth the price. I use the local cable providers set up. With my previous tv (Samsung) I was not facing this problem.  The only problem I am facing is each time I turn off the tv from the mains, I hav\n",
      "-   0.9980 NOTE:@ If you select brand-authorized TV installation, then DO NOT unbox the tv until MI representative arrives.This ensures, that if TV is damaged in transportation, then you will get replacement eas\n",
      "-   0.9980 Wifi connectivity is getting lost frequently. (at every 30 to 45 minutes). We have to re-connect to wifi.All other specs : Good for price.Jio cinema : not working (even 3rd party app is also not worki\n",
      "-   0.9984 Overall good.,TV picture ok smart betterSound very low another brand,Service provider refuse install my TV, bad service and samsung, I am calling 3 times service provider. Not meet my home address.why\n",
      "-   0.9987 There's no magic remote and lg should include it by default as it makes life easier. The magic remote costs around 3k approximately.Display: when turned on tv and tested the display on black wallpaper\n",
      "-   0.9990 The delivery people were not careful with the unpacking. Amazon needs to train their delivery staff on unpacking different types of things since they have come up with a policy where they need to open\n",
      "-   0.9992 Hi all, firstly, I was very skeptical to purchase TV through online. Secondary, Iam a big fan of Sony and LG brands., Thirdly,as I have 4 year old kid at home I was so scared to spend money beyond 15k\n"
     ]
    }
   ],
   "source": [
    "process(M5v2, R5v2, truncate=200, print=True, sort=True, noreturn=True)"
   ]
  },
  {
   "cell_type": "code",
   "execution_count": 58,
   "id": "e3044e3a-74e2-440c-90fc-29c9d047dd54",
   "metadata": {},
   "outputs": [
    {
     "name": "stdout",
     "output_type": "stream",
     "text": [
      "+   0.9998 Tv is good in this price range,It's an excellent product for this price range,Good,Picture quality is good,Amazing product sound quality is okay and smart features is little bit slow but it’s okay overall ✅ love this product,Ok super work,Good product,\n",
      "+   0.9988 V nice and good,Good,Good,Very non responsive company,after several reminder to company and Amazon they don't bother to install the TV as committed since last 8 daysLet's see how they will respond in case of warranty or service requirement in future.,Excellent,Picture quality moderateSound quality moderateRemote access moderateAs per price product is Good.Product is Worth to buy .,Good tv with good service,Good\n",
      "+   0.9988 Vu  UHD SMART 43\"  web os  version good  tv 2022 , picture quality and opareting  nice  , but sound  quality I am not satisfied not afctvive  to other t vs,HDR can’t be turned off in apps,Got it at 19k in the sale. The TV uses WebOS. its snappy. its so so feature rich. The magic remote is amazing. It supports Samsung Smartview and DEX out of the box which means without any internet and wifi etc you can directly cast your screen. Super handy. The sound quality is just so so great for the price. T\n",
      "+   0.9987 This OnePlus TV is great if you want a affordable and middle range features TV. I got it in the offer and it was totally worth it.Pros:-1. Sound is awesome - 100% satisfied with the quality of sound. Dolby Audio 20W speakers are really great for sure affordable TV.2. Size and slim - It is slim and looks stylish. Very light weight and handy to install.3. Easy to install and mount to wall.4. Tye software installation and set up is very easy and anyone can do it at home.5. It gets integrated with m\n",
      "+   0.9981 Update after 9 months of use:1. The TV is still going strong - all the good points mentioned in the original review below are still true and very happy with the TV.It's as if OnePlus have been listening to their customers! After recent firmware updates, the issues I had mentioned have almost disappeared.1. We can now arrange and move apps (YouTube, Netflix) as per our wish on the home screen itself. I am finally able to put YouTube first as it is the most used app for my toddler.2. There is no m\n",
      "+   0.9980 Apart from dispatch of the item by Amazon the ifalcon smart TV is a good buy for the value of money. Picture is crystal clear enjoy it with high speed internet.,https://m.media-amazon.com/images/I/515glvxKxSL._SY88.jpg,Good in Smart TV but low sound quality.,https://m.media-amazon.com/images/I/61AnTT6yIoL._SY88.jpg,,At 8k it's worth , value for money.Good picture quality and sound.Satisfied Customer. 👍👍👍,Value for money product is ok as per price,Good picture quality, sound as well\n",
      "+   0.9973 Picture & sound quality good,Storage is not 8 gb there is only 2.8 gb,https://m.media-amazon.com/images/I/51-RmznbJjL._SY88.jpg,Good tv i like it,https://m.media-amazon.com/images/I/71R-NmGhkYL._SY88.jpg,,It’s a nice smart android television support all the web OTT platform,Nice ,product worth for the price\n",
      "+   0.9968 ,What's not to love about this all-new 55 inch Amazon Fire TV?UNBOXINGThe whole experience from delivery to commissioning was completely seamless;  the packaging is strong and very sturdy, using a lot of bio-degradable materials; the unboxing was a delight, and fixing the (included) wall mount was a piece of cake.AMAZON INTEGRATIONNow comes the Amazon Magic!  Switch on the TV, and it already knew me, and my Amazon Prime Account.  After a brief online security check, all my content and apps autom\n",
      "+   0.9940 ,Screen quality is good.It's been a month I bought it still working fine.Two main negatives are1• It doesn't have default option to directly start on tata sky tv, we have to select hdmi option from input menu to select tata sky which one is plugged in.2• dosent allow us to command/choose volume up or down from set-top box remote (mine tata sky)We have use tv remove to change the volume setting.Other than that great tv, mine ps4 works fine with it great graphics.Conclusion: If someone ask's me to\n",
      "+   0.9939 About the TV - Wonderful---------------------------------------------------------------Probably the best TV in this price range (INR13000).Good - Google interface, loaded with features, lightweight, 55 watt power consumption, stable designAverage - Sound and Picture quality is quite good but if you compare it with premium brands then obviously not that good.Features- Most of the streaming apps available and compatible- You can connect with WiFi, LAN Cable, HDMI, Set top box, Laptop, USB, Gaming \n",
      "+   0.9868 Tv is good as such, there are multiple issues for it, you get what you paid for so not going to brag about it. Picture looks crisp, sound is awful, light weight, flimsy legs and body, tv looks frame less unless you turn it on. This tv doesn't support Pre Video out of the box, reaching out to Customer care will easily resolve the issue. There are noticeable lag while casting/ screen share. Overall the product is good for small office, shop or casual streaming for Bedroom or kitchen.,5 star.,Good \n",
      "+   0.9851 It’s doesn’t support Alexa (What is mentioned in product description, it’s wrong),Excellent purchase. Feeling the videos are little bit darker. Any body can help me to set it in a good clarity video. Like which mode i have to select, brightness level, contrast level,......,A master piece has arrived from sansui.excellent picture quality. sound quality for a medium sized room is too good. was astonished to hear its sound for the first time.people tends to go for sony lg samsung, but have a look a\n",
      "+   0.9837 Delivered in time. Package was in good condition, thanks amazon. Was installed within a day. Writing this review after using the tv for more than a week.1. picture quality is good.2. Sound could be better. Dosnt' mean its bad.3. connectivity is good.4. No issues with software or hardware till now.Overall a good product in this budget. Once again thanks Amazon and LG.,This is good smart tv,I wanted to get display for my PS4.  I was contemplating between a monitor and TV.  Since,  there is no need\n",
      "+   0.9400 Best but slow response from tv,Product is good,https://m.media-amazon.com/images/I/71Knz9n24GL._SY88.jpg,Value for money,Super quality....go with TCL,,Best price,చాలా బాగుంది కానీ యుాస్ బి పోర్ట్స్ లోపల కాకుండా బయటికి ఇస్తే బాగుంటుంది మరియు గుాగుల్ క్రోమ్ ఇన్ బుల్ట్ గా ఇస్తే బాగుంటుంది\n",
      "+   0.9108 When I say Android TV few buyers wouldn't be able to grasp it . It has unofficial build of Android 9 so basically you can install all Android TV apk and apps . For play store you can install aptoide manually and it can install all bunch of TV apps for your afterwards.Since it's unofficial build , you can't have Google app services and Play Store , it won't work at all .Overall happy with thisPicture Quality GreatApps does not lagDoes not hangsNot having heating issueOnly problem is apps and func\n",
      "+   0.9093 I recently purchased the Kodak TV from Amazon and overall, my experience has been satisfactory. The picture quality is good and the streaming capabilities are convenient. The user interface is easy to navigate, although it did take me a little bit of time to get used to it.However, I do have a few issues with the TV. The sound quality is not the best and I have noticed some lag when switching between apps. These issues do not significantly impact my viewing experience, but they are worth mention\n",
      "+   0.9092 Everything is good. Just one suggestion, when TCL is giving its own channel, then it should have some content. What it does, it will route me to another OTT platform for which subscription will be required to be taken.,https://m.media-amazon.com/images/I/61mPJN3sH-L._SY88.jpg,I like picture quality, sound,Good,Good,Excellent, very nice.,Almost one month of usage , tv is far better than mi TV. Our 40\" mi horizon edition got complaint 3 times in 2 years of warranty period and finally they didn't r\n",
      "+   0.9023 The worst service given by Amazon, you say it's amazon product but after booking many times nobody came for installation, Quality is good, software is not updated you should give updated versions.,Product is super but have some connectivity issues in mirror casting, Delivery and Pickup super but the person who pickup the product dealt rudely with product,I really like picture and Sound Quality of Sansui LED TV. I would recommend as Smart TV and easily installable apps make it completely internet\n",
      "+   0.5300 It's very good peace what I read.,Institutions free is very expensive and difficult prasasan but thanks for Amazon,My review is after 2 months of buyExcellent Mi Tv 55inchI like the its built quality.Picture quality is osm and working good no issue with display 55 inch is much big and in dark looks like theater experienceSound quality better and much loud, bass is good with 40w speakerWorking good with no issue and Android with no lag good storage with all ports with Dolby vision hdr 10No issue \n",
      "-   0.8320 It has been a week since we bought the 43\" LED TV. Its definitely a value for Money buy. Good Picture and Sound quality, loaded with abundant Apps and Features.The Flip side is the Installation time, as has been mentioned by others in earlier posts. It took several calls to the Toshiba customer service (very laidback and definitely not pro-active). Final escalation to the Service Head worked and by then it was 3 days since the Product arrived and was lying still!Product wise no complaint. Delive\n",
      "-   0.8993 LG was always Good , correct delivery, good service but sound quality was poor. The speakers were fitted below the tv. No clear sound. That was the only problem.,Good videoGood vice,Picture quality is awesome.,Good at that price,Okay product, the OS has lags after about a year of use. This is the best you can get for the price tag it comes with.,I like it,Best one when it comes to bugdet, easy installation and handy features.,Good\n",
      "-   0.9613 It's a good tv with a picture and sound exceeding its price class. The installation, however, leaves a lot desired. It was delayed until several calls. The technician was not the most well behaved in the world. Overall, happy that I bought this tv.,At this price picture quality is good but connectivity is slow and remote function also,Good one happy with the purchase,,Kodak tv,Ok,Nice TV,Smart and Good work\n",
      "-   0.9847 Tv working good, the screen is VA type, if we want to see good picture we need to maintain minimum distance to tv because this tv pixels are so big. But if we maintain minimum distance picture looks so sharp and black levels look great. And other thing TV's colour reproduction is not that great compared to IPS screens. But in this price it is a good deal. Thare is definitely lag in tv software and remote control.  In the start i have bluetooth connection issue but after formatting tv problem was\n",
      "-   0.9852 Super,Good Quality , value for money.. in time installed,Tv thik hai but vu ka customer support bhot bekar hai , bacho se tv lock ho gya tha , vu me call kia to kahne lage Amazon me baat karo , matlb tv ka lock Amazon wale batenge , Amazon me baat ki to kahte hai vu me baat karo , baad me maine hi kisi tarah uska lock khola , but vu customer support bhot bekar hai , vu ka smart tv thik hai,In time delivery and proper installation at the time of delivery itself. Value for money for 32\" TV require\n",
      "-   0.9865 Good quality,Good product,Average,No operation button in television which is big irritate when the remote not working,In simple words, Please don’t buy this MI TV and especially from Amazon/this seller (Sold by Cloudtail India and Fulfilled by Amazon).If you have patience and able to understand normal English(I don’t have writing skills to share exactly my feelings/pain) then please go through my following experience/feedback to know why I said Don’t buy it.Don’t wanna give single star but not a\n",
      "-   0.9889 Overall experience in this price is good.You can change 5 modes of audio.Play Store not support, but their app store has almost all apps, which we uses on tv like Netflix, Prime, YouTube.We can't adjust brightness of tv.,Im giving this review after 6 moths usage,The sound quality was next level,Picture quality also good...,LED is very good but remote is not correct, given bad remote which is not working.,Remote speaker is not. Why? Give me demo for speaker.,Picture quality best and sound,Storage\n",
      "-   0.9926 Before finalizing the AUE60 55\", I visited Croma and Vijay Sales to check for the same TV or similar models for their features and picture quality. I was told AUE60 & AUE70(the models listed here as Crystal 4K and 4K Pro) are E-commerce exclusive models, not available offline. I was shown AU7700 which has the same processor, panel and features, but was listed at 65K for the 55\" version. I liked the picture quality, and decided I'll get the AUE60 since it shares so much with AU7700, and save ~20k\n",
      "-   0.9936 I am posting this after a few weeks of using the product.Usage: Continuous, OTT only, no Cable/Dish operator.Average daily usage: 6-8 hours.The TV is a great value-for-money product.Installation: The installation was simple and Amazon assisted installation was smooth, timely and hassle-free.Picture: The picture quality is not great when compared with the smoothness of a Sony, LG and Samsung with these kind of specs. Movies and especially hi-res TV series experience was somewhat diluted as most o\n",
      "-   0.9952 TV looks fine, however I see some lag while selecting the applications such as Amazon prime etc. I didn’t install any new apps.,Received the TV on time.Good Things about TV and TCL:-1. Quick Response:- After the TV is delivered call the customer care for the installation and within 2 hour technician arrive and installed the TV. After that received call back from the customer care to gather the experience and pinged on whatsapp so that if in future encountered any issue quick help will be provide\n",
      "-   0.9964 Pros- xiomi 5a is best in budget-Nice picture quality-Very nice audio output- Full of featureCONS- sometimes tv lags-Sometimes stucksIn this prize range all tv having cons like this.::Overall nice tv,The product in this price range is good but as it is running in Android 12 it lags. I hope after few updates the lags problem will be resolved,Useless product and useless quality. Display issues within 7 months and service center is not upto the mark. Go for better brands where quality is assured. I\n",
      "-   0.9966 Worth the price. I use the local cable providers set up. With my previous tv (Samsung) I was not facing this problem.  The only problem I am facing is each time I turn off the tv from the mains, I have to go to the settings and turn the settings on to tv speaker settings despite no other speaker or WiFi or blue tooth or cell phone being in the proximity. As a result I have stopped turning the tv off from the mains. I just use remote control to put it on stand by. BUT THIS IS A PROBLEM IN THE LON\n",
      "-   0.9980 NOTE:@ If you select brand-authorized TV installation, then DO NOT unbox the tv until MI representative arrives.This ensures, that if TV is damaged in transportation, then you will get replacement easily.@ If you didn't choose installation, then just SHOOT the video of unboxing by yourself, to avoid any hassle in case replacement is needed.@ Amazon Prime and Netflix are not inbuilt, but can be Side-loaded !!!@ To use your Set top box with android interface, you need to buy MI IR cable and set it\n",
      "-   0.9980 Wifi connectivity is getting lost frequently. (at every 30 to 45 minutes). We have to re-connect to wifi.All other specs : Good for price.Jio cinema : not working (even 3rd party app is also not working)Startup time : comparatively high.Display : superb !!Sound : Not so good.Best if you gonna Buy Soundbar with woofer!,Tv is good but i have some question for manufacturer. I am not able to find a option to choose default input. As i want to see HDMI1 when tv start or whatever i choose last.,It is \n",
      "-   0.9984 Overall good.,TV picture ok smart betterSound very low another brand,Service provider refuse install my TV, bad service and samsung, I am calling 3 times service provider. Not meet my home address.why ? Bad bad,They product did not come with the support stand or wall hanging hook to install the Tv,Picture quality is very poor in cables,Floor stand does not come with it ... You have to buy it seperately. Request Amazon to cleary mention it in the add . You will have to pay seperate charges for th\n",
      "-   0.9987 There's no magic remote and lg should include it by default as it makes life easier. The magic remote costs around 3k approximately.Display: when turned on tv and tested the display on black wallpaper found very small green and white dots.Immediately called up Amazon first and then we scheduled a tech visit.The tech did not come rather spoke on call and asked what's the problem and when informed about the problem he said needs to be replaced but no body came with it.So i waited for 2 days again \n",
      "-   0.9990 The delivery people were not careful with the unpacking. Amazon needs to train their delivery staff on unpacking different types of things since they have come up with a policy where they need to open the package and verify any defects. 2 stars to them as they are not careful with the unpacking. I could see that they were holding the TV panel while getting the TV out from the box and even after telling them to be careful they weren't. Also the stand was just thrown on the front panel cause he ha\n",
      "-   0.9992 Hi all, firstly, I was very skeptical to purchase TV through online. Secondary, Iam a big fan of Sony and LG brands., Thirdly,as I have 4 year old kid at home I was so scared to spend money beyond 15k. Ofcourse at the first day sale for prime members when the Amazon great Indian festival started, I saw one Plus and Hisense A6H were priced at under 20k including bank offers and my favourite Sony 43inch was priced at 35k. But discarded Sony just bcz of expensive and scared if my kid whilst playing\n"
     ]
    }
   ],
   "source": [
    "X = process(M5v2, R5v2, print=True, sort=True)"
   ]
  },
  {
   "cell_type": "code",
   "execution_count": 59,
   "id": "1d60640c-7c82-419d-8d7c-7242e09595c0",
   "metadata": {},
   "outputs": [
    {
     "data": {
      "text/plain": [
       "[0.9998489618301392,\n",
       " '+',\n",
       " \"Tv is good in this price range,It's an excellent product for this price range,Good,Picture quality is good,Amazing product sound quality is okay and smart features is little bit slow but it’s okay overall ✅ love this product,Ok super work,Good product,\"]"
      ]
     },
     "execution_count": 59,
     "metadata": {},
     "output_type": "execute_result"
    }
   ],
   "source": [
    "X[0]"
   ]
  },
  {
   "cell_type": "code",
   "execution_count": 60,
   "id": "75c950e7-93cd-48d5-9cc3-756ebd5d1820",
   "metadata": {},
   "outputs": [
    {
     "data": {
      "text/plain": [
       "[0.9992063641548157,\n",
       " '-',\n",
       " 'Hi all, firstly, I was very skeptical to purchase TV through online. Secondary, Iam a big fan of Sony and LG brands., Thirdly,as I have 4 year old kid at home I was so scared to spend money beyond 15k. Ofcourse at the first day sale for prime members when the Amazon great Indian festival started, I saw one Plus and Hisense A6H were priced at under 20k including bank offers and my favourite Sony 43inch was priced at 35k. But discarded Sony just bcz of expensive and scared if my kid whilst playing']"
      ]
     },
     "execution_count": 60,
     "metadata": {},
     "output_type": "execute_result"
    }
   ],
   "source": [
    "X[-1]"
   ]
  },
  {
   "cell_type": "code",
   "execution_count": 61,
   "id": "dcbf1163-9963-4e05-ba3d-3054018db1df",
   "metadata": {},
   "outputs": [
    {
     "data": {
      "text/plain": [
       "[0.9986599683761597,\n",
       " '-',\n",
       " \"There's no magic remote and lg should include it by default as it makes life easier. The magic remote costs around 3k approximately.Display: when turned on tv and tested the display on black wallpaper found very small green and white dots.Immediately called up Amazon first and then we scheduled a tech visit.The tech did not come rather spoke on call and asked what's the problem and when informed about the problem he said needs to be replaced but no body came with it.So i waited for 2 days again \"]"
      ]
     },
     "execution_count": 61,
     "metadata": {},
     "output_type": "execute_result"
    }
   ],
   "source": [
    "X[-3]"
   ]
  },
  {
   "cell_type": "code",
   "execution_count": null,
   "id": "99c12991-5f31-428f-88ff-021628a3ae44",
   "metadata": {},
   "outputs": [],
   "source": []
  }
 ],
 "metadata": {
  "kernelspec": {
   "display_name": "Python 3 (ipykernel)",
   "language": "python",
   "name": "python3"
  },
  "language_info": {
   "codemirror_mode": {
    "name": "ipython",
    "version": 3
   },
   "file_extension": ".py",
   "mimetype": "text/x-python",
   "name": "python",
   "nbconvert_exporter": "python",
   "pygments_lexer": "ipython3",
   "version": "3.9.18"
  }
 },
 "nbformat": 4,
 "nbformat_minor": 5
}
