{
 "cells": [
  {
   "cell_type": "markdown",
   "id": "679962e5-8562-4830-ba5b-a93d9a5a289e",
   "metadata": {},
   "source": [
    "# Bloom Bite: Hugging Face: 02 zero shot classification"
   ]
  },
  {
   "cell_type": "markdown",
   "id": "a8e247d2-da88-4ec5-803f-426e9f9d7dd3",
   "metadata": {},
   "source": [
    "bb-hf-02-zsc.ipynb"
   ]
  },
  {
   "cell_type": "markdown",
   "id": "0f0337cd-63bf-4265-b820-ae5f4a8f8419",
   "metadata": {},
   "source": [
    "Notes\n",
    "1. I'm using anaconda and created the environment as follows: <br>\n",
    " `conda create -n hugs python=3.9 tensorflow transformers pytorch jupyter sentencepiece`\n",
    "2. Calling pipeline() will download the models needed.  Larger models may take some time to download.  pytorch is an especially large one (over 1 GB), and is needed for the summarization pipeline.  Models are stored in anaconda3/pkgs and are shared by all conda environments so don't need to download multiple times.  These can get big - my pkgs folder is over 20 GB.  Example: <br>\n",
    "`Downloading pytorch_model.bin:   0%|          | 0.00/1.22G [00:00<?, ?B/s]`\n",
    "3. pipeline often returns warnings, typically along the following:\n",
    "    - `Using a pipeline without specifying a model name and revision in production is not recommended.`\n",
    "       <br>safe to ignore as these are just illustrative examples.  \n",
    "    - `No model was supplied, defaulted to...`\n",
    "       <br>safe to ignore as these are just illustrative examples.\n",
    "    - ``Setting `pad_token_id` to `eos_token_id`:50256 for open-end generation.``\n",
    "       <br> safe to ignore\n",
    "    - `Some weights of the model checkpoint at... were not used when initializing...`\n",
    "       <br> safe to ignore\n",
    "    - ``ValueError: This tokenizer cannot be instantiated. Please make sure you have `sentencepiece` installed in order to use this tokenizer.``\n",
    "       <br> errors like this typically occur when a module is missing.  With conda you can add with conda install X.\n",
    "5. Hugging Face NLP Course link: https://huggingface.co/learn/nlp-course/chapter1/1?fw=pt\n",
    "6. Hugging Face ModelHub: https://huggingface.co/docs/hub/en/models-the-hub\n",
    "7. Hugging Face TextClassificationPipeline: https://huggingface.co/docs/transformers/v4.37.2/en/main_classes/pipelines#transformers.TextClassificationPipeline"
   ]
  },
  {
   "cell_type": "markdown",
   "id": "38db5b02-9e1c-43d4-a903-28976544b109",
   "metadata": {},
   "source": [
    "## Helpers"
   ]
  },
  {
   "cell_type": "code",
   "execution_count": 13,
   "id": "b9f1a414-f699-4eeb-93c5-420beee00415",
   "metadata": {},
   "outputs": [],
   "source": [
    "import time\n",
    "class timer:\n",
    "    def __init__(self):\n",
    "        self.t0 = time.time()\n",
    "        self.t1 = 0\n",
    "        self.t = -1\n",
    "        self.state = \"INIT\"\n",
    "    def start(self):\n",
    "        if (self.state != \"INIT\") and (self.state != \"STOP\"):\n",
    "            print(\"error - cannot start already started timer\")\n",
    "            return\n",
    "        self.t0 = time.time()  # restart from now\n",
    "        self.state = \"START\"\n",
    "    def restart(self):\n",
    "        self.state = \"STOP\"\n",
    "        self.start()\n",
    "    def stopandprint(self):\n",
    "        self.stop()\n",
    "        self.print()\n",
    "    def stop(self):\n",
    "        if (self.state != \"INIT\") and (self.state != \"START\"):\n",
    "            print(\"error - cannot stop already stopped timer\")\n",
    "            return\n",
    "        self.t1 = time.time()\n",
    "        self.t = self.t1 - self.t0\n",
    "        self.state = \"STOP\"\n",
    "        return self.t\n",
    "    def print(self):\n",
    "        if self.state == \"STOP\":\n",
    "            print(\"Elapsed seconds: {:8.3f}\".format(self.t))\n",
    "        else:\n",
    "            tmp = time.time() - self.t0\n",
    "            print(\"Elapsed seconds: {:8.3f}...\".format(tmp))"
   ]
  },
  {
   "cell_type": "markdown",
   "id": "0407c81a-17c1-48e1-be78-be6373c9dcda",
   "metadata": {},
   "source": [
    "# Previously: Pipeline and sentiment analysis"
   ]
  },
  {
   "cell_type": "code",
   "execution_count": 1,
   "id": "ef82314a-22ec-4506-aba2-7755b46c11f9",
   "metadata": {},
   "outputs": [
    {
     "name": "stderr",
     "output_type": "stream",
     "text": [
      "No model was supplied, defaulted to distilbert-base-uncased-finetuned-sst-2-english and revision af0f99b (https://huggingface.co/distilbert-base-uncased-finetuned-sst-2-english).\n",
      "Using a pipeline without specifying a model name and revision in production is not recommended.\n"
     ]
    }
   ],
   "source": [
    "from transformers import pipeline\n",
    "classifier = pipeline(task=\"sentiment-analysis\")"
   ]
  },
  {
   "cell_type": "code",
   "execution_count": 2,
   "id": "edc4002d-95f0-4162-9c8a-5cfe31a449ab",
   "metadata": {},
   "outputs": [
    {
     "data": {
      "text/plain": [
       "[{'label': 'POSITIVE', 'score': 0.9998749494552612}]"
      ]
     },
     "execution_count": 2,
     "metadata": {},
     "output_type": "execute_result"
    }
   ],
   "source": [
    "classifier(\"This is one great television show.\")"
   ]
  },
  {
   "cell_type": "code",
   "execution_count": 3,
   "id": "a829b183-85c7-4704-9e1f-2f9e7c91de54",
   "metadata": {},
   "outputs": [
    {
     "data": {
      "text/plain": [
       "[{'label': 'NEGATIVE', 'score': 0.9997605681419373}]"
      ]
     },
     "execution_count": 3,
     "metadata": {},
     "output_type": "execute_result"
    }
   ],
   "source": [
    "classifier(\"This is one of the worst movies I have ever seen.\")"
   ]
  },
  {
   "cell_type": "markdown",
   "id": "e98e288e-56f7-4834-9b7a-76aa9708cacc",
   "metadata": {},
   "source": [
    "# 2. Text Classification with zero shot learning"
   ]
  },
  {
   "cell_type": "code",
   "execution_count": 4,
   "id": "8a243165-fe78-4fda-9358-3f0625d4646e",
   "metadata": {},
   "outputs": [
    {
     "name": "stderr",
     "output_type": "stream",
     "text": [
      "No model was supplied, defaulted to facebook/bart-large-mnli and revision c626438 (https://huggingface.co/facebook/bart-large-mnli).\n",
      "Using a pipeline without specifying a model name and revision in production is not recommended.\n"
     ]
    }
   ],
   "source": [
    "classifier = pipeline(task=\"zero-shot-classification\")"
   ]
  },
  {
   "cell_type": "code",
   "execution_count": 5,
   "id": "9f6b16b4-e617-47bb-a441-01a3f36756d0",
   "metadata": {},
   "outputs": [],
   "source": [
    "labels = [\"education\", \"politics\", \"business\"]"
   ]
  },
  {
   "cell_type": "code",
   "execution_count": 6,
   "id": "f46c55ed-198e-4013-93d7-3a7ed926a5a6",
   "metadata": {},
   "outputs": [],
   "source": [
    "R = classifier(\"This is a course about the Transformers library\", labels)"
   ]
  },
  {
   "cell_type": "code",
   "execution_count": 7,
   "id": "7126125a-bdfe-4c67-b280-a09b500e85d5",
   "metadata": {},
   "outputs": [
    {
     "data": {
      "text/plain": [
       "{'sequence': 'This is a course about the Transformers library',\n",
       " 'labels': ['education', 'business', 'politics'],\n",
       " 'scores': [0.8445982336997986, 0.1119748204946518, 0.043426938354969025]}"
      ]
     },
     "execution_count": 7,
     "metadata": {},
     "output_type": "execute_result"
    }
   ],
   "source": [
    "R"
   ]
  },
  {
   "cell_type": "code",
   "execution_count": 8,
   "id": "9401d2a6-58a3-4f59-8556-23c43e890ce1",
   "metadata": {},
   "outputs": [
    {
     "name": "stdout",
     "output_type": "stream",
     "text": [
      "0.9999999925494194\n"
     ]
    }
   ],
   "source": [
    "print(sum(R[\"scores\"]))"
   ]
  },
  {
   "cell_type": "code",
   "execution_count": 9,
   "id": "a6bf455a-be8d-4353-9f79-a7e7d99d0ce3",
   "metadata": {},
   "outputs": [],
   "source": [
    "P = []\n",
    "P.append(\"the quick brown fox jumped over the lazy dog.\")\n",
    "P.append(\"man bites dog, film at 11\")\n",
    "P.append(\"tobacco shown addictive\")"
   ]
  },
  {
   "cell_type": "code",
   "execution_count": 10,
   "id": "8e663b28-0b73-4c40-bea1-44b13a47a3cd",
   "metadata": {},
   "outputs": [],
   "source": [
    "#classifier(P, labels)"
   ]
  },
  {
   "cell_type": "code",
   "execution_count": 11,
   "id": "9cfe65b2-4901-4977-8172-71d21a355eb1",
   "metadata": {},
   "outputs": [],
   "source": [
    "def classify(textList, candidate_labels):\n",
    "    t = timer()\n",
    "    returnList = True\n",
    "    if type(textList) == type(\"foo\"):\n",
    "        textList = [textList]\n",
    "        returnList = False\n",
    "    printStatus = False\n",
    "    \n",
    "    if len(textList) > 2:\n",
    "        printStatus = True\n",
    "        lastStatus = 0\n",
    "        statusInterval = .1\n",
    "\n",
    "    R = []\n",
    "    for index, text in enumerate(textList):\n",
    "        R.append( classifier(text, candidate_labels = candidate_labels))\n",
    "        if printStatus:\n",
    "            pct = index / len(P)\n",
    "            if pct > lastStatus + statusInterval:\n",
    "                print(\".\",end=\"\")\n",
    "                lastStatus = pct\n",
    "    t.stopandprint()\n",
    "    if returnList:\n",
    "        return R\n",
    "    elif len(R) == 1:\n",
    "        return R[0]\n",
    "    else:\n",
    "        print(\"error - bad logic\")\n",
    "        return"
   ]
  },
  {
   "cell_type": "code",
   "execution_count": 14,
   "id": "6f19321d-a3a3-43fb-8fea-5f3035852653",
   "metadata": {},
   "outputs": [
    {
     "name": "stdout",
     "output_type": "stream",
     "text": [
      "..Elapsed seconds:   28.571\n"
     ]
    },
    {
     "data": {
      "text/plain": [
       "[{'sequence': 'the quick brown fox jumped over the lazy dog.',\n",
       "  'labels': ['business', 'education', 'politics'],\n",
       "  'scores': [0.633482038974762, 0.2199830561876297, 0.14653486013412476]},\n",
       " {'sequence': 'man bites dog, film at 11',\n",
       "  'labels': ['business', 'politics', 'education'],\n",
       "  'scores': [0.44846415519714355, 0.2853669226169586, 0.26616889238357544]},\n",
       " {'sequence': 'tobacco shown addictive',\n",
       "  'labels': ['business', 'education', 'politics'],\n",
       "  'scores': [0.3697509765625, 0.3159865140914917, 0.3142625391483307]}]"
      ]
     },
     "execution_count": 14,
     "metadata": {},
     "output_type": "execute_result"
    }
   ],
   "source": [
    "classify(P, labels)"
   ]
  },
  {
   "cell_type": "code",
   "execution_count": 15,
   "id": "1917a826-783f-402f-9f80-8e59e75c9168",
   "metadata": {},
   "outputs": [],
   "source": [
    "p = \"man bites dog in suprise ice cream heist\"\n",
    "list_of_candidate_labels = []\n",
    "list_of_candidate_labels.append([\"sports\", \"politics\", \"news\"])\n",
    "list_of_candidate_labels.append([\"sports\", \"politics\", \"news\", \"education\"])\n",
    "list_of_candidate_labels.append([\"sports\", \"politics\", \"news\", \"animals\"])\n",
    "list_of_candidate_labels.append([\"animals\", \"sports\", \"politics\", \"news\"])\n",
    "list_of_candidate_labels.append([\"animals\", \"sports\", \"politics\", \"news\", \"cats\", \"penguins\", \"dogs\", \"people\", \"violence\"])"
   ]
  },
  {
   "cell_type": "code",
   "execution_count": 16,
   "id": "8a35b069-0d97-46b5-bff7-dc0338d36df0",
   "metadata": {},
   "outputs": [
    {
     "name": "stdout",
     "output_type": "stream",
     "text": [
      "Elapsed seconds:   12.618\n",
      "Elapsed seconds:   16.472\n",
      "Elapsed seconds:   15.827\n",
      "Elapsed seconds:   15.307\n",
      "Elapsed seconds:   38.364\n"
     ]
    }
   ],
   "source": [
    "listOfR = []\n",
    "for clabs in list_of_candidate_labels:\n",
    "    listOfR.append( classify(p, clabs))"
   ]
  },
  {
   "cell_type": "code",
   "execution_count": 17,
   "id": "f2a1ba49-62b1-431f-8b63-e6fe88e1deb3",
   "metadata": {},
   "outputs": [
    {
     "data": {
      "text/plain": [
       "[{'sequence': 'man bites dog in suprise ice cream heist',\n",
       "  'labels': ['news', 'sports', 'politics'],\n",
       "  'scores': [0.977099597454071, 0.01595023274421692, 0.006950237788259983]},\n",
       " {'sequence': 'man bites dog in suprise ice cream heist',\n",
       "  'labels': ['news', 'sports', 'politics', 'education'],\n",
       "  'scores': [0.9721549153327942,\n",
       "   0.015869515016674995,\n",
       "   0.006915065925568342,\n",
       "   0.005060562398284674]},\n",
       " {'sequence': 'man bites dog in suprise ice cream heist',\n",
       "  'labels': ['animals', 'news', 'sports', 'politics'],\n",
       "  'scores': [0.687698483467102,\n",
       "   0.305149644613266,\n",
       "   0.0049812812358140945,\n",
       "   0.0021705697290599346]},\n",
       " {'sequence': 'man bites dog in suprise ice cream heist',\n",
       "  'labels': ['animals', 'news', 'sports', 'politics'],\n",
       "  'scores': [0.687698483467102,\n",
       "   0.305149644613266,\n",
       "   0.0049812812358140945,\n",
       "   0.0021705697290599346]},\n",
       " {'sequence': 'man bites dog in suprise ice cream heist',\n",
       "  'labels': ['violence',\n",
       "   'animals',\n",
       "   'news',\n",
       "   'dogs',\n",
       "   'people',\n",
       "   'sports',\n",
       "   'politics',\n",
       "   'cats',\n",
       "   'penguins'],\n",
       "  'scores': [0.5007025003433228,\n",
       "   0.29597291350364685,\n",
       "   0.13133084774017334,\n",
       "   0.06423608213663101,\n",
       "   0.0028649356681853533,\n",
       "   0.0021438528783619404,\n",
       "   0.0009341736440546811,\n",
       "   0.0009238257189281285,\n",
       "   0.000890872033778578]}]"
      ]
     },
     "execution_count": 17,
     "metadata": {},
     "output_type": "execute_result"
    }
   ],
   "source": [
    "listOfR"
   ]
  },
  {
   "cell_type": "code",
   "execution_count": 19,
   "id": "a3ca1e12-c859-4c78-bb29-cee48a093ddc",
   "metadata": {},
   "outputs": [
    {
     "name": "stdout",
     "output_type": "stream",
     "text": [
      "labels: ['news', 'sports', 'politics']\n",
      "  news             0.98   0.98\n",
      "  sports           0.02   0.99\n",
      "  politics         0.01   1.00\n",
      "labels: ['news', 'sports', 'politics', 'education']\n",
      "  news             0.97   0.97\n",
      "  sports           0.02   0.99\n",
      "  politics         0.01   0.99\n",
      "  education        0.01   1.00\n",
      "labels: ['animals', 'news', 'sports', 'politics']\n",
      "  animals          0.69   0.69\n",
      "  news             0.31   0.99\n",
      "  sports           0.00   1.00\n",
      "  politics         0.00   1.00\n",
      "labels: ['animals', 'news', 'sports', 'politics']\n",
      "  animals          0.69   0.69\n",
      "  news             0.31   0.99\n",
      "  sports           0.00   1.00\n",
      "  politics         0.00   1.00\n",
      "labels: ['violence', 'animals', 'news', 'dogs', 'people', 'sports', 'politics', 'cats', 'penguins']\n",
      "  violence         0.50   0.50\n",
      "  animals          0.30   0.80\n",
      "  news             0.13   0.93\n",
      "  dogs             0.06   0.99\n",
      "  people           0.00   1.00\n",
      "  sports           0.00   1.00\n",
      "  politics         0.00   1.00\n",
      "  cats             0.00   1.00\n",
      "  penguins         0.00   1.00\n"
     ]
    }
   ],
   "source": [
    "for R in listOfR:\n",
    "    print(\"labels:\", R[\"labels\"])\n",
    "    for i in range(len(R[\"labels\"])):\n",
    "        print(\"  {:15s} {:5.2f}  {:5.2f}\".format(R[\"labels\"][i], R[\"scores\"][i], sum(R[\"scores\"][0:i+1])))"
   ]
  },
  {
   "cell_type": "markdown",
   "id": "74cd9773-00f0-47f2-a569-5ea8b9e93256",
   "metadata": {},
   "source": [
    "# json data from kaggl"
   ]
  },
  {
   "cell_type": "markdown",
   "id": "c94674b1-c38d-43cd-aa51-7d4344e750d3",
   "metadata": {},
   "source": [
    "1. Misra, Rishabh. \"News Category Dataset.\" arXiv preprint arXiv:2209.11429 (2022).\n",
    "2. Misra, Rishabh and Jigyasa Grover. \"Sculpting Data for ML: The first act of Machine Learning.\" ISBN 9798585463570 (2021)."
   ]
  },
  {
   "cell_type": "code",
   "execution_count": 20,
   "id": "e3583baa-3c68-49a5-9aa2-cd53e335aedf",
   "metadata": {},
   "outputs": [
    {
     "ename": "JSONDecodeError",
     "evalue": "Extra data: line 2 column 1 (char 448)",
     "output_type": "error",
     "traceback": [
      "\u001b[0;31m---------------------------------------------------------------------------\u001b[0m",
      "\u001b[0;31mJSONDecodeError\u001b[0m                           Traceback (most recent call last)",
      "Cell \u001b[0;32mIn[20], line 8\u001b[0m\n\u001b[1;32m      5\u001b[0m fn \u001b[38;5;241m=\u001b[39m os\u001b[38;5;241m.\u001b[39mpath\u001b[38;5;241m.\u001b[39mexpanduser(\u001b[38;5;124m'\u001b[39m\u001b[38;5;124m~\u001b[39m\u001b[38;5;124m'\u001b[39m) \u001b[38;5;241m+\u001b[39m \u001b[38;5;124m\"\u001b[39m\u001b[38;5;124m/Dropbox/datasets/News_Category_Dataset_v3.json\u001b[39m\u001b[38;5;124m\"\u001b[39m\n\u001b[1;32m      7\u001b[0m \u001b[38;5;28;01mwith\u001b[39;00m \u001b[38;5;28mopen\u001b[39m(fn) \u001b[38;5;28;01mas\u001b[39;00m file:\n\u001b[0;32m----> 8\u001b[0m     data \u001b[38;5;241m=\u001b[39m \u001b[43mjson\u001b[49m\u001b[38;5;241;43m.\u001b[39;49m\u001b[43mload\u001b[49m\u001b[43m(\u001b[49m\u001b[43mfile\u001b[49m\u001b[43m)\u001b[49m\n",
      "File \u001b[0;32m~/anaconda3/envs/hugs/lib/python3.9/json/__init__.py:293\u001b[0m, in \u001b[0;36mload\u001b[0;34m(fp, cls, object_hook, parse_float, parse_int, parse_constant, object_pairs_hook, **kw)\u001b[0m\n\u001b[1;32m    274\u001b[0m \u001b[38;5;28;01mdef\u001b[39;00m \u001b[38;5;21mload\u001b[39m(fp, \u001b[38;5;241m*\u001b[39m, \u001b[38;5;28mcls\u001b[39m\u001b[38;5;241m=\u001b[39m\u001b[38;5;28;01mNone\u001b[39;00m, object_hook\u001b[38;5;241m=\u001b[39m\u001b[38;5;28;01mNone\u001b[39;00m, parse_float\u001b[38;5;241m=\u001b[39m\u001b[38;5;28;01mNone\u001b[39;00m,\n\u001b[1;32m    275\u001b[0m         parse_int\u001b[38;5;241m=\u001b[39m\u001b[38;5;28;01mNone\u001b[39;00m, parse_constant\u001b[38;5;241m=\u001b[39m\u001b[38;5;28;01mNone\u001b[39;00m, object_pairs_hook\u001b[38;5;241m=\u001b[39m\u001b[38;5;28;01mNone\u001b[39;00m, \u001b[38;5;241m*\u001b[39m\u001b[38;5;241m*\u001b[39mkw):\n\u001b[1;32m    276\u001b[0m \u001b[38;5;250m    \u001b[39m\u001b[38;5;124;03m\"\"\"Deserialize ``fp`` (a ``.read()``-supporting file-like object containing\u001b[39;00m\n\u001b[1;32m    277\u001b[0m \u001b[38;5;124;03m    a JSON document) to a Python object.\u001b[39;00m\n\u001b[1;32m    278\u001b[0m \n\u001b[0;32m   (...)\u001b[0m\n\u001b[1;32m    291\u001b[0m \u001b[38;5;124;03m    kwarg; otherwise ``JSONDecoder`` is used.\u001b[39;00m\n\u001b[1;32m    292\u001b[0m \u001b[38;5;124;03m    \"\"\"\u001b[39;00m\n\u001b[0;32m--> 293\u001b[0m     \u001b[38;5;28;01mreturn\u001b[39;00m \u001b[43mloads\u001b[49m\u001b[43m(\u001b[49m\u001b[43mfp\u001b[49m\u001b[38;5;241;43m.\u001b[39;49m\u001b[43mread\u001b[49m\u001b[43m(\u001b[49m\u001b[43m)\u001b[49m\u001b[43m,\u001b[49m\n\u001b[1;32m    294\u001b[0m \u001b[43m        \u001b[49m\u001b[38;5;28;43mcls\u001b[39;49m\u001b[38;5;241;43m=\u001b[39;49m\u001b[38;5;28;43mcls\u001b[39;49m\u001b[43m,\u001b[49m\u001b[43m \u001b[49m\u001b[43mobject_hook\u001b[49m\u001b[38;5;241;43m=\u001b[39;49m\u001b[43mobject_hook\u001b[49m\u001b[43m,\u001b[49m\n\u001b[1;32m    295\u001b[0m \u001b[43m        \u001b[49m\u001b[43mparse_float\u001b[49m\u001b[38;5;241;43m=\u001b[39;49m\u001b[43mparse_float\u001b[49m\u001b[43m,\u001b[49m\u001b[43m \u001b[49m\u001b[43mparse_int\u001b[49m\u001b[38;5;241;43m=\u001b[39;49m\u001b[43mparse_int\u001b[49m\u001b[43m,\u001b[49m\n\u001b[1;32m    296\u001b[0m \u001b[43m        \u001b[49m\u001b[43mparse_constant\u001b[49m\u001b[38;5;241;43m=\u001b[39;49m\u001b[43mparse_constant\u001b[49m\u001b[43m,\u001b[49m\u001b[43m \u001b[49m\u001b[43mobject_pairs_hook\u001b[49m\u001b[38;5;241;43m=\u001b[39;49m\u001b[43mobject_pairs_hook\u001b[49m\u001b[43m,\u001b[49m\u001b[43m \u001b[49m\u001b[38;5;241;43m*\u001b[39;49m\u001b[38;5;241;43m*\u001b[39;49m\u001b[43mkw\u001b[49m\u001b[43m)\u001b[49m\n",
      "File \u001b[0;32m~/anaconda3/envs/hugs/lib/python3.9/json/__init__.py:346\u001b[0m, in \u001b[0;36mloads\u001b[0;34m(s, cls, object_hook, parse_float, parse_int, parse_constant, object_pairs_hook, **kw)\u001b[0m\n\u001b[1;32m    341\u001b[0m     s \u001b[38;5;241m=\u001b[39m s\u001b[38;5;241m.\u001b[39mdecode(detect_encoding(s), \u001b[38;5;124m'\u001b[39m\u001b[38;5;124msurrogatepass\u001b[39m\u001b[38;5;124m'\u001b[39m)\n\u001b[1;32m    343\u001b[0m \u001b[38;5;28;01mif\u001b[39;00m (\u001b[38;5;28mcls\u001b[39m \u001b[38;5;129;01mis\u001b[39;00m \u001b[38;5;28;01mNone\u001b[39;00m \u001b[38;5;129;01mand\u001b[39;00m object_hook \u001b[38;5;129;01mis\u001b[39;00m \u001b[38;5;28;01mNone\u001b[39;00m \u001b[38;5;129;01mand\u001b[39;00m\n\u001b[1;32m    344\u001b[0m         parse_int \u001b[38;5;129;01mis\u001b[39;00m \u001b[38;5;28;01mNone\u001b[39;00m \u001b[38;5;129;01mand\u001b[39;00m parse_float \u001b[38;5;129;01mis\u001b[39;00m \u001b[38;5;28;01mNone\u001b[39;00m \u001b[38;5;129;01mand\u001b[39;00m\n\u001b[1;32m    345\u001b[0m         parse_constant \u001b[38;5;129;01mis\u001b[39;00m \u001b[38;5;28;01mNone\u001b[39;00m \u001b[38;5;129;01mand\u001b[39;00m object_pairs_hook \u001b[38;5;129;01mis\u001b[39;00m \u001b[38;5;28;01mNone\u001b[39;00m \u001b[38;5;129;01mand\u001b[39;00m \u001b[38;5;129;01mnot\u001b[39;00m kw):\n\u001b[0;32m--> 346\u001b[0m     \u001b[38;5;28;01mreturn\u001b[39;00m \u001b[43m_default_decoder\u001b[49m\u001b[38;5;241;43m.\u001b[39;49m\u001b[43mdecode\u001b[49m\u001b[43m(\u001b[49m\u001b[43ms\u001b[49m\u001b[43m)\u001b[49m\n\u001b[1;32m    347\u001b[0m \u001b[38;5;28;01mif\u001b[39;00m \u001b[38;5;28mcls\u001b[39m \u001b[38;5;129;01mis\u001b[39;00m \u001b[38;5;28;01mNone\u001b[39;00m:\n\u001b[1;32m    348\u001b[0m     \u001b[38;5;28mcls\u001b[39m \u001b[38;5;241m=\u001b[39m JSONDecoder\n",
      "File \u001b[0;32m~/anaconda3/envs/hugs/lib/python3.9/json/decoder.py:340\u001b[0m, in \u001b[0;36mJSONDecoder.decode\u001b[0;34m(self, s, _w)\u001b[0m\n\u001b[1;32m    338\u001b[0m end \u001b[38;5;241m=\u001b[39m _w(s, end)\u001b[38;5;241m.\u001b[39mend()\n\u001b[1;32m    339\u001b[0m \u001b[38;5;28;01mif\u001b[39;00m end \u001b[38;5;241m!=\u001b[39m \u001b[38;5;28mlen\u001b[39m(s):\n\u001b[0;32m--> 340\u001b[0m     \u001b[38;5;28;01mraise\u001b[39;00m JSONDecodeError(\u001b[38;5;124m\"\u001b[39m\u001b[38;5;124mExtra data\u001b[39m\u001b[38;5;124m\"\u001b[39m, s, end)\n\u001b[1;32m    341\u001b[0m \u001b[38;5;28;01mreturn\u001b[39;00m obj\n",
      "\u001b[0;31mJSONDecodeError\u001b[0m: Extra data: line 2 column 1 (char 448)"
     ]
    }
   ],
   "source": [
    "import json\n",
    "import os\n",
    "# https://www.kaggle.com/datasets/rmisra/news-category-dataset/data\n",
    "\n",
    "fn = os.path.expanduser('~') + \"/Dropbox/datasets/News_Category_Dataset_v3.json\"\n",
    "\n",
    "with open(fn) as file:\n",
    "    data = json.load(file)"
   ]
  },
  {
   "cell_type": "code",
   "execution_count": 21,
   "id": "11148dc3-aa39-44c6-9e74-860d7db95330",
   "metadata": {},
   "outputs": [],
   "source": [
    "datastore = []\n",
    "for line in open(fn, 'r'):\n",
    "    datastore.append( json.loads(line) )"
   ]
  },
  {
   "cell_type": "code",
   "execution_count": 23,
   "id": "1cb689db-3711-4c42-95a4-85cf588e9bfa",
   "metadata": {},
   "outputs": [
    {
     "data": {
      "text/plain": [
       "209527"
      ]
     },
     "execution_count": 23,
     "metadata": {},
     "output_type": "execute_result"
    }
   ],
   "source": [
    "len(datastore)"
   ]
  },
  {
   "cell_type": "code",
   "execution_count": 24,
   "id": "c5837884-e0aa-4d9c-916d-38dc71ddce80",
   "metadata": {},
   "outputs": [
    {
     "data": {
      "text/plain": [
       "[{'link': 'https://www.huffpost.com/entry/funniest-parenting-tweets_l_632d7d15e4b0d12b5403e479',\n",
       "  'headline': 'The Funniest Tweets From Parents This Week (Sept. 17-23)',\n",
       "  'category': 'PARENTING',\n",
       "  'short_description': '\"Accidentally put grown-up toothpaste on my toddler’s toothbrush and he screamed like I was cleaning his teeth with a Carolina Reaper dipped in Tabasco sauce.\"',\n",
       "  'authors': 'Caroline Bologna',\n",
       "  'date': '2022-09-23'},\n",
       " {'link': 'https://www.huffpost.com/entry/amy-cooper-loses-discrimination-lawsuit-franklin-templeton_n_632c6463e4b09d8701bd227e',\n",
       "  'headline': 'Woman Who Called Cops On Black Bird-Watcher Loses Lawsuit Against Ex-Employer',\n",
       "  'category': 'U.S. NEWS',\n",
       "  'short_description': 'Amy Cooper accused investment firm Franklin Templeton of unfairly firing her and branding her a racist after video of the Central Park encounter went viral.',\n",
       "  'authors': 'Nina Golgowski',\n",
       "  'date': '2022-09-22'}]"
      ]
     },
     "execution_count": 24,
     "metadata": {},
     "output_type": "execute_result"
    }
   ],
   "source": [
    "datastore[3:5]"
   ]
  },
  {
   "cell_type": "code",
   "execution_count": 26,
   "id": "ea0c049d-fc6f-4655-a685-10dbbf37283e",
   "metadata": {},
   "outputs": [
    {
     "data": {
      "text/plain": [
       "{'U.S. NEWS': 1377,\n",
       " 'COMEDY': 5400,\n",
       " 'PARENTING': 8791,\n",
       " 'WORLD NEWS': 3299,\n",
       " 'CULTURE & ARTS': 1074,\n",
       " 'TECH': 2104,\n",
       " 'SPORTS': 5077,\n",
       " 'ENTERTAINMENT': 17362,\n",
       " 'POLITICS': 35602,\n",
       " 'WEIRD NEWS': 2777,\n",
       " 'ENVIRONMENT': 1444,\n",
       " 'EDUCATION': 1014,\n",
       " 'CRIME': 3562,\n",
       " 'SCIENCE': 2206,\n",
       " 'WELLNESS': 17945,\n",
       " 'BUSINESS': 5992,\n",
       " 'STYLE & BEAUTY': 9814,\n",
       " 'FOOD & DRINK': 6340,\n",
       " 'MEDIA': 2944,\n",
       " 'QUEER VOICES': 6347,\n",
       " 'HOME & LIVING': 4320,\n",
       " 'WOMEN': 3572,\n",
       " 'BLACK VOICES': 4583,\n",
       " 'TRAVEL': 9900,\n",
       " 'MONEY': 1756,\n",
       " 'RELIGION': 2577,\n",
       " 'LATINO VOICES': 1130,\n",
       " 'IMPACT': 3484,\n",
       " 'WEDDINGS': 3653,\n",
       " 'COLLEGE': 1144,\n",
       " 'PARENTS': 3955,\n",
       " 'ARTS & CULTURE': 1339,\n",
       " 'STYLE': 2254,\n",
       " 'GREEN': 2622,\n",
       " 'TASTE': 2096,\n",
       " 'HEALTHY LIVING': 6694,\n",
       " 'THE WORLDPOST': 3664,\n",
       " 'GOOD NEWS': 1398,\n",
       " 'WORLDPOST': 2579,\n",
       " 'FIFTY': 1401,\n",
       " 'ARTS': 1509,\n",
       " 'DIVORCE': 3426}"
      ]
     },
     "execution_count": 26,
     "metadata": {},
     "output_type": "execute_result"
    }
   ],
   "source": [
    "categories = {}\n",
    "for d in datastore:\n",
    "    cname = d[\"category\"]\n",
    "    if cname in categories:\n",
    "        categories[cname] += 1\n",
    "    else:\n",
    "        categories[cname] = 1\n",
    "categories"
   ]
  },
  {
   "cell_type": "code",
   "execution_count": 27,
   "id": "34499d0f-ac97-4030-9dba-c07bb6a94c8e",
   "metadata": {},
   "outputs": [],
   "source": [
    "import pandas as pd\n",
    "df = pd.DataFrame(datastore)"
   ]
  },
  {
   "cell_type": "code",
   "execution_count": 28,
   "id": "3120d03d-0efa-4de5-a5f8-faa447d38540",
   "metadata": {},
   "outputs": [
    {
     "data": {
      "text/html": [
       "<div>\n",
       "<style scoped>\n",
       "    .dataframe tbody tr th:only-of-type {\n",
       "        vertical-align: middle;\n",
       "    }\n",
       "\n",
       "    .dataframe tbody tr th {\n",
       "        vertical-align: top;\n",
       "    }\n",
       "\n",
       "    .dataframe thead th {\n",
       "        text-align: right;\n",
       "    }\n",
       "</style>\n",
       "<table border=\"1\" class=\"dataframe\">\n",
       "  <thead>\n",
       "    <tr style=\"text-align: right;\">\n",
       "      <th></th>\n",
       "      <th>link</th>\n",
       "      <th>headline</th>\n",
       "      <th>category</th>\n",
       "      <th>short_description</th>\n",
       "      <th>authors</th>\n",
       "      <th>date</th>\n",
       "    </tr>\n",
       "  </thead>\n",
       "  <tbody>\n",
       "    <tr>\n",
       "      <th>0</th>\n",
       "      <td>https://www.huffpost.com/entry/covid-boosters-...</td>\n",
       "      <td>Over 4 Million Americans Roll Up Sleeves For O...</td>\n",
       "      <td>U.S. NEWS</td>\n",
       "      <td>Health experts said it is too early to predict...</td>\n",
       "      <td>Carla K. Johnson, AP</td>\n",
       "      <td>2022-09-23</td>\n",
       "    </tr>\n",
       "    <tr>\n",
       "      <th>1</th>\n",
       "      <td>https://www.huffpost.com/entry/american-airlin...</td>\n",
       "      <td>American Airlines Flyer Charged, Banned For Li...</td>\n",
       "      <td>U.S. NEWS</td>\n",
       "      <td>He was subdued by passengers and crew when he ...</td>\n",
       "      <td>Mary Papenfuss</td>\n",
       "      <td>2022-09-23</td>\n",
       "    </tr>\n",
       "    <tr>\n",
       "      <th>2</th>\n",
       "      <td>https://www.huffpost.com/entry/funniest-tweets...</td>\n",
       "      <td>23 Of The Funniest Tweets About Cats And Dogs ...</td>\n",
       "      <td>COMEDY</td>\n",
       "      <td>\"Until you have a dog you don't understand wha...</td>\n",
       "      <td>Elyse Wanshel</td>\n",
       "      <td>2022-09-23</td>\n",
       "    </tr>\n",
       "    <tr>\n",
       "      <th>3</th>\n",
       "      <td>https://www.huffpost.com/entry/funniest-parent...</td>\n",
       "      <td>The Funniest Tweets From Parents This Week (Se...</td>\n",
       "      <td>PARENTING</td>\n",
       "      <td>\"Accidentally put grown-up toothpaste on my to...</td>\n",
       "      <td>Caroline Bologna</td>\n",
       "      <td>2022-09-23</td>\n",
       "    </tr>\n",
       "    <tr>\n",
       "      <th>4</th>\n",
       "      <td>https://www.huffpost.com/entry/amy-cooper-lose...</td>\n",
       "      <td>Woman Who Called Cops On Black Bird-Watcher Lo...</td>\n",
       "      <td>U.S. NEWS</td>\n",
       "      <td>Amy Cooper accused investment firm Franklin Te...</td>\n",
       "      <td>Nina Golgowski</td>\n",
       "      <td>2022-09-22</td>\n",
       "    </tr>\n",
       "    <tr>\n",
       "      <th>...</th>\n",
       "      <td>...</td>\n",
       "      <td>...</td>\n",
       "      <td>...</td>\n",
       "      <td>...</td>\n",
       "      <td>...</td>\n",
       "      <td>...</td>\n",
       "    </tr>\n",
       "    <tr>\n",
       "      <th>209522</th>\n",
       "      <td>https://www.huffingtonpost.com/entry/rim-ceo-t...</td>\n",
       "      <td>RIM CEO Thorsten Heins' 'Significant' Plans Fo...</td>\n",
       "      <td>TECH</td>\n",
       "      <td>Verizon Wireless and AT&amp;T are already promotin...</td>\n",
       "      <td>Reuters, Reuters</td>\n",
       "      <td>2012-01-28</td>\n",
       "    </tr>\n",
       "    <tr>\n",
       "      <th>209523</th>\n",
       "      <td>https://www.huffingtonpost.com/entry/maria-sha...</td>\n",
       "      <td>Maria Sharapova Stunned By Victoria Azarenka I...</td>\n",
       "      <td>SPORTS</td>\n",
       "      <td>Afterward, Azarenka, more effusive with the pr...</td>\n",
       "      <td></td>\n",
       "      <td>2012-01-28</td>\n",
       "    </tr>\n",
       "    <tr>\n",
       "      <th>209524</th>\n",
       "      <td>https://www.huffingtonpost.com/entry/super-bow...</td>\n",
       "      <td>Giants Over Patriots, Jets Over Colts Among  M...</td>\n",
       "      <td>SPORTS</td>\n",
       "      <td>Leading up to Super Bowl XLVI, the most talked...</td>\n",
       "      <td></td>\n",
       "      <td>2012-01-28</td>\n",
       "    </tr>\n",
       "    <tr>\n",
       "      <th>209525</th>\n",
       "      <td>https://www.huffingtonpost.com/entry/aldon-smi...</td>\n",
       "      <td>Aldon Smith Arrested: 49ers Linebacker Busted ...</td>\n",
       "      <td>SPORTS</td>\n",
       "      <td>CORRECTION: An earlier version of this story i...</td>\n",
       "      <td></td>\n",
       "      <td>2012-01-28</td>\n",
       "    </tr>\n",
       "    <tr>\n",
       "      <th>209526</th>\n",
       "      <td>https://www.huffingtonpost.com/entry/dwight-ho...</td>\n",
       "      <td>Dwight Howard Rips Teammates After Magic Loss ...</td>\n",
       "      <td>SPORTS</td>\n",
       "      <td>The five-time all-star center tore into his te...</td>\n",
       "      <td></td>\n",
       "      <td>2012-01-28</td>\n",
       "    </tr>\n",
       "  </tbody>\n",
       "</table>\n",
       "<p>209527 rows × 6 columns</p>\n",
       "</div>"
      ],
      "text/plain": [
       "                                                     link  \\\n",
       "0       https://www.huffpost.com/entry/covid-boosters-...   \n",
       "1       https://www.huffpost.com/entry/american-airlin...   \n",
       "2       https://www.huffpost.com/entry/funniest-tweets...   \n",
       "3       https://www.huffpost.com/entry/funniest-parent...   \n",
       "4       https://www.huffpost.com/entry/amy-cooper-lose...   \n",
       "...                                                   ...   \n",
       "209522  https://www.huffingtonpost.com/entry/rim-ceo-t...   \n",
       "209523  https://www.huffingtonpost.com/entry/maria-sha...   \n",
       "209524  https://www.huffingtonpost.com/entry/super-bow...   \n",
       "209525  https://www.huffingtonpost.com/entry/aldon-smi...   \n",
       "209526  https://www.huffingtonpost.com/entry/dwight-ho...   \n",
       "\n",
       "                                                 headline   category  \\\n",
       "0       Over 4 Million Americans Roll Up Sleeves For O...  U.S. NEWS   \n",
       "1       American Airlines Flyer Charged, Banned For Li...  U.S. NEWS   \n",
       "2       23 Of The Funniest Tweets About Cats And Dogs ...     COMEDY   \n",
       "3       The Funniest Tweets From Parents This Week (Se...  PARENTING   \n",
       "4       Woman Who Called Cops On Black Bird-Watcher Lo...  U.S. NEWS   \n",
       "...                                                   ...        ...   \n",
       "209522  RIM CEO Thorsten Heins' 'Significant' Plans Fo...       TECH   \n",
       "209523  Maria Sharapova Stunned By Victoria Azarenka I...     SPORTS   \n",
       "209524  Giants Over Patriots, Jets Over Colts Among  M...     SPORTS   \n",
       "209525  Aldon Smith Arrested: 49ers Linebacker Busted ...     SPORTS   \n",
       "209526  Dwight Howard Rips Teammates After Magic Loss ...     SPORTS   \n",
       "\n",
       "                                        short_description  \\\n",
       "0       Health experts said it is too early to predict...   \n",
       "1       He was subdued by passengers and crew when he ...   \n",
       "2       \"Until you have a dog you don't understand wha...   \n",
       "3       \"Accidentally put grown-up toothpaste on my to...   \n",
       "4       Amy Cooper accused investment firm Franklin Te...   \n",
       "...                                                   ...   \n",
       "209522  Verizon Wireless and AT&T are already promotin...   \n",
       "209523  Afterward, Azarenka, more effusive with the pr...   \n",
       "209524  Leading up to Super Bowl XLVI, the most talked...   \n",
       "209525  CORRECTION: An earlier version of this story i...   \n",
       "209526  The five-time all-star center tore into his te...   \n",
       "\n",
       "                     authors        date  \n",
       "0       Carla K. Johnson, AP  2022-09-23  \n",
       "1             Mary Papenfuss  2022-09-23  \n",
       "2              Elyse Wanshel  2022-09-23  \n",
       "3           Caroline Bologna  2022-09-23  \n",
       "4             Nina Golgowski  2022-09-22  \n",
       "...                      ...         ...  \n",
       "209522      Reuters, Reuters  2012-01-28  \n",
       "209523                        2012-01-28  \n",
       "209524                        2012-01-28  \n",
       "209525                        2012-01-28  \n",
       "209526                        2012-01-28  \n",
       "\n",
       "[209527 rows x 6 columns]"
      ]
     },
     "execution_count": 28,
     "metadata": {},
     "output_type": "execute_result"
    }
   ],
   "source": [
    "df"
   ]
  },
  {
   "cell_type": "code",
   "execution_count": 30,
   "id": "1e9e7a63-20fb-41c6-9f49-d1a2f35a5165",
   "metadata": {},
   "outputs": [
    {
     "data": {
      "text/plain": [
       "array(['U.S. NEWS', 'COMEDY', 'PARENTING', 'WORLD NEWS', 'CULTURE & ARTS',\n",
       "       'TECH', 'SPORTS', 'ENTERTAINMENT', 'POLITICS', 'WEIRD NEWS',\n",
       "       'ENVIRONMENT', 'EDUCATION', 'CRIME', 'SCIENCE', 'WELLNESS',\n",
       "       'BUSINESS', 'STYLE & BEAUTY', 'FOOD & DRINK', 'MEDIA',\n",
       "       'QUEER VOICES', 'HOME & LIVING', 'WOMEN', 'BLACK VOICES', 'TRAVEL',\n",
       "       'MONEY', 'RELIGION', 'LATINO VOICES', 'IMPACT', 'WEDDINGS',\n",
       "       'COLLEGE', 'PARENTS', 'ARTS & CULTURE', 'STYLE', 'GREEN', 'TASTE',\n",
       "       'HEALTHY LIVING', 'THE WORLDPOST', 'GOOD NEWS', 'WORLDPOST',\n",
       "       'FIFTY', 'ARTS', 'DIVORCE'], dtype=object)"
      ]
     },
     "execution_count": 30,
     "metadata": {},
     "output_type": "execute_result"
    }
   ],
   "source": [
    "df[\"category\"].unique()"
   ]
  },
  {
   "cell_type": "code",
   "execution_count": 31,
   "id": "2fb836c5-5442-477c-9128-9b4603f620e3",
   "metadata": {},
   "outputs": [
    {
     "data": {
      "text/plain": [
       "42"
      ]
     },
     "execution_count": 31,
     "metadata": {},
     "output_type": "execute_result"
    }
   ],
   "source": [
    "len(df[\"category\"].unique())"
   ]
  },
  {
   "cell_type": "code",
   "execution_count": 33,
   "id": "38c58327-494e-4f9c-a444-3dbcd61d2a79",
   "metadata": {},
   "outputs": [],
   "source": [
    "ourcats = ['CRIME', 'TECH', 'MONEY', 'WORLD NEWS', 'EDUCATION']"
   ]
  },
  {
   "cell_type": "code",
   "execution_count": 34,
   "id": "7d6d6f83-241d-4879-b813-e5daa3328fc6",
   "metadata": {},
   "outputs": [],
   "source": [
    "df2 = df[df[\"category\"].isin( ourcats )]"
   ]
  },
  {
   "cell_type": "code",
   "execution_count": 35,
   "id": "378349dc-e595-43cf-b61a-989d87425843",
   "metadata": {},
   "outputs": [
    {
     "data": {
      "text/plain": [
       "(209527, 6)"
      ]
     },
     "execution_count": 35,
     "metadata": {},
     "output_type": "execute_result"
    }
   ],
   "source": [
    "df.shape"
   ]
  },
  {
   "cell_type": "code",
   "execution_count": 36,
   "id": "7103f14d-9638-4e31-89b7-7257cf92cf07",
   "metadata": {},
   "outputs": [
    {
     "data": {
      "text/plain": [
       "(11735, 6)"
      ]
     },
     "execution_count": 36,
     "metadata": {},
     "output_type": "execute_result"
    }
   ],
   "source": [
    "df2.shape"
   ]
  },
  {
   "cell_type": "code",
   "execution_count": 38,
   "id": "c8d5150b-cbe2-4b9c-b6ff-74da5b943fbf",
   "metadata": {},
   "outputs": [
    {
     "data": {
      "text/plain": [
       "array(['WORLD NEWS', 'TECH', 'EDUCATION', 'CRIME', 'MONEY'], dtype=object)"
      ]
     },
     "execution_count": 38,
     "metadata": {},
     "output_type": "execute_result"
    }
   ],
   "source": [
    "df2[\"category\"].unique()"
   ]
  },
  {
   "cell_type": "code",
   "execution_count": 45,
   "id": "6f47f3b4-9b6c-4b90-8a94-6dd6ade84ca2",
   "metadata": {},
   "outputs": [],
   "source": [
    "df3 = df2.sample(10)"
   ]
  },
  {
   "cell_type": "code",
   "execution_count": 46,
   "id": "38a708b8-82ee-441e-af0b-3cb3eea07b9b",
   "metadata": {},
   "outputs": [
    {
     "data": {
      "text/html": [
       "<div>\n",
       "<style scoped>\n",
       "    .dataframe tbody tr th:only-of-type {\n",
       "        vertical-align: middle;\n",
       "    }\n",
       "\n",
       "    .dataframe tbody tr th {\n",
       "        vertical-align: top;\n",
       "    }\n",
       "\n",
       "    .dataframe thead th {\n",
       "        text-align: right;\n",
       "    }\n",
       "</style>\n",
       "<table border=\"1\" class=\"dataframe\">\n",
       "  <thead>\n",
       "    <tr style=\"text-align: right;\">\n",
       "      <th></th>\n",
       "      <th>link</th>\n",
       "      <th>headline</th>\n",
       "      <th>category</th>\n",
       "      <th>short_description</th>\n",
       "      <th>authors</th>\n",
       "      <th>date</th>\n",
       "    </tr>\n",
       "  </thead>\n",
       "  <tbody>\n",
       "    <tr>\n",
       "      <th>195552</th>\n",
       "      <td>https://www.huffingtonpost.com/entry/top-6-way...</td>\n",
       "      <td>Top 6 Ways to Pay Off Any Loan Faster</td>\n",
       "      <td>MONEY</td>\n",
       "      <td>After paying off all my credit cards, my auto ...</td>\n",
       "      <td>Carrie Smith, Contributor\\nFinancial Writer &amp; ...</td>\n",
       "      <td>2012-06-26</td>\n",
       "    </tr>\n",
       "    <tr>\n",
       "      <th>203280</th>\n",
       "      <td>https://www.huffingtonpost.com/entry/marlinde-...</td>\n",
       "      <td>Mirlande Wilson, Alleged Mega Millions Winner,...</td>\n",
       "      <td>MONEY</td>\n",
       "      <td>But when pressed for details by reporters, Wil...</td>\n",
       "      <td></td>\n",
       "      <td>2012-04-04</td>\n",
       "    </tr>\n",
       "    <tr>\n",
       "      <th>26324</th>\n",
       "      <td>https://www.huffingtonpost.com/entry/why-us-al...</td>\n",
       "      <td>Why U.S. Allies In The Middle East Should Be A...</td>\n",
       "      <td>WORLD NEWS</td>\n",
       "      <td>North Korea’s latest ballistic missile launche...</td>\n",
       "      <td>Ephraim Sneh, Contributorformer Israeli Deputy...</td>\n",
       "      <td>2017-08-30</td>\n",
       "    </tr>\n",
       "    <tr>\n",
       "      <th>182820</th>\n",
       "      <td>https://www.huffingtonpost.com/entry/china-cop...</td>\n",
       "      <td>China's Copyright Piracy Problem Isn't As Big ...</td>\n",
       "      <td>TECH</td>\n",
       "      <td>By Ben Blanchard \"This could only happen becau...</td>\n",
       "      <td>Reuters, Reuters</td>\n",
       "      <td>2012-11-11</td>\n",
       "    </tr>\n",
       "    <tr>\n",
       "      <th>30184</th>\n",
       "      <td>https://www.huffingtonpost.com/entry/do-girls-...</td>\n",
       "      <td>Do Girls Have Access To Team Sports? Many Cali...</td>\n",
       "      <td>EDUCATION</td>\n",
       "      <td>No research has found that girls are less inte...</td>\n",
       "      <td>EdSource, ContributorNonprofit news site focus...</td>\n",
       "      <td>2017-07-14</td>\n",
       "    </tr>\n",
       "    <tr>\n",
       "      <th>170974</th>\n",
       "      <td>https://www.huffingtonpost.com/entry/steubenvi...</td>\n",
       "      <td>Steubenville Rape Trial Verdict To Be Handed D...</td>\n",
       "      <td>CRIME</td>\n",
       "      <td>Defense attorney Walter Madison countered by h...</td>\n",
       "      <td>Reuters, Reuters</td>\n",
       "      <td>2013-03-17</td>\n",
       "    </tr>\n",
       "    <tr>\n",
       "      <th>90745</th>\n",
       "      <td>https://www.huffingtonpost.com/entry/hackers-a...</td>\n",
       "      <td>Law Enforcement To Dark Web Hackers: Give Us D...</td>\n",
       "      <td>TECH</td>\n",
       "      <td>\"We [are] appealing to you to do the right thi...</td>\n",
       "      <td>Dana Liebelson</td>\n",
       "      <td>2015-08-24</td>\n",
       "    </tr>\n",
       "    <tr>\n",
       "      <th>9639</th>\n",
       "      <td>https://www.huffingtonpost.com/entry/george-zi...</td>\n",
       "      <td>George Zimmerman Accused Of Stalking Detective...</td>\n",
       "      <td>CRIME</td>\n",
       "      <td>Zimmerman appeared to threaten to feed the inv...</td>\n",
       "      <td>David Moye</td>\n",
       "      <td>2018-05-08</td>\n",
       "    </tr>\n",
       "    <tr>\n",
       "      <th>91769</th>\n",
       "      <td>https://www.huffingtonpost.com/entry/beauty-qu...</td>\n",
       "      <td>Beauty Queen Arrested For Allegedly Faking Can...</td>\n",
       "      <td>CRIME</td>\n",
       "      <td>One fundraising event brought in $14,000, auth...</td>\n",
       "      <td>Simon McCormack</td>\n",
       "      <td>2015-08-12</td>\n",
       "    </tr>\n",
       "    <tr>\n",
       "      <th>125757</th>\n",
       "      <td>https://www.huffingtonpost.com/entry/how-to-pr...</td>\n",
       "      <td>How to Prevent Summertime Scams</td>\n",
       "      <td>CRIME</td>\n",
       "      <td>Summertime is here -- and that means sunshine ...</td>\n",
       "      <td>Robert Siciliano, ContributorPersonal Security...</td>\n",
       "      <td>2014-07-19</td>\n",
       "    </tr>\n",
       "  </tbody>\n",
       "</table>\n",
       "</div>"
      ],
      "text/plain": [
       "                                                     link  \\\n",
       "195552  https://www.huffingtonpost.com/entry/top-6-way...   \n",
       "203280  https://www.huffingtonpost.com/entry/marlinde-...   \n",
       "26324   https://www.huffingtonpost.com/entry/why-us-al...   \n",
       "182820  https://www.huffingtonpost.com/entry/china-cop...   \n",
       "30184   https://www.huffingtonpost.com/entry/do-girls-...   \n",
       "170974  https://www.huffingtonpost.com/entry/steubenvi...   \n",
       "90745   https://www.huffingtonpost.com/entry/hackers-a...   \n",
       "9639    https://www.huffingtonpost.com/entry/george-zi...   \n",
       "91769   https://www.huffingtonpost.com/entry/beauty-qu...   \n",
       "125757  https://www.huffingtonpost.com/entry/how-to-pr...   \n",
       "\n",
       "                                                 headline    category  \\\n",
       "195552              Top 6 Ways to Pay Off Any Loan Faster       MONEY   \n",
       "203280  Mirlande Wilson, Alleged Mega Millions Winner,...       MONEY   \n",
       "26324   Why U.S. Allies In The Middle East Should Be A...  WORLD NEWS   \n",
       "182820  China's Copyright Piracy Problem Isn't As Big ...        TECH   \n",
       "30184   Do Girls Have Access To Team Sports? Many Cali...   EDUCATION   \n",
       "170974  Steubenville Rape Trial Verdict To Be Handed D...       CRIME   \n",
       "90745   Law Enforcement To Dark Web Hackers: Give Us D...        TECH   \n",
       "9639    George Zimmerman Accused Of Stalking Detective...       CRIME   \n",
       "91769   Beauty Queen Arrested For Allegedly Faking Can...       CRIME   \n",
       "125757                    How to Prevent Summertime Scams       CRIME   \n",
       "\n",
       "                                        short_description  \\\n",
       "195552  After paying off all my credit cards, my auto ...   \n",
       "203280  But when pressed for details by reporters, Wil...   \n",
       "26324   North Korea’s latest ballistic missile launche...   \n",
       "182820  By Ben Blanchard \"This could only happen becau...   \n",
       "30184   No research has found that girls are less inte...   \n",
       "170974  Defense attorney Walter Madison countered by h...   \n",
       "90745   \"We [are] appealing to you to do the right thi...   \n",
       "9639    Zimmerman appeared to threaten to feed the inv...   \n",
       "91769   One fundraising event brought in $14,000, auth...   \n",
       "125757  Summertime is here -- and that means sunshine ...   \n",
       "\n",
       "                                                  authors        date  \n",
       "195552  Carrie Smith, Contributor\\nFinancial Writer & ...  2012-06-26  \n",
       "203280                                                     2012-04-04  \n",
       "26324   Ephraim Sneh, Contributorformer Israeli Deputy...  2017-08-30  \n",
       "182820                                   Reuters, Reuters  2012-11-11  \n",
       "30184   EdSource, ContributorNonprofit news site focus...  2017-07-14  \n",
       "170974                                   Reuters, Reuters  2013-03-17  \n",
       "90745                                      Dana Liebelson  2015-08-24  \n",
       "9639                                           David Moye  2018-05-08  \n",
       "91769                                     Simon McCormack  2015-08-12  \n",
       "125757  Robert Siciliano, ContributorPersonal Security...  2014-07-19  "
      ]
     },
     "execution_count": 46,
     "metadata": {},
     "output_type": "execute_result"
    }
   ],
   "source": [
    "df3"
   ]
  },
  {
   "cell_type": "code",
   "execution_count": 47,
   "id": "c4a1f9bf-ac64-427f-8ac6-ebaa02171dff",
   "metadata": {},
   "outputs": [],
   "source": [
    "P = list(df3[\"short_description\"])"
   ]
  },
  {
   "cell_type": "code",
   "execution_count": 48,
   "id": "73f07e7d-4cc4-4b37-9896-3ed34e489610",
   "metadata": {},
   "outputs": [
    {
     "name": "stdout",
     "output_type": "stream",
     "text": [
      "....Elapsed seconds:   62.128\n"
     ]
    }
   ],
   "source": [
    "R = classify(P, ourcats)"
   ]
  },
  {
   "cell_type": "code",
   "execution_count": 49,
   "id": "2fbba791-4bfb-44b4-baa2-013fbd58436d",
   "metadata": {},
   "outputs": [
    {
     "data": {
      "text/plain": [
       "[{'sequence': 'After paying off all my credit cards, my auto loan was the only thing between me and complete debt freedom. Here are some of the best methods to pay off your car loan, credit cards, or any type of debt even faster.',\n",
       "  'labels': ['TECH', 'MONEY', 'WORLD NEWS', 'EDUCATION', 'CRIME'],\n",
       "  'scores': [0.3999278247356415,\n",
       "   0.38003939390182495,\n",
       "   0.09095016866922379,\n",
       "   0.07218597829341888,\n",
       "   0.05689667537808418]},\n",
       " {'sequence': 'But when pressed for details by reporters, Wilson changed her story and said that a coworker purchased the tickets on her',\n",
       "  'labels': ['MONEY', 'TECH', 'CRIME', 'WORLD NEWS', 'EDUCATION'],\n",
       "  'scores': [0.42913618683815,\n",
       "   0.284102201461792,\n",
       "   0.12919659912586212,\n",
       "   0.09391582757234573,\n",
       "   0.06364918500185013]},\n",
       " {'sequence': 'North Korea’s latest ballistic missile launches remind us that this remains a crisis the Trump administration is forced to',\n",
       "  'labels': ['TECH', 'CRIME', 'WORLD NEWS', 'EDUCATION', 'MONEY'],\n",
       "  'scores': [0.3353336453437805,\n",
       "   0.2980709969997406,\n",
       "   0.2499663233757019,\n",
       "   0.07808244973421097,\n",
       "   0.03854658827185631]},\n",
       " {'sequence': 'By Ben Blanchard \"This could only happen because China\\'s intellectual property rights environment sets foreign investors',\n",
       "  'labels': ['TECH', 'WORLD NEWS', 'MONEY', 'CRIME', 'EDUCATION'],\n",
       "  'scores': [0.3496255874633789,\n",
       "   0.25811776518821716,\n",
       "   0.20995844900608063,\n",
       "   0.10156859457492828,\n",
       "   0.08072967827320099]},\n",
       " {'sequence': \"No research has found that girls are less interested in competitive athletic teams than boys, according to the Women's Sports Foundation.\",\n",
       "  'labels': ['TECH', 'WORLD NEWS', 'MONEY', 'EDUCATION', 'CRIME'],\n",
       "  'scores': [0.4823321998119354,\n",
       "   0.18889166414737701,\n",
       "   0.133049875497818,\n",
       "   0.1235092505812645,\n",
       "   0.0722169578075409]},\n",
       " {'sequence': 'Defense attorney Walter Madison countered by highlighting inconsistencies in the accounts of various witnesses, one of whom',\n",
       "  'labels': ['TECH', 'WORLD NEWS', 'EDUCATION', 'CRIME', 'MONEY'],\n",
       "  'scores': [0.47439321875572205,\n",
       "   0.1954856514930725,\n",
       "   0.14901630580425262,\n",
       "   0.1251775175333023,\n",
       "   0.055927325040102005]},\n",
       " {'sequence': '\"We [are] appealing to you to do the right thing.\"',\n",
       "  'labels': ['TECH', 'WORLD NEWS', 'EDUCATION', 'CRIME', 'MONEY'],\n",
       "  'scores': [0.43707889318466187,\n",
       "   0.2816949784755707,\n",
       "   0.14483679831027985,\n",
       "   0.07247334718704224,\n",
       "   0.06391595304012299]},\n",
       " {'sequence': 'Zimmerman appeared to threaten to feed the investigator to an alligator.',\n",
       "  'labels': ['TECH', 'CRIME', 'WORLD NEWS', 'EDUCATION', 'MONEY'],\n",
       "  'scores': [0.3506017029285431,\n",
       "   0.2682924270629883,\n",
       "   0.1631394326686859,\n",
       "   0.1331508308649063,\n",
       "   0.0848156064748764]},\n",
       " {'sequence': 'One fundraising event brought in $14,000, authorities said.',\n",
       "  'labels': ['MONEY', 'TECH', 'WORLD NEWS', 'EDUCATION', 'CRIME'],\n",
       "  'scores': [0.8707180023193359,\n",
       "   0.05716020613908768,\n",
       "   0.04046320542693138,\n",
       "   0.016104066744446754,\n",
       "   0.015554482117295265]},\n",
       " {'sequence': 'Summertime is here -- and that means sunshine and vacations. Most people love summertime, including scammers! Hackers can use this time to take advantage while we are planning vacations or on vacation or just enjoying fun in the sun. Here are some key scams to watch out for this summer.',\n",
       "  'labels': ['CRIME', 'TECH', 'MONEY', 'EDUCATION', 'WORLD NEWS'],\n",
       "  'scores': [0.4014492332935333,\n",
       "   0.24221405386924744,\n",
       "   0.1410299390554428,\n",
       "   0.10924006253480911,\n",
       "   0.10606677830219269]}]"
      ]
     },
     "execution_count": 49,
     "metadata": {},
     "output_type": "execute_result"
    }
   ],
   "source": [
    "R"
   ]
  },
  {
   "cell_type": "code",
   "execution_count": 63,
   "id": "f2e5d795-0b0b-4318-b5a0-32adb9c1d6b9",
   "metadata": {},
   "outputs": [
    {
     "name": "stdout",
     "output_type": "stream",
     "text": [
      " 1 After paying off all my credit cards, my auto loan was the only thing between me and complete debt freedom. Here are some of the best methods to pay off your car loan, credit cards, or any type of debt even faster.\n",
      "   TECH             0.400\n",
      "   MONEY            0.380\n",
      "   actual:  MONEY\n",
      "After paying off all my credit cards, my\n",
      " 2 But when pressed for details by reporters, Wilson changed her story and said that a coworker purchased the tickets on her\n",
      "   MONEY            0.429\n",
      "   TECH             0.284\n",
      "   actual:  MONEY\n",
      "But when pressed for details by reporter\n",
      " 3 North Korea’s latest ballistic missile launches remind us that this remains a crisis the Trump administration is forced to\n",
      "   TECH             0.335\n",
      "   CRIME            0.298\n",
      "   actual:  WORLD NEWS\n",
      "North Korea’s latest ballistic missile l\n",
      " 4 By Ben Blanchard \"This could only happen because China's intellectual property rights environment sets foreign investors\n",
      "   TECH             0.350\n",
      "   WORLD NEWS       0.258\n",
      "   actual:  TECH\n",
      "By Ben Blanchard \"This could only happen\n",
      " 5 No research has found that girls are less interested in competitive athletic teams than boys, according to the Women's Sports Foundation.\n",
      "   TECH             0.482\n",
      "   WORLD NEWS       0.189\n",
      "   actual:  EDUCATION\n",
      "No research has found that girls are les\n",
      " 6 Defense attorney Walter Madison countered by highlighting inconsistencies in the accounts of various witnesses, one of whom\n",
      "   TECH             0.474\n",
      "   WORLD NEWS       0.195\n",
      "   actual:  CRIME\n",
      "Defense attorney Walter Madison countere\n",
      " 7 \"We [are] appealing to you to do the right thing.\"\n",
      "   TECH             0.437\n",
      "   WORLD NEWS       0.282\n",
      "   actual:  TECH\n",
      "\"We [are] appealing to you to do the rig\n",
      " 8 Zimmerman appeared to threaten to feed the investigator to an alligator.\n",
      "   TECH             0.351\n",
      "   CRIME            0.268\n",
      "   actual:  CRIME\n",
      "Zimmerman appeared to threaten to feed t\n",
      " 9 One fundraising event brought in $14,000, authorities said.\n",
      "   MONEY            0.871\n",
      "   TECH             0.057\n",
      "   actual:  CRIME\n",
      "One fundraising event brought in $14,000\n",
      "10 Summertime is here -- and that means sunshine and vacations. Most people love summertime, including scammers! Hackers can use this time to take advantage while we are planning vacations or on vacation or just enjoying fun in the sun. Here are some key scams to watch out for this summer.\n",
      "   CRIME            0.401\n",
      "   TECH             0.242\n",
      "   actual:  CRIME\n",
      "Summertime is here -- and that means sun\n"
     ]
    }
   ],
   "source": [
    "for i, r in enumerate(R):\n",
    "    print(\"{:2d} {:}\".format(i+1, r['sequence']))\n",
    "    for j in range(2):\n",
    "        print(\"   {:15s}  {:5.3f}\".format(r[\"labels\"][j], r[\"scores\"][j]))\n",
    "    print(  \"   actual: \", df3.iloc[i][\"category\"])\n",
    "    print(df3.iloc[i][\"short_description\"][0:40])\n"
   ]
  },
  {
   "cell_type": "code",
   "execution_count": 68,
   "id": "6d8bfe1e-fe36-4750-a0d0-330a96eb9033",
   "metadata": {},
   "outputs": [],
   "source": [
    "P1 = list(df3[\"short_description\"])\n",
    "P2 = list(df3[\"headline\"])\n",
    "P3 = []\n",
    "for i in range(len(P1)):\n",
    "    P3.append(P2[i] + \": \" + P1[i])\n",
    "    "
   ]
  },
  {
   "cell_type": "code",
   "execution_count": 69,
   "id": "4d839304-f3ab-4980-b39b-f2dc5c6ad0a9",
   "metadata": {},
   "outputs": [
    {
     "data": {
      "text/plain": [
       "['Top 6 Ways to Pay Off Any Loan Faster: After paying off all my credit cards, my auto loan was the only thing between me and complete debt freedom. Here are some of the best methods to pay off your car loan, credit cards, or any type of debt even faster.',\n",
       " \"Mirlande Wilson, Alleged Mega Millions Winner, Claims Ticket Is Hidden In McDonald's: But when pressed for details by reporters, Wilson changed her story and said that a coworker purchased the tickets on her\",\n",
       " 'Why U.S. Allies In The Middle East Should Be Alarmed By North Korea: North Korea’s latest ballistic missile launches remind us that this remains a crisis the Trump administration is forced to',\n",
       " 'China\\'s Copyright Piracy Problem Isn\\'t As Big As Media Makes It, Says China: By Ben Blanchard \"This could only happen because China\\'s intellectual property rights environment sets foreign investors',\n",
       " \"Do Girls Have Access To Team Sports? Many California Schools Aren't Telling, Despite Law: No research has found that girls are less interested in competitive athletic teams than boys, according to the Women's Sports Foundation.\",\n",
       " 'Steubenville Rape Trial Verdict To Be Handed Down Today: Defense attorney Walter Madison countered by highlighting inconsistencies in the accounts of various witnesses, one of whom',\n",
       " 'Law Enforcement To Dark Web Hackers: Give Us Dirt On Ashley Madison Thieves: \"We [are] appealing to you to do the right thing.\"',\n",
       " 'George Zimmerman Accused Of Stalking Detective Working On Trayvon Martin Film: Zimmerman appeared to threaten to feed the investigator to an alligator.',\n",
       " 'Beauty Queen Arrested For Allegedly Faking Cancer For Cash: One fundraising event brought in $14,000, authorities said.',\n",
       " 'How to Prevent Summertime Scams: Summertime is here -- and that means sunshine and vacations. Most people love summertime, including scammers! Hackers can use this time to take advantage while we are planning vacations or on vacation or just enjoying fun in the sun. Here are some key scams to watch out for this summer.']"
      ]
     },
     "execution_count": 69,
     "metadata": {},
     "output_type": "execute_result"
    }
   ],
   "source": [
    "P3"
   ]
  },
  {
   "cell_type": "code",
   "execution_count": 70,
   "id": "575aa24e-abdf-4502-87c3-0c715c8798f7",
   "metadata": {},
   "outputs": [
    {
     "name": "stdout",
     "output_type": "stream",
     "text": [
      "....Elapsed seconds:   99.657\n"
     ]
    }
   ],
   "source": [
    "R2 = classify(P2, ourcats)"
   ]
  },
  {
   "cell_type": "code",
   "execution_count": 73,
   "id": "11102e8f-95b3-4e1a-b4af-3ffa412aad4d",
   "metadata": {},
   "outputs": [
    {
     "name": "stdout",
     "output_type": "stream",
     "text": [
      " 1 Top 6 Ways to Pay Off Any Loan Faster\n",
      "   MONEY            0.402\n",
      "   TECH             0.355\n",
      "   actual:  MONEY\n",
      " 2 Mirlande Wilson, Alleged Mega Millions Winner, Claims Ticket Is Hidden In McDonald's\n",
      "   MONEY            0.594\n",
      "   TECH             0.141\n",
      "   actual:  MONEY\n",
      " 3 Why U.S. Allies In The Middle East Should Be Alarmed By North Korea\n",
      "   TECH             0.366\n",
      "   WORLD NEWS       0.284\n",
      "   actual:  WORLD NEWS\n",
      " 4 China's Copyright Piracy Problem Isn't As Big As Media Makes It, Says China\n",
      "   CRIME            0.384\n",
      "   TECH             0.248\n",
      "   actual:  TECH\n",
      " 5 Do Girls Have Access To Team Sports? Many California Schools Aren't Telling, Despite Law\n",
      "   EDUCATION        0.298\n",
      "   TECH             0.272\n",
      "   actual:  EDUCATION\n",
      " 6 Steubenville Rape Trial Verdict To Be Handed Down Today\n",
      "   CRIME            0.833\n",
      "   WORLD NEWS       0.096\n",
      "   actual:  CRIME\n",
      " 7 Law Enforcement To Dark Web Hackers: Give Us Dirt On Ashley Madison Thieves\n",
      "   CRIME            0.662\n",
      "   TECH             0.213\n",
      "   actual:  TECH\n",
      " 8 George Zimmerman Accused Of Stalking Detective Working On Trayvon Martin Film\n",
      "   CRIME            0.811\n",
      "   TECH             0.081\n",
      "   actual:  CRIME\n",
      " 9 Beauty Queen Arrested For Allegedly Faking Cancer For Cash\n",
      "   MONEY            0.811\n",
      "   CRIME            0.153\n",
      "   actual:  CRIME\n",
      "10 How to Prevent Summertime Scams\n",
      "   TECH             0.318\n",
      "   CRIME            0.293\n",
      "   actual:  CRIME\n"
     ]
    }
   ],
   "source": [
    "for i, r in enumerate(R2):\n",
    "    print(\"{:2d} {:}\".format(i+1, r['sequence']))\n",
    "    for j in range(2):\n",
    "        print(\"   {:15s}  {:5.3f}\".format(r[\"labels\"][j], r[\"scores\"][j]))\n",
    "    print(  \"   actual: \", df3.iloc[i][\"category\"])\n",
    "    #print(df3.iloc[i][\"short_description\"][0:40])"
   ]
  },
  {
   "cell_type": "code",
   "execution_count": 74,
   "id": "4e5a5384-0e23-4831-ba9c-0ceaf3fa93d9",
   "metadata": {},
   "outputs": [
    {
     "name": "stdout",
     "output_type": "stream",
     "text": [
      "....Elapsed seconds:  122.072\n"
     ]
    }
   ],
   "source": [
    "R3 = classify(P3, ourcats)"
   ]
  },
  {
   "cell_type": "code",
   "execution_count": 75,
   "id": "28b2734d-9472-4ea6-803e-40355d94d13a",
   "metadata": {},
   "outputs": [
    {
     "name": "stdout",
     "output_type": "stream",
     "text": [
      " 1 Top 6 Ways to Pay Off Any Loan Faster: After paying off all my credit cards, my auto loan was the only thing between me and complete debt freedom. Here are some of the best methods to pay off your car loan, credit cards, or any type of debt even faster.\n",
      "   MONEY            0.412\n",
      "   TECH             0.388\n",
      "   actual:  MONEY\n",
      " 2 Mirlande Wilson, Alleged Mega Millions Winner, Claims Ticket Is Hidden In McDonald's: But when pressed for details by reporters, Wilson changed her story and said that a coworker purchased the tickets on her\n",
      "   MONEY            0.562\n",
      "   TECH             0.221\n",
      "   actual:  MONEY\n",
      " 3 Why U.S. Allies In The Middle East Should Be Alarmed By North Korea: North Korea’s latest ballistic missile launches remind us that this remains a crisis the Trump administration is forced to\n",
      "   TECH             0.438\n",
      "   WORLD NEWS       0.204\n",
      "   actual:  WORLD NEWS\n",
      " 4 China's Copyright Piracy Problem Isn't As Big As Media Makes It, Says China: By Ben Blanchard \"This could only happen because China's intellectual property rights environment sets foreign investors\n",
      "   TECH             0.397\n",
      "   MONEY            0.233\n",
      "   actual:  TECH\n",
      " 5 Do Girls Have Access To Team Sports? Many California Schools Aren't Telling, Despite Law: No research has found that girls are less interested in competitive athletic teams than boys, according to the Women's Sports Foundation.\n",
      "   TECH             0.442\n",
      "   EDUCATION        0.192\n",
      "   actual:  EDUCATION\n",
      " 6 Steubenville Rape Trial Verdict To Be Handed Down Today: Defense attorney Walter Madison countered by highlighting inconsistencies in the accounts of various witnesses, one of whom\n",
      "   CRIME            0.551\n",
      "   TECH             0.270\n",
      "   actual:  CRIME\n",
      " 7 Law Enforcement To Dark Web Hackers: Give Us Dirt On Ashley Madison Thieves: \"We [are] appealing to you to do the right thing.\"\n",
      "   CRIME            0.489\n",
      "   TECH             0.298\n",
      "   actual:  TECH\n",
      " 8 George Zimmerman Accused Of Stalking Detective Working On Trayvon Martin Film: Zimmerman appeared to threaten to feed the investigator to an alligator.\n",
      "   CRIME            0.769\n",
      "   TECH             0.121\n",
      "   actual:  CRIME\n",
      " 9 Beauty Queen Arrested For Allegedly Faking Cancer For Cash: One fundraising event brought in $14,000, authorities said.\n",
      "   MONEY            0.729\n",
      "   CRIME            0.197\n",
      "   actual:  CRIME\n",
      "10 How to Prevent Summertime Scams: Summertime is here -- and that means sunshine and vacations. Most people love summertime, including scammers! Hackers can use this time to take advantage while we are planning vacations or on vacation or just enjoying fun in the sun. Here are some key scams to watch out for this summer.\n",
      "   CRIME            0.383\n",
      "   TECH             0.245\n",
      "   actual:  CRIME\n"
     ]
    }
   ],
   "source": [
    "for i, r in enumerate(R3):\n",
    "    print(\"{:2d} {:}\".format(i+1, r['sequence']))\n",
    "    for j in range(2):\n",
    "        print(\"   {:15s}  {:5.3f}\".format(r[\"labels\"][j], r[\"scores\"][j]))\n",
    "    print(  \"   actual: \", df3.iloc[i][\"category\"])\n",
    "    #print(df3.iloc[i][\"short_description\"][0:40])"
   ]
  },
  {
   "cell_type": "code",
   "execution_count": null,
   "id": "faf56820-93bb-472a-9392-a652159e1762",
   "metadata": {},
   "outputs": [],
   "source": []
  }
 ],
 "metadata": {
  "kernelspec": {
   "display_name": "Python 3 (ipykernel)",
   "language": "python",
   "name": "python3"
  },
  "language_info": {
   "codemirror_mode": {
    "name": "ipython",
    "version": 3
   },
   "file_extension": ".py",
   "mimetype": "text/x-python",
   "name": "python",
   "nbconvert_exporter": "python",
   "pygments_lexer": "ipython3",
   "version": "3.9.18"
  }
 },
 "nbformat": 4,
 "nbformat_minor": 5
}
