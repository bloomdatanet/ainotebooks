{
 "cells": [
  {
   "cell_type": "markdown",
   "id": "827cdb4c-a41e-4a2b-89d7-a94667fcf486",
   "metadata": {},
   "source": [
    "# HuggingFace NLP 1\n",
    "### Jeremy Bloom\n",
    "### 2024.02.19 v2\n",
    "This is my walkthrough and exploration of the content in and around [HuggingFace's Natural Language Processing course Chapter 1](https://huggingface.co/learn/nlp-course/chapter1/1?fw=pt).  Note the course is really more of a guide, as there's no credit or certification of tests, so you can watch along.  This python notebook is derived from HuggingFace examples, some public internet sources, and my own exploration. \n",
    " \n",
    "I put this together to help friends and colleague better understand what is possible in AI, ML, and particularly with transformer architectures and LLMs.  Those with little to no programming experience can still probably follow the video, as I try to explain what's happening.  For those who code, I suggest downloading the notebook and putting the video on in the background as you work through it yourself.\n",
    "\n",
    "This notebook and the accompanying video are my own, as are any and all errors."
   ]
  },
  {
   "cell_type": "markdown",
   "id": "e6de5bbd-02cb-40a1-bcaf-6ad4219fd8c2",
   "metadata": {},
   "source": [
    "### To run this notebook\n",
    "For those new to python, you'll need to install some extra packages.  As python boasts a rich ecosystem of available packages and a long history of versions, an environment manager is highly recommended.  I use [Anaconda](https://www.anaconda.com/download), which is a solid choice, but many other options exist including [venv](https://docs.python.org/3/library/venv.html) [pyenv](https://github.com/pyenv/pyenv) [poetry](https://python-poetry.org/) [pipenv](https://pipenv.pypa.io/en/latest/) and others.\n",
    "\n",
    "For those using anaconda, I setup my environment like this:<br>\n",
    "`conda create -n hugs python=3.9 tensorflow transformers pytorch jupyter sentencepiece`\n",
    "\n",
    "Note in addition to downloading the modules above, the models will also need to be downloaded.  Pipeline() handles this for you, so the first time you use a model it will take some time to download, and will then be stored locally and shared between environments.  On my mac these are storedin anaconda3/pkgs, where I currently have over 20 GB.\n",
    "\n",
    "#### pipeline() warnings and errors\n",
    "1. In these examples I ask pipeline for a generic model type, so it always warns me that this isn't robust.  For these types of demos it's fine, but if you wanted repeated results you'd choose specific models and versions.  The warning you can ignore looks like this: `Using a pipeline without specifying a model name and revision in production is not recommended.`\n",
    "2. In these examples I'll often omit some extra parameters and accept default values.  pipeline() often warns on this, saying things like the following.  You can safely ignore these for demo use scenarios.\n",
    "    -  ``Setting `pad_token_id` to `eos_token_id`:50256 for open-end generation.``\n",
    "    -  `Some weights of the model checkpoint at... were not used when initializing...`\n",
    "3. Python can produce very long errors, but you can often find the mistake in the first few lines or first last lines of the message.  Sometimes these mistakes are simple typos or missing packages.\n",
    "\n",
    "Sources:\n",
    "1. [Hugging Face NLP Course](https://huggingface.co/learn/nlp-course/chapter1/1?fw=pt)\n",
    "2. [Hugging Face ModelHub](https://huggingface.co/docs/hub/en/models-the-hub)\n",
    "3. [Hugging Face TextClassificationPipeline docs](https://huggingface.co/docs/transformers/v4.37.2/en/main_classes/pipelines#transformers.TextClassificationPipeline)\n",
    "\n"
   ]
  },
  {
   "cell_type": "markdown",
   "id": "97366d3d-0cdd-4537-8e09-d22237ed4c6f",
   "metadata": {},
   "source": [
    "# 0. Common Helpers"
   ]
  },
  {
   "cell_type": "code",
   "execution_count": 4,
   "id": "a3cb07ea-b63f-4515-b480-27bd817481b3",
   "metadata": {},
   "outputs": [],
   "source": [
    "# %load \"jdb_timer.py\"\n",
    "import time\n",
    "class timer:\n",
    "    def __init__(self):\n",
    "        self.t0_pc = time.perf_counter()   # system time \n",
    "        self.t0_tt = time.time()           # system time\n",
    "        self.t0_pt = time.process_time()   # cpu time\n",
    "\n",
    "        self.state = \"INIT\"\n",
    "        #self.statesAllowed = [\"INIT\", \"STARTED\", \"STOPPED\"]\n",
    "        self.t1_pc = 0\n",
    "        self.t1_tt = 0\n",
    "        self.t1_pt = 0\n",
    "\n",
    "    def error(self, s):\n",
    "        print(\"error:\", s)\n",
    "\n",
    "    def warn(self, s):\n",
    "        print(\"warn:\", s)\n",
    "\n",
    "    def start(self):\n",
    "        # only valid if state is INIT\n",
    "        if self.state == \"INIT\":\n",
    "            self.__startNow()\n",
    "        elif self.state == \"STARTED\":\n",
    "            self.error(\"timer is already in STARTED state.  Use .restart or .forcestart\")\n",
    "        elif self.state == \"STOPPED\":\n",
    "            self.error(\"timer is already STOPPED state.  Use .restart or .forcestart\")\n",
    "        else:\n",
    "            self.error(\"cannot start timer with unrecognized state\", self.state)\n",
    "            \n",
    "    def restart(self):\n",
    "        # valid if state is STARTED, STOPPED, or INIT\n",
    "        if self.state == \"STARTED\" or self.state == \"STOPPED\" or self.state == \"INIT\":\n",
    "            self.__startNow()\n",
    "        else:\n",
    "            self.error(\"cannot restart timer with unrecognized state\", self.state)\n",
    "\n",
    "    def stopquiet(self):\n",
    "        self.stop(quiet = True)\n",
    "    \n",
    "    def stop(self, quiet = False):\n",
    "        # only valid if STARTED or (with warn) INIT\n",
    "        if self.state == \"STARTED\":\n",
    "            self.__stop()\n",
    "            if not quiet:\n",
    "                self.__printTimerStopped()\n",
    "        elif self.state == \"INIT\":\n",
    "            self.warn(\"timer is in state INIT.  Will use instantiation times for start and now stop.\")\n",
    "            self.__startRetro()\n",
    "            self.__stop()\n",
    "            if not quiet:\n",
    "                self.__printTimerStopped()\n",
    "        elif self.state == \"STOPPED\":\n",
    "            self.error(\"cannot stop timer in STOPPED state\")\n",
    "        else:\n",
    "            self.error(\"cannot restart timer with unrecognized state\", self.state)\n",
    "\n",
    "    \n",
    "    def forcestart(self):\n",
    "        # ignore current state, just start from now\n",
    "        self.start()\n",
    "\n",
    "    def forcestop(self):\n",
    "        # ignore current state, just stop now (even if already stopped)\n",
    "        self.stop()\n",
    "\n",
    "    def print(self):\n",
    "        if self.state == \"INIT\":\n",
    "            print(\"warn: timer was not explicitly started - using instantiation time\")\n",
    "            self.__startRetro()\n",
    "            self.__printTimerContinued()\n",
    "        elif self.state == \"STARTED\":\n",
    "            self.__printTimerContinued()\n",
    "        elif self.state == \"STOPPED\":\n",
    "            self.__printTimerStopped()\n",
    "        else:\n",
    "            self.error(\"cannot print timer with unrecognized state\", self.state)\n",
    "\n",
    "    def __startRetro(self):\n",
    "        # no error checking - retroactive start will use times from init\n",
    "        self.state = \"STARTED\"\n",
    "        \n",
    "    def __startNow(self):\n",
    "        # no error checking\n",
    "        self.t0_pc = time.perf_counter()\n",
    "        self.t0_tt = time.time()\n",
    "        self.t0_pt = time.process_time()\n",
    "        self.state = \"STARTED\"\n",
    "\n",
    "    def __stop(self):\n",
    "        # no error checking\n",
    "        self.t1_pc = time.perf_counter()\n",
    "        self.t1_tt = time.time()\n",
    "        self.t1_pt = time.process_time()\n",
    "        self.state = \"STOPPED\"\n",
    "    \n",
    "    def __printTimerContinued(self):\n",
    "        # no error checking - just prints curent - start times\n",
    "        # print(\"{:5.2f}  {:5.2f}  {:5.2f}...\".format(time.perf_counter() - self.t0_pc, \n",
    "        #                                             time.time() - self.t0_tt, \n",
    "        #                                             time.process_time() - self.t0_pt))\n",
    "        print(\"wall: {:5.2f}...   cpu: {:5.2f}...\".format(time.perf_counter() - self.t0_pc, time.process_time() - self.t0_pt))\n",
    "\n",
    "    def __printTimerStopped(self):\n",
    "        # # no error checking - just prints stored - start times\n",
    "        # print(\"{:5.2f}  {:5.2f}  {:5.2f}\".format(self.t1_pc - self.t0_pc, \n",
    "        #                                          self.t1_tt - self.t0_tt,\n",
    "        #                                          self.t1_pt -  self.t0_pt))\n",
    "        print(\"wall: {:5.2f}      cpu: {:5.2f}\".format(self.t1_pc - self.t0_pc, self.t1_pt -  self.t0_pt))\n",
    "\n",
    "\n",
    "def runcputime(num_seconds = 1):\n",
    "    t0 = time.process_time()\n",
    "    x = 500\n",
    "    while True:\n",
    "        z = 0\n",
    "        for i in range(x):\n",
    "            z += x ** x\n",
    "        if time.process_time() - t0 >= num_seconds:\n",
    "            break"
   ]
  },
  {
   "cell_type": "code",
   "execution_count": 5,
   "id": "58976156-fc49-47e1-a150-73dd96f69f76",
   "metadata": {},
   "outputs": [
    {
     "name": "stdout",
     "output_type": "stream",
     "text": [
      "wall:  0.50...   cpu:  0.00...\n",
      "wall:  2.27...   cpu:  1.70...\n",
      "wall:  2.48      cpu:  1.71\n"
     ]
    }
   ],
   "source": [
    "t = timer()\n",
    "t.start()\n",
    "time.sleep(0.5)\n",
    "t.print()\n",
    "runcputime(1.7)\n",
    "t.print()\n",
    "time.sleep(0.2)\n",
    "t.stop()"
   ]
  },
  {
   "cell_type": "markdown",
   "id": "f05d25b3-b234-4e15-989a-ad9dbabf49c5",
   "metadata": {},
   "source": [
    "# 1. Pipeline() and sentiment-analysis"
   ]
  },
  {
   "cell_type": "code",
   "execution_count": 6,
   "id": "db25ca1f-254e-4c66-957f-80f2533a9747",
   "metadata": {},
   "outputs": [
    {
     "name": "stderr",
     "output_type": "stream",
     "text": [
      "No model was supplied, defaulted to distilbert-base-uncased-finetuned-sst-2-english and revision af0f99b (https://huggingface.co/distilbert-base-uncased-finetuned-sst-2-english).\n",
      "Using a pipeline without specifying a model name and revision in production is not recommended.\n"
     ]
    }
   ],
   "source": [
    "from transformers import pipeline\n",
    "classifier = pipeline(task=\"sentiment-analysis\")"
   ]
  },
  {
   "cell_type": "code",
   "execution_count": 7,
   "id": "d1af6f81-9488-44cc-94c3-56ec5a3e88df",
   "metadata": {},
   "outputs": [
    {
     "data": {
      "text/plain": [
       "[{'label': 'POSITIVE', 'score': 0.9998772144317627}]"
      ]
     },
     "execution_count": 7,
     "metadata": {},
     "output_type": "execute_result"
    }
   ],
   "source": [
    "classifier(\"this is a great book and a must read\")"
   ]
  },
  {
   "cell_type": "code",
   "execution_count": 8,
   "id": "11d7421d-9090-46a0-b22e-0f860df00891",
   "metadata": {},
   "outputs": [
    {
     "data": {
      "text/plain": [
       "[{'label': 'NEGATIVE', 'score': 0.9995871186256409}]"
      ]
     },
     "execution_count": 8,
     "metadata": {},
     "output_type": "execute_result"
    }
   ],
   "source": [
    "classifier(\"This is not a novel to be read.\")"
   ]
  },
  {
   "cell_type": "code",
   "execution_count": 9,
   "id": "9d45cf39-9117-48f7-99fd-2059415b8211",
   "metadata": {},
   "outputs": [],
   "source": [
    "r1 = \"The Hitchhiker's Guide to the Galaxy, by Douglas Adams, published in 1979 is a thrilling work of science-fiction and highly entertaining to read. It is a well-written book, with a surplus of thought-provoking ideas. The prose conceals flashes of brilliance and unearths pearls of wisdom. The characters are themselves illuminating, with respect to their sharp perceptions, astute assessments of the situation, quick reactions, and outright candor. You get the impression that the story could very easily have been about a likable group of college students who plan to go on a road trip for spring break, so that they can experience all that life has to offer, let off a little steam, and reduce some stress before final exams. But, alas, the book is more complicated than that. It is more like, what if you know for certain that identifiable flying objects piloted by alien beings are in close proximity, and you have the coded electronic transporter boarding pass device, granting you unlimited access to go anywhere in the universe, right there in your hot little hand.\"\n",
    "r2 = \"I am an avid reader. Sometimes, two or three books at a time. With that said, I did not enjoy this book at all. I almost just gave up on finishing it, but kept thinking, this will get better. It didn't for me. I really didn't understand the point of it at all. I was waiting for the humor and something profound, but nothing happened. I was the happiest when I got to the end, so that I could start reading another book.\""
   ]
  },
  {
   "cell_type": "code",
   "execution_count": 10,
   "id": "c66ed61d-3ae2-4ed4-b8dc-463d181bd99a",
   "metadata": {},
   "outputs": [
    {
     "data": {
      "text/plain": [
       "\"The Hitchhiker's Guide to the Galaxy, by Douglas Adams, published in 1979 is a thrilling work of science-fiction and highly entertaining to read. It is a well-written book, with a surplus of thought-provoking ideas. The prose conceals flashes of brilliance and unearths pearls of wisdom. The characters are themselves illuminating, with respect to their sharp perceptions, astute assessments of the situation, quick reactions, and outright candor. You get the impression that the story could very easily have been about a likable group of college students who plan to go on a road trip for spring break, so that they can experience all that life has to offer, let off a little steam, and reduce some stress before final exams. But, alas, the book is more complicated than that. It is more like, what if you know for certain that identifiable flying objects piloted by alien beings are in close proximity, and you have the coded electronic transporter boarding pass device, granting you unlimited access to go anywhere in the universe, right there in your hot little hand.\""
      ]
     },
     "execution_count": 10,
     "metadata": {},
     "output_type": "execute_result"
    }
   ],
   "source": [
    "r1"
   ]
  },
  {
   "cell_type": "code",
   "execution_count": 11,
   "id": "f5a2a384-92d9-4c1d-a683-61834157b0d9",
   "metadata": {},
   "outputs": [
    {
     "data": {
      "text/plain": [
       "\"I am an avid reader. Sometimes, two or three books at a time. With that said, I did not enjoy this book at all. I almost just gave up on finishing it, but kept thinking, this will get better. It didn't for me. I really didn't understand the point of it at all. I was waiting for the humor and something profound, but nothing happened. I was the happiest when I got to the end, so that I could start reading another book.\""
      ]
     },
     "execution_count": 11,
     "metadata": {},
     "output_type": "execute_result"
    }
   ],
   "source": [
    "r2"
   ]
  },
  {
   "cell_type": "code",
   "execution_count": 12,
   "id": "c2ffeafb-5508-445d-956d-927747d44f86",
   "metadata": {},
   "outputs": [
    {
     "data": {
      "text/plain": [
       "[{'label': 'POSITIVE', 'score': 0.9996988773345947}]"
      ]
     },
     "execution_count": 12,
     "metadata": {},
     "output_type": "execute_result"
    }
   ],
   "source": [
    "classifier(r1)"
   ]
  },
  {
   "cell_type": "code",
   "execution_count": 13,
   "id": "c1e33759-88ab-4818-be76-1fb6e7528cea",
   "metadata": {},
   "outputs": [
    {
     "data": {
      "text/plain": [
       "[{'label': 'NEGATIVE', 'score': 0.9936918020248413}]"
      ]
     },
     "execution_count": 13,
     "metadata": {},
     "output_type": "execute_result"
    }
   ],
   "source": [
    "classifier(r2)"
   ]
  },
  {
   "cell_type": "markdown",
   "id": "9a457c85-d14a-4265-834d-e6b01f8cdb54",
   "metadata": {},
   "source": [
    "##### M1"
   ]
  },
  {
   "cell_type": "code",
   "execution_count": 14,
   "id": "d81b4ae1-800c-44ec-b4c0-1499d7a42f87",
   "metadata": {},
   "outputs": [
    {
     "data": {
      "text/plain": [
       "['This is a very medicore book. Read it if you like stories about talking dragons.',\n",
       " 'This is a very medicore book. Read it if you like silly stories about talking dragons.',\n",
       " 'This is a very medicore book. Read it if you like dumb stories about talking dragons.']"
      ]
     },
     "execution_count": 14,
     "metadata": {},
     "output_type": "execute_result"
    }
   ],
   "source": [
    "M1 = []\n",
    "M1.append(\"This is a very medicore book. Read it if you like stories about talking dragons.\")\n",
    "M1.append(\"This is a very medicore book. Read it if you like silly stories about talking dragons.\")\n",
    "M1.append(\"This is a very medicore book. Read it if you like dumb stories about talking dragons.\")\n",
    "M1"
   ]
  },
  {
   "cell_type": "code",
   "execution_count": 15,
   "id": "66c9f58e-561e-4926-a89e-d9ef08a62d86",
   "metadata": {},
   "outputs": [
    {
     "data": {
      "text/plain": [
       "[{'label': 'POSITIVE', 'score': 0.848868191242218},\n",
       " {'label': 'POSITIVE', 'score': 0.5143406987190247},\n",
       " {'label': 'NEGATIVE', 'score': 0.9953979849815369}]"
      ]
     },
     "execution_count": 15,
     "metadata": {},
     "output_type": "execute_result"
    }
   ],
   "source": [
    "classifier(M1)"
   ]
  },
  {
   "cell_type": "markdown",
   "id": "268cfb13-bfcc-4461-9e97-dd31905b3a60",
   "metadata": {},
   "source": [
    "##### M2"
   ]
  },
  {
   "cell_type": "code",
   "execution_count": 16,
   "id": "4f3f4a84-3a8d-4596-8d1a-373f99a09e67",
   "metadata": {},
   "outputs": [],
   "source": [
    "M2 = []\n",
    "M2.append(\"This is not a novel to be tossed aside lightly.\")\n",
    "M2.append(\"This is not a novel to be tossed aside lightly. It should be thrown with great force.\")\n",
    "M2.append(\"This is not a novel to be tossed aside lightly. Don't even pick up this book in the first place.\")\n",
    "R2 = classifier(M2)"
   ]
  },
  {
   "cell_type": "code",
   "execution_count": 17,
   "id": "546a7eb3-56bd-479e-a0dc-63bcf53eefea",
   "metadata": {},
   "outputs": [
    {
     "data": {
      "text/plain": [
       "[{'label': 'POSITIVE', 'score': 0.8818190693855286},\n",
       " {'label': 'POSITIVE', 'score': 0.9708155989646912},\n",
       " {'label': 'NEGATIVE', 'score': 0.992668867111206}]"
      ]
     },
     "execution_count": 17,
     "metadata": {},
     "output_type": "execute_result"
    }
   ],
   "source": [
    "R2"
   ]
  },
  {
   "cell_type": "code",
   "execution_count": 18,
   "id": "231a2081-f029-420d-8f81-7510127c1587",
   "metadata": {},
   "outputs": [
    {
     "data": {
      "text/plain": [
       "3"
      ]
     },
     "execution_count": 18,
     "metadata": {},
     "output_type": "execute_result"
    }
   ],
   "source": [
    "len(R2)"
   ]
  },
  {
   "cell_type": "code",
   "execution_count": 19,
   "id": "176df626-fe37-4137-88ca-c1d9b82fd2d1",
   "metadata": {},
   "outputs": [
    {
     "data": {
      "text/plain": [
       "list"
      ]
     },
     "execution_count": 19,
     "metadata": {},
     "output_type": "execute_result"
    }
   ],
   "source": [
    "type(R2)"
   ]
  },
  {
   "cell_type": "code",
   "execution_count": 20,
   "id": "a137c7a2-bdbb-4cb7-81a5-d3c4cb550c74",
   "metadata": {},
   "outputs": [
    {
     "name": "stdout",
     "output_type": "stream",
     "text": [
      "POSITIVE\n",
      "POSITIVE\n",
      "NEGATIVE\n"
     ]
    }
   ],
   "source": [
    "for o in R2:\n",
    "    print(o[\"label\"])"
   ]
  },
  {
   "cell_type": "code",
   "execution_count": 22,
   "id": "732a9151-6500-4503-a6d6-37a9c1fbdbcb",
   "metadata": {},
   "outputs": [],
   "source": [
    "# %load jdb_process.py\n",
    "def process(texts, results, **kwargs):\n",
    "    PROCESS_ARG_PRINT = \"print\"\n",
    "    PROCESS_ARG_SORT = \"sort\"\n",
    "    PROCESS_ARG_NORETURN = \"noreturn\"\n",
    "    PROCESS_ARG_TRUNCATE = \"truncate\"\n",
    "    \n",
    "\n",
    "    printOpt = True\n",
    "    sortOpt = True\n",
    "    noreturnOpt = True\n",
    "    truncateNum = -1\n",
    "    \n",
    "    if len(texts) != len(results):\n",
    "        print(\"error - mismatched lists\")\n",
    "        return\n",
    "\n",
    "    for key, value in kwargs.items():\n",
    "        if key == PROCESS_ARG_PRINT:\n",
    "            printOpt = kwargs[PROCESS_ARG_PRINT]\n",
    "        elif key == PROCESS_ARG_SORT:\n",
    "            sortOpt = kwargs[PROCESS_ARG_SORT]\n",
    "        elif key == PROCESS_ARG_NORETURN:\n",
    "            noreturnOpt = kwargs[PROCESS_ARG_NORETURN]\n",
    "        elif key == PROCESS_ARG_TRUNCATE:\n",
    "            truncateNum = kwargs[PROCESS_ARG_TRUNCATE]\n",
    "        else:\n",
    "            print(\"ignoring unrecognised arg\", key)\n",
    "      \n",
    "    n = len(texts)\n",
    "    Rn = []\n",
    "    Rp = []\n",
    "    R = []\n",
    "    for i in range(n):\n",
    "        confidence = results[i][\"score\"]\n",
    "        sentiment = \" \"\n",
    "        if results[i][\"label\"] == \"NEGATIVE\":\n",
    "            sentiment = \"-\"\n",
    "            if truncateNum > 0:\n",
    "                Rn.append([confidence, sentiment, texts[i][0:truncateNum]])\n",
    "            else:\n",
    "                Rn.append([confidence, sentiment, texts[i]])\n",
    "        else:\n",
    "            sentiment = \"+\"\n",
    "            if truncateNum > 0:\n",
    "                Rp.append([confidence, sentiment, texts[i][0:truncateNum]])\n",
    "            else:\n",
    "                Rp.append([confidence, sentiment, texts[i]])\n",
    "        \n",
    "        if truncateNum > 0:\n",
    "            R.append([confidence, sentiment, texts[i][0:truncateNum]])\n",
    "        else:\n",
    "            R.append([confidence, sentiment, texts[i]])\n",
    "            \n",
    "    if sortOpt:\n",
    "        Rp = sorted(Rp, key = lambda x: -x[0])\n",
    "        Rn = sorted(Rn, key = lambda x: x[0])\n",
    "        R = Rp + Rn\n",
    "    \n",
    "    if printOpt:\n",
    "        for r in R:\n",
    "            print(\"{:3s} {:6.4f} {:s}\".format(r[1], r[0], r[2]))    \n",
    "    if noreturnOpt:\n",
    "        return\n",
    "    else:\n",
    "        return R\n"
   ]
  },
  {
   "cell_type": "code",
   "execution_count": 23,
   "id": "dfd3dea6-6313-4b5c-91fd-9d3ff945afb2",
   "metadata": {},
   "outputs": [],
   "source": [
    "M3 = []\n",
    "M3.append(\"These aren't the droids you're looking for.\")\n",
    "M3.append(\"These are not the droids you're looking for.  These are, however, excellent droids\")\n",
    "M3.append(\"These are excellent droids, but they are not the droids you're looking for.\")\n",
    "M3.append(\"These are excellent droids.\")\n",
    "M3.append(\"These are great droids, almost what I wanted\")\n",
    "M3.append(\"These are great droids, but not what I wanted\")\n",
    "M3.append(\"These are great droids, but sometimes do their thing\")\n",
    "M3.append(\"These are great droids, but they constantly bicker\")\n",
    "M3.append(\"These are great droids, although they're very independent\")\n",
    "M3.append(\"These droids are good enough for government purposes, maybe not for enterprise use\")\n",
    "M3.append(\"These droids are good enough for government purposes, and for enterprise use\")\n",
    "R3 = classifier(M3)"
   ]
  },
  {
   "cell_type": "code",
   "execution_count": 24,
   "id": "0820725e-b099-42c8-b1a1-fd6fc0239f5c",
   "metadata": {},
   "outputs": [
    {
     "name": "stdout",
     "output_type": "stream",
     "text": [
      "+   0.9997 These are excellent droids.\n",
      "+   0.9993 These are great droids, almost what I wanted\n",
      "+   0.9993 These are not the droids you're looking for.  These are, however, excellent droids\n",
      "+   0.9976 These are great droids, although they're very independent\n",
      "+   0.9969 These droids are good enough for government purposes, and for enterprise use\n",
      "+   0.9946 These are great droids, but sometimes do their thing\n",
      "+   0.9304 These droids are good enough for government purposes, maybe not for enterprise use\n",
      "-   0.5604 These are excellent droids, but they are not the droids you're looking for.\n",
      "-   0.9469 These are great droids, but they constantly bicker\n",
      "-   0.9956 These aren't the droids you're looking for.\n",
      "-   0.9990 These are great droids, but not what I wanted\n"
     ]
    }
   ],
   "source": [
    "process(M3, R3)"
   ]
  },
  {
   "cell_type": "markdown",
   "id": "491bd5f7-1098-405f-876a-8d7bf84aec34",
   "metadata": {},
   "source": [
    "#### M4 quotes"
   ]
  },
  {
   "cell_type": "code",
   "execution_count": 27,
   "id": "10c1ecf0-5853-4536-a3c1-b51adf000d70",
   "metadata": {},
   "outputs": [],
   "source": [
    "import os\n",
    "fn = os.path.expanduser('~') + \"/Dropbox/datasets/quotes-misc.txt\""
   ]
  },
  {
   "cell_type": "code",
   "execution_count": 28,
   "id": "631c4312-a9d0-42c7-b99f-cf0d8dfec728",
   "metadata": {},
   "outputs": [
    {
     "data": {
      "text/plain": [
       "['# some quotes\\n',\n",
       " 'I enjoy tacos and burritos more than flautas.\\n',\n",
       " 'I enjoy tacos and burritos, but I dislike flautas.\\n',\n",
       " 'Please smoke the ham.\\n',\n",
       " 'Bro, do you even lift?\\n',\n",
       " \"The microwave functions great but it's a little louder than the one it replaces.  I like the color but not the price.\\n\",\n",
       " \"The microwave functions better than expected for it's budget price\\n\",\n",
       " 'You will be disappointed in this microwave.\\n',\n",
       " 'You will not be disappointed in this microwave.\\n',\n",
       " 'We should start a club.\\n',\n",
       " 'We should start a team.\\n',\n",
       " 'We should start a gang.\\n',\n",
       " 'We should start a private army.\\n',\n",
       " 'We should start an organization to take over the world.\\n',\n",
       " 'I enjoy margaritas almost as much as I enjoy surfing.\\n',\n",
       " 'If you pick up a starving dog and make him prosperous he will not bite you. This is the principal difference between a dog and man.\\n',\n",
       " 'It was a dark and stormy night\\n',\n",
       " 'I know why the caged bird sings\\n',\n",
       " 'Why, sometimes, I’ve believed as many as six impossible things before breakfast.\\n',\n",
       " 'Nobody realizes that some people expend tremendous energy merely to be normal.\\n',\n",
       " 'I opened myself to the gentle indifference of the world.\\n',\n",
       " 'Where there is no hope, it is incumbent on us to invent it.\\n',\n",
       " 'Man is nothing else but what he makes of himself\\n',\n",
       " 'One cannot give an Other his freedom, only his liberty.\\n',\n",
       " 'Three can keep a secret, if two of them are dead.\\n',\n",
       " 'The ultimate measure of a man is not where he stands in moments of comfort and convenience, but where he stands at times of challenge and controversy.\\n',\n",
       " 'Freedom is never voluntarily given by the oppressor; it must be demanded by the oppressed.']"
      ]
     },
     "execution_count": 28,
     "metadata": {},
     "output_type": "execute_result"
    }
   ],
   "source": [
    "with open(fn, \"r\") as f:\n",
    "    M4 = f.readlines()\n",
    "M4"
   ]
  },
  {
   "cell_type": "code",
   "execution_count": 29,
   "id": "eb036640-04db-4ac7-988b-7c54ff466fe3",
   "metadata": {},
   "outputs": [],
   "source": [
    "M4 = list(filter(lambda x: x[0] != \"#\", M4))  # remove commented lines\n",
    "M4 = [s[:-1] for s in M4]                   # remove last char (which is a newline)"
   ]
  },
  {
   "cell_type": "code",
   "execution_count": 30,
   "id": "661cb4ea-6f90-4bd6-b081-062c7a615ca1",
   "metadata": {},
   "outputs": [],
   "source": [
    "R4 = classifier(M4)"
   ]
  },
  {
   "cell_type": "code",
   "execution_count": 31,
   "id": "912e6550-a164-440f-92f7-7261d4cff8e2",
   "metadata": {},
   "outputs": [
    {
     "name": "stdout",
     "output_type": "stream",
     "text": [
      "+   0.9996 I enjoy tacos and burritos more than flautas.\n",
      "+   0.9989 The ultimate measure of a man is not where he stands in moments of comfort and convenience, but where he stands at times of challenge and controversy.\n",
      "+   0.9984 If you pick up a starving dog and make him prosperous he will not bite you. This is the principal difference between a dog and man.\n",
      "+   0.9975 You will not be disappointed in this microwave.\n",
      "+   0.9922 I opened myself to the gentle indifference of the world.\n",
      "+   0.9918 We should start a team.\n",
      "+   0.9913 Man is nothing else but what he makes of himself\n",
      "+   0.9886 We should start a club.\n",
      "+   0.9453 Freedom is never voluntarily given by the oppressor; it must be demanded by the oppressed\n",
      "+   0.9226 I know why the caged bird sings\n",
      "+   0.9187 The microwave functions better than expected for it's budget price\n",
      "+   0.7775 We should start an organization to take over the world.\n",
      "+   0.6724 Where there is no hope, it is incumbent on us to invent it.\n",
      "+   0.5671 The microwave functions great but it's a little louder than the one it replaces.  I like the color but not the price.\n",
      "+   0.5026 One cannot give an Other his freedom, only his liberty.\n",
      "-   0.5903 I enjoy margaritas almost as much as I enjoy surfing.\n",
      "-   0.6885 Please smoke the ham.\n",
      "-   0.7057 It was a dark and stormy night\n",
      "-   0.7773 I enjoy tacos and burritos, but I dislike flautas.\n",
      "-   0.7789 Bro, do you even lift?\n",
      "-   0.7794 Three can keep a secret, if two of them are dead.\n",
      "-   0.9360 Nobody realizes that some people expend tremendous energy merely to be normal.\n",
      "-   0.9853 We should start a private army.\n",
      "-   0.9911 Why, sometimes, I’ve believed as many as six impossible things before breakfast.\n",
      "-   0.9947 We should start a gang.\n",
      "-   0.9997 You will be disappointed in this microwave.\n"
     ]
    }
   ],
   "source": [
    "process(M4, R4)"
   ]
  },
  {
   "cell_type": "markdown",
   "id": "9ad5ba86-579f-4e62-a891-3dcad9b7403e",
   "metadata": {},
   "source": [
    "#### M5 - real review data"
   ]
  },
  {
   "cell_type": "code",
   "execution_count": 32,
   "id": "b12397bc-1f04-4a21-994b-9af61b238bef",
   "metadata": {},
   "outputs": [
    {
     "name": "stderr",
     "output_type": "stream",
     "text": [
      "/var/folders/hg/w2g4s_gd61jfjvwfn00lkxc00000gn/T/ipykernel_3283/630271118.py:3: DtypeWarning: Columns (1,10) have mixed types. Specify dtype option on import or set low_memory=False.\n",
      "  df = pd.read_csv(fn)\n"
     ]
    }
   ],
   "source": [
    "import pandas as pd\n",
    "fn = os.path.expanduser('~') + \"/Dropbox/datasets/amazonReviews1/1429_1.csv\"\n",
    "df = pd.read_csv(fn)"
   ]
  },
  {
   "cell_type": "code",
   "execution_count": 33,
   "id": "4d9025f3-1a12-4475-af63-0da9210c5fb5",
   "metadata": {},
   "outputs": [
    {
     "data": {
      "text/plain": [
       "(34660, 21)"
      ]
     },
     "execution_count": 33,
     "metadata": {},
     "output_type": "execute_result"
    }
   ],
   "source": [
    "df.shape"
   ]
  },
  {
   "cell_type": "code",
   "execution_count": 34,
   "id": "a6a0ac3c-2752-4d1a-84d7-4cef73e98cae",
   "metadata": {},
   "outputs": [
    {
     "data": {
      "text/plain": [
       "7974     Our family isn't from Ohio so when we travel b...\n",
       "725      I would recommend this product it is a good ta...\n",
       "6573     It's small, light and easily portable. Powerfu...\n",
       "34088    Does everything I need it to and with great qu...\n",
       "89       It's a great tablet for the price. Don't expec...\n",
       "Name: reviews.text, dtype: object"
      ]
     },
     "execution_count": 34,
     "metadata": {},
     "output_type": "execute_result"
    }
   ],
   "source": [
    "df.sample(5)[\"reviews.text\"]"
   ]
  },
  {
   "cell_type": "code",
   "execution_count": 35,
   "id": "28f0aa46-6ed9-4aca-9260-6abe06e2495f",
   "metadata": {},
   "outputs": [
    {
     "data": {
      "text/html": [
       "<div>\n",
       "<style scoped>\n",
       "    .dataframe tbody tr th:only-of-type {\n",
       "        vertical-align: middle;\n",
       "    }\n",
       "\n",
       "    .dataframe tbody tr th {\n",
       "        vertical-align: top;\n",
       "    }\n",
       "\n",
       "    .dataframe thead th {\n",
       "        text-align: right;\n",
       "    }\n",
       "</style>\n",
       "<table border=\"1\" class=\"dataframe\">\n",
       "  <thead>\n",
       "    <tr style=\"text-align: right;\">\n",
       "      <th></th>\n",
       "      <th>id</th>\n",
       "      <th>name</th>\n",
       "      <th>asins</th>\n",
       "      <th>brand</th>\n",
       "      <th>categories</th>\n",
       "      <th>keys</th>\n",
       "      <th>manufacturer</th>\n",
       "      <th>reviews.date</th>\n",
       "      <th>reviews.dateAdded</th>\n",
       "      <th>reviews.dateSeen</th>\n",
       "      <th>...</th>\n",
       "      <th>reviews.doRecommend</th>\n",
       "      <th>reviews.id</th>\n",
       "      <th>reviews.numHelpful</th>\n",
       "      <th>reviews.rating</th>\n",
       "      <th>reviews.sourceURLs</th>\n",
       "      <th>reviews.text</th>\n",
       "      <th>reviews.title</th>\n",
       "      <th>reviews.userCity</th>\n",
       "      <th>reviews.userProvince</th>\n",
       "      <th>reviews.username</th>\n",
       "    </tr>\n",
       "  </thead>\n",
       "  <tbody>\n",
       "    <tr>\n",
       "      <th>0</th>\n",
       "      <td>AVqkIhwDv8e3D1O-lebb</td>\n",
       "      <td>All-New Fire HD 8 Tablet, 8 HD Display, Wi-Fi,...</td>\n",
       "      <td>B01AHB9CN2</td>\n",
       "      <td>Amazon</td>\n",
       "      <td>Electronics,iPad &amp; Tablets,All Tablets,Fire Ta...</td>\n",
       "      <td>841667104676,amazon/53004484,amazon/b01ahb9cn2...</td>\n",
       "      <td>Amazon</td>\n",
       "      <td>2017-01-13T00:00:00.000Z</td>\n",
       "      <td>2017-07-03T23:33:15Z</td>\n",
       "      <td>2017-06-07T09:04:00.000Z,2017-04-30T00:45:00.000Z</td>\n",
       "      <td>...</td>\n",
       "      <td>True</td>\n",
       "      <td>NaN</td>\n",
       "      <td>0.0</td>\n",
       "      <td>5.0</td>\n",
       "      <td>http://reviews.bestbuy.com/3545/5620406/review...</td>\n",
       "      <td>This product so far has not disappointed. My c...</td>\n",
       "      <td>Kindle</td>\n",
       "      <td>NaN</td>\n",
       "      <td>NaN</td>\n",
       "      <td>Adapter</td>\n",
       "    </tr>\n",
       "    <tr>\n",
       "      <th>1</th>\n",
       "      <td>AVqkIhwDv8e3D1O-lebb</td>\n",
       "      <td>All-New Fire HD 8 Tablet, 8 HD Display, Wi-Fi,...</td>\n",
       "      <td>B01AHB9CN2</td>\n",
       "      <td>Amazon</td>\n",
       "      <td>Electronics,iPad &amp; Tablets,All Tablets,Fire Ta...</td>\n",
       "      <td>841667104676,amazon/53004484,amazon/b01ahb9cn2...</td>\n",
       "      <td>Amazon</td>\n",
       "      <td>2017-01-13T00:00:00.000Z</td>\n",
       "      <td>2017-07-03T23:33:15Z</td>\n",
       "      <td>2017-06-07T09:04:00.000Z,2017-04-30T00:45:00.000Z</td>\n",
       "      <td>...</td>\n",
       "      <td>True</td>\n",
       "      <td>NaN</td>\n",
       "      <td>0.0</td>\n",
       "      <td>5.0</td>\n",
       "      <td>http://reviews.bestbuy.com/3545/5620406/review...</td>\n",
       "      <td>great for beginner or experienced person. Boug...</td>\n",
       "      <td>very fast</td>\n",
       "      <td>NaN</td>\n",
       "      <td>NaN</td>\n",
       "      <td>truman</td>\n",
       "    </tr>\n",
       "  </tbody>\n",
       "</table>\n",
       "<p>2 rows × 21 columns</p>\n",
       "</div>"
      ],
      "text/plain": [
       "                     id                                               name  \\\n",
       "0  AVqkIhwDv8e3D1O-lebb  All-New Fire HD 8 Tablet, 8 HD Display, Wi-Fi,...   \n",
       "1  AVqkIhwDv8e3D1O-lebb  All-New Fire HD 8 Tablet, 8 HD Display, Wi-Fi,...   \n",
       "\n",
       "        asins   brand                                         categories  \\\n",
       "0  B01AHB9CN2  Amazon  Electronics,iPad & Tablets,All Tablets,Fire Ta...   \n",
       "1  B01AHB9CN2  Amazon  Electronics,iPad & Tablets,All Tablets,Fire Ta...   \n",
       "\n",
       "                                                keys manufacturer  \\\n",
       "0  841667104676,amazon/53004484,amazon/b01ahb9cn2...       Amazon   \n",
       "1  841667104676,amazon/53004484,amazon/b01ahb9cn2...       Amazon   \n",
       "\n",
       "               reviews.date     reviews.dateAdded  \\\n",
       "0  2017-01-13T00:00:00.000Z  2017-07-03T23:33:15Z   \n",
       "1  2017-01-13T00:00:00.000Z  2017-07-03T23:33:15Z   \n",
       "\n",
       "                                    reviews.dateSeen  ... reviews.doRecommend  \\\n",
       "0  2017-06-07T09:04:00.000Z,2017-04-30T00:45:00.000Z  ...                True   \n",
       "1  2017-06-07T09:04:00.000Z,2017-04-30T00:45:00.000Z  ...                True   \n",
       "\n",
       "  reviews.id  reviews.numHelpful  reviews.rating  \\\n",
       "0        NaN                 0.0             5.0   \n",
       "1        NaN                 0.0             5.0   \n",
       "\n",
       "                                  reviews.sourceURLs  \\\n",
       "0  http://reviews.bestbuy.com/3545/5620406/review...   \n",
       "1  http://reviews.bestbuy.com/3545/5620406/review...   \n",
       "\n",
       "                                        reviews.text reviews.title  \\\n",
       "0  This product so far has not disappointed. My c...        Kindle   \n",
       "1  great for beginner or experienced person. Boug...     very fast   \n",
       "\n",
       "  reviews.userCity  reviews.userProvince  reviews.username  \n",
       "0              NaN                   NaN           Adapter  \n",
       "1              NaN                   NaN            truman  \n",
       "\n",
       "[2 rows x 21 columns]"
      ]
     },
     "execution_count": 35,
     "metadata": {},
     "output_type": "execute_result"
    }
   ],
   "source": [
    "df.head(2)"
   ]
  },
  {
   "cell_type": "code",
   "execution_count": 36,
   "id": "e207cb9e-ee5d-453a-8992-a375eabd997e",
   "metadata": {},
   "outputs": [
    {
     "data": {
      "text/plain": [
       "id                                                   AVqkIhwDv8e3D1O-lebb\n",
       "name                    All-New Fire HD 8 Tablet, 8 HD Display, Wi-Fi,...\n",
       "asins                                                          B01AHB9CN2\n",
       "brand                                                              Amazon\n",
       "categories              Electronics,iPad & Tablets,All Tablets,Fire Ta...\n",
       "keys                    841667104676,amazon/53004484,amazon/b01ahb9cn2...\n",
       "manufacturer                                                       Amazon\n",
       "reviews.date                                     2017-01-13T00:00:00.000Z\n",
       "reviews.dateAdded                                    2017-07-03T23:33:15Z\n",
       "reviews.dateSeen        2017-06-07T09:04:00.000Z,2017-04-30T00:45:00.000Z\n",
       "reviews.didPurchase                                                   NaN\n",
       "reviews.doRecommend                                                  True\n",
       "reviews.id                                                            NaN\n",
       "reviews.numHelpful                                                    0.0\n",
       "reviews.rating                                                        5.0\n",
       "reviews.sourceURLs      http://reviews.bestbuy.com/3545/5620406/review...\n",
       "reviews.text            This product so far has not disappointed. My c...\n",
       "reviews.title                                                      Kindle\n",
       "reviews.userCity                                                      NaN\n",
       "reviews.userProvince                                                  NaN\n",
       "reviews.username                                                  Adapter\n",
       "Name: 0, dtype: object"
      ]
     },
     "execution_count": 36,
     "metadata": {},
     "output_type": "execute_result"
    }
   ],
   "source": [
    "df.loc[0]"
   ]
  },
  {
   "cell_type": "code",
   "execution_count": 37,
   "id": "105c5ccc-6459-4c47-b875-2b1a5d0511b9",
   "metadata": {},
   "outputs": [],
   "source": [
    "cats = sorted(list(df[\"categories\"].unique()))"
   ]
  },
  {
   "cell_type": "code",
   "execution_count": 39,
   "id": "955adac7-2a7e-4e43-a2c9-89bd28ad3498",
   "metadata": {},
   "outputs": [
    {
     "data": {
      "text/plain": [
       "41"
      ]
     },
     "execution_count": 39,
     "metadata": {},
     "output_type": "execute_result"
    }
   ],
   "source": [
    "len(cats)"
   ]
  },
  {
   "cell_type": "code",
   "execution_count": 40,
   "id": "deea216f-6ec3-4bb4-a789-2d1999d6deaa",
   "metadata": {},
   "outputs": [
    {
     "name": "stdout",
     "output_type": "stream",
     "text": [
      "0 Amazon Device Access 6\n",
      "1 Amazon Devices & Acc 402\n",
      "2 Back To College,Coll 5056\n",
      "3 Cases,Kindle Store,A 13\n",
      "4 Categories,Streaming 8\n",
      "5 Chargers & Adapters, 73\n",
      "6 Computers & Tablets, 51\n",
      "7 Computers & Tablets, 10\n",
      "8 Computers/Tablets &  13\n",
      "9 Computers/Tablets &  1038\n",
      "10 Computers/Tablets &  4\n",
      "11 Electronics Features 372\n",
      "12 Electronics,Amazon D 10\n",
      "13 Electronics,Categori 3\n",
      "14 Electronics,Categori 6\n",
      "15 Electronics,Computer 6\n",
      "16 Electronics,Tablets  256\n",
      "17 Electronics,eBook Re 5\n",
      "18 Electronics,eBook Re 15\n",
      "19 Electronics,iPad & T 30\n",
      "20 Electronics,iPad & T 212\n",
      "21 Electronics,iPad & T 2814\n",
      "22 Featured Brands,Elec 636\n",
      "23 Fire Tablets,Tablets 7\n",
      "24 Fire Tablets,Tablets 270\n",
      "25 Fire Tablets,Tablets 10966\n",
      "26 Fire Tablets,Tablets 1\n",
      "27 Frys,Software & Book 2\n",
      "28 Kindle E-readers,Ele 6\n",
      "29 Kindle Store,Amazon  19\n",
      "30 Kindle Store,Categor 16\n",
      "31 Power Adapters & Cab 8\n",
      "32 Rice Dishes,Ready Me 1\n",
      "33 Stereos,Remote Contr 6619\n",
      "34 TVs Entertainment,Wi 7\n",
      "35 Tablets,Fire Tablets 1699\n",
      "36 Tablets,Fire Tablets 158\n",
      "37 Walmart for Business 580\n",
      "38 Walmart for Business 3176\n",
      "39 eBook Readers,Kindle 67\n",
      "40 mazon.co.uk,Amazon D 19\n"
     ]
    }
   ],
   "source": [
    "for i, cat in enumerate(cats):\n",
    "    df2 = df[df[\"categories\"] == cat]\n",
    "    print(i, cat[0:20], df2.shape[0])"
   ]
  },
  {
   "cell_type": "code",
   "execution_count": 41,
   "id": "a81a9a69-89e5-41e3-938b-de0962072042",
   "metadata": {},
   "outputs": [
    {
     "data": {
      "text/plain": [
       "'Electronics,eBook Readers & Accessories,Power Adapters,Computers/Tablets & Networking,Tablet & eBook Reader Accs,Chargers & Sync Cables,Power Adapters & Cables,Kindle Store,Amazon Device Accessories,Kindle Fire (2nd Generation) Accessories,Fire Tablet Accessories'"
      ]
     },
     "execution_count": 41,
     "metadata": {},
     "output_type": "execute_result"
    }
   ],
   "source": [
    "cats[18]"
   ]
  },
  {
   "cell_type": "code",
   "execution_count": 42,
   "id": "09d4fcf9-dbca-4ee1-b8f6-880bfec0c17c",
   "metadata": {},
   "outputs": [
    {
     "data": {
      "text/plain": [
       "(15, 21)"
      ]
     },
     "execution_count": 42,
     "metadata": {},
     "output_type": "execute_result"
    }
   ],
   "source": [
    "categoryToUse = cats[18]\n",
    "df2 = df[df[\"categories\"] == categoryToUse]\n",
    "df2.shape"
   ]
  },
  {
   "cell_type": "code",
   "execution_count": 43,
   "id": "72417b63-a9e5-497b-acb1-f2e8c6041cbd",
   "metadata": {},
   "outputs": [],
   "source": [
    "reviews = list(df2[\"reviews.text\"])"
   ]
  },
  {
   "cell_type": "code",
   "execution_count": 44,
   "id": "7e482b47-f322-4a4f-9400-380cdf2983ab",
   "metadata": {},
   "outputs": [
    {
     "data": {
      "text/plain": [
       "['Arrived quickly and works perfectly. Very happy with my purchase.',\n",
       " 'As promised, thank you very much!',\n",
       " '1of fav chargers',\n",
       " \"These days, Amazon doesn't supply a charger when you purchase a new Kindle. That makes sense because most Kindle purchasers probably have older Kindle models already, or other USB powered devices or phones or tablets, many of which will have included chargers. As a result most people will already have a sufficient supply of chargers sitting around.But for someone who wants or needs a new charger when they order a new Kindle, Amazon presents you with the option to buy one at the time of your Kindle purchase.So I was surprised when I noticed this new charger model now being offered as an option for new Kindles. My first thought was that Amazon had updated their previous charger models to bring them up-to-date and make them competitive with the great variety of third party chargers now available (see links below for these earlier models).As soon as I looked at the specs for this charger though, I was disappointed. Unfortunately, even though this is Amazon's latest basic charger offering, it is not in my opinion the best choice for someone who needs a USB charger, for a Kindle or for anything else for that matter. And that's something I wouldn't usually find myself saying, because usually Amazon's accessories are reasonably priced and competitive.This is certainly a capable and functional charger, and it will work perfectly fine with any Kindle device and charge it acceptably well. But here are the reasons why I feel this is not the best choice:- It will supply only 1 A output, maximum. That's sufficient for a Kindle e-reader but not sufficient for many other devices. Any of the Fire devices, for example, will benefit from a higher output charger in order to reduce charging time.Read more\",\n",
       " 'Overpriced and should be FREE with Kindle Purchase',\n",
       " 'This is clearly taking advantaged of Kindle customers who lack a technical understanding of what it is. Go to Amazon and search: AC USB Chargers, many listings starting at two for 7.99.',\n",
       " \"If you own a tablet or smartphone, you already have one. If you don't, one of your friends/family will give you one of their three spares. These adapters are ubiquitous.While they're not all exactly the same, they all do the same thing. Worth about 2.\",\n",
       " 'I thought I was getting a fast charger for the price I paid for this! It was 20 for this slow charger...the same price amazon charges for the fast charger. This charger should have been included with my Paperwhite...buyer beware this is way overpriced and should be free with the purchase od a kindle!!!',\n",
       " \"20 for a 5w, 1A wall charger! That deal is right up there with the 30 Hdmi cables best buy wants to sell you.Here is what you do, find an old cell phone charger laying around somewhere that says 5W, 1A(1000mA ) and use it. You can safely use up to 5.25 watts and anything between .5 and 1 amp (500mA-1000mA).If you don't have an extra cell phone charger lying around just buy a well reviewed power adapter with the above specifications that connects to your Kindle (micro USB). They can be found for under 10 locally or through Amazon.\",\n",
       " \"I would like to rate this 3 and half stars - while the adapter itself works just fine, I think it is underhanded of Amazon to make you pay extra for it. Maybe I am not technologically up-to-date, but it seems to me that most people charge things at a wall socket not with a computer USB port. I think that I read that charging with USB takes longer as well. Just like an airline charging you for taking your bags on the plane, now Amazon is charging you for things you need to make the Kindle work - pretty soon you'll have to pay for the cord, guides and updates. Not very good customer service :(\",\n",
       " 'I dont own this, first off. But 1 amp wont charge anything very quickly, and I only write this review because they advertised it on my Fire. The price is 19.99 as of this advert, and thats way out of line for a 1 amp charger.',\n",
       " 'Works great as I would expect it too. Only complaint, why is this not just part of the kindle purchase instead of a separate line item.',\n",
       " 'Item arrived within estimated delivery date. Package received in good condition. Product performs as advertised in its description.I feel it is a must for kindle owners or any e-reader for that matter. I find myself reading in areas far out of reach of my computer so having an outlet charger becomes a necessity. I would recommend it to any kindle owner.',\n",
       " 'What can one say. It charges my Kindle.',\n",
       " 'A nice update to the original 5W USB Power Adapter. Despite how wonderful the 9W USB Power Adapter is for Kindle Fires, I still actually prefer to use this oldie but goodie due to the way the 9W folds. I actually prefer not to have the pointy bits (lack of a better term) fold away as this causes problems when trying to connect it to something new. I actually prefer this to charging my Kindle Fire faster as the 5W is really for the regular E Ink Kindles like my Kindle Voyager.Now the 9W is fine for traveling and if you leave the charger plugged in. But this new sleek and black and white charger works and turns heads with a white or black cord depending on if you still have those old white cords laying about.']"
      ]
     },
     "execution_count": 44,
     "metadata": {},
     "output_type": "execute_result"
    }
   ],
   "source": [
    "reviews"
   ]
  },
  {
   "cell_type": "code",
   "execution_count": 45,
   "id": "69680d4d-032f-469a-922f-f1ae65e5dbb7",
   "metadata": {},
   "outputs": [
    {
     "data": {
      "text/plain": [
       "15"
      ]
     },
     "execution_count": 45,
     "metadata": {},
     "output_type": "execute_result"
    }
   ],
   "source": [
    "len(reviews)"
   ]
  },
  {
   "cell_type": "code",
   "execution_count": 46,
   "id": "041f4ef0-2ea5-40f7-8e8d-20cd7f1febc9",
   "metadata": {},
   "outputs": [
    {
     "name": "stdout",
     "output_type": "stream",
     "text": [
      "warn: timer is in state INIT.  Will use instantiation times for start and now stop.\n",
      "wall: 13.91      cpu: 83.33\n"
     ]
    }
   ],
   "source": [
    "t = timer()\n",
    "output = classifier(reviews)\n",
    "t.stop()"
   ]
  },
  {
   "cell_type": "code",
   "execution_count": 47,
   "id": "280f994b-a4ed-4be1-9e29-d1c3f5b47ab7",
   "metadata": {},
   "outputs": [
    {
     "name": "stdout",
     "output_type": "stream",
     "text": [
      "+   0.9999 Arrived quickly and works perfectly. Very happy with my purchase.\n",
      "+   0.9999 As promised, thank you very much!\n",
      "+   0.9965 Works great as I would expect it too. Only complaint, why is this not just part of the kindle purchase instead of a separate line item.\n",
      "+   0.9947 If you own a tablet or smartphone, you already have one. If you don't, one of your friends/family will give you one of their three spares. These adapters are ubiquitous.While they're not all exactly the same, they all do the same thing. Worth about 2.\n",
      "+   0.9908 What can one say. It charges my Kindle.\n",
      "+   0.6896 1of fav chargers\n",
      "-   0.9815 A nice update to the original 5W USB Power Adapter. Despite how wonderful the 9W USB Power Adapter is for Kindle Fires, I still actually prefer to use this oldie but goodie due to the way the 9W folds. I actually prefer not to have the pointy bits (lack of a better term) fold away as this causes problems when trying to connect it to something new. I actually prefer this to charging my Kindle Fire faster as the 5W is really for the regular E Ink Kindles like my Kindle Voyager.Now the 9W is fine for traveling and if you leave the charger plugged in. But this new sleek and black and white charger works and turns heads with a white or black cord depending on if you still have those old white cords laying about.\n",
      "-   0.9816 Item arrived within estimated delivery date. Package received in good condition. Product performs as advertised in its description.I feel it is a must for kindle owners or any e-reader for that matter. I find myself reading in areas far out of reach of my computer so having an outlet charger becomes a necessity. I would recommend it to any kindle owner.\n",
      "-   0.9916 These days, Amazon doesn't supply a charger when you purchase a new Kindle. That makes sense because most Kindle purchasers probably have older Kindle models already, or other USB powered devices or phones or tablets, many of which will have included chargers. As a result most people will already have a sufficient supply of chargers sitting around.But for someone who wants or needs a new charger when they order a new Kindle, Amazon presents you with the option to buy one at the time of your Kindle purchase.So I was surprised when I noticed this new charger model now being offered as an option for new Kindles. My first thought was that Amazon had updated their previous charger models to bring them up-to-date and make them competitive with the great variety of third party chargers now available (see links below for these earlier models).As soon as I looked at the specs for this charger though, I was disappointed. Unfortunately, even though this is Amazon's latest basic charger offering, it is not in my opinion the best choice for someone who needs a USB charger, for a Kindle or for anything else for that matter. And that's something I wouldn't usually find myself saying, because usually Amazon's accessories are reasonably priced and competitive.This is certainly a capable and functional charger, and it will work perfectly fine with any Kindle device and charge it acceptably well. But here are the reasons why I feel this is not the best choice:- It will supply only 1 A output, maximum. That's sufficient for a Kindle e-reader but not sufficient for many other devices. Any of the Fire devices, for example, will benefit from a higher output charger in order to reduce charging time.Read more\n",
      "-   0.9952 This is clearly taking advantaged of Kindle customers who lack a technical understanding of what it is. Go to Amazon and search: AC USB Chargers, many listings starting at two for 7.99.\n",
      "-   0.9958 20 for a 5w, 1A wall charger! That deal is right up there with the 30 Hdmi cables best buy wants to sell you.Here is what you do, find an old cell phone charger laying around somewhere that says 5W, 1A(1000mA ) and use it. You can safely use up to 5.25 watts and anything between .5 and 1 amp (500mA-1000mA).If you don't have an extra cell phone charger lying around just buy a well reviewed power adapter with the above specifications that connects to your Kindle (micro USB). They can be found for under 10 locally or through Amazon.\n",
      "-   0.9977 I dont own this, first off. But 1 amp wont charge anything very quickly, and I only write this review because they advertised it on my Fire. The price is 19.99 as of this advert, and thats way out of line for a 1 amp charger.\n",
      "-   0.9983 Overpriced and should be FREE with Kindle Purchase\n",
      "-   0.9996 I would like to rate this 3 and half stars - while the adapter itself works just fine, I think it is underhanded of Amazon to make you pay extra for it. Maybe I am not technologically up-to-date, but it seems to me that most people charge things at a wall socket not with a computer USB port. I think that I read that charging with USB takes longer as well. Just like an airline charging you for taking your bags on the plane, now Amazon is charging you for things you need to make the Kindle work - pretty soon you'll have to pay for the cord, guides and updates. Not very good customer service :(\n",
      "-   0.9997 I thought I was getting a fast charger for the price I paid for this! It was 20 for this slow charger...the same price amazon charges for the fast charger. This charger should have been included with my Paperwhite...buyer beware this is way overpriced and should be free with the purchase od a kindle!!!\n"
     ]
    }
   ],
   "source": [
    "process(reviews, output)"
   ]
  },
  {
   "cell_type": "markdown",
   "id": "4c54c514-2898-465e-b9c0-c8a677d34b68",
   "metadata": {},
   "source": [
    "# 2. Zero Shot classification"
   ]
  },
  {
   "cell_type": "code",
   "execution_count": 48,
   "id": "c4715f7a-08df-4f71-9176-a2f3768565b2",
   "metadata": {},
   "outputs": [
    {
     "name": "stderr",
     "output_type": "stream",
     "text": [
      "No model was supplied, defaulted to facebook/bart-large-mnli and revision c626438 (https://huggingface.co/facebook/bart-large-mnli).\n",
      "Using a pipeline without specifying a model name and revision in production is not recommended.\n"
     ]
    }
   ],
   "source": [
    "classifier = pipeline(\"zero-shot-classification\")"
   ]
  },
  {
   "cell_type": "code",
   "execution_count": 49,
   "id": "a2900e1d-6d22-491b-91c8-06f380368390",
   "metadata": {},
   "outputs": [
    {
     "data": {
      "text/plain": [
       "{'sequence': 'This is a course about the Transformers library',\n",
       " 'labels': ['education', 'business', 'politics'],\n",
       " 'scores': [0.8445982336997986, 0.1119748204946518, 0.043426938354969025]}"
      ]
     },
     "execution_count": 49,
     "metadata": {},
     "output_type": "execute_result"
    }
   ],
   "source": [
    "classifier(\n",
    "    \"This is a course about the Transformers library\",\n",
    "    candidate_labels=[\"education\", \"politics\", \"business\"],\n",
    ")"
   ]
  },
  {
   "cell_type": "code",
   "execution_count": 50,
   "id": "09253ab0-1fe7-465a-a017-b7e646aa50f3",
   "metadata": {},
   "outputs": [
    {
     "data": {
      "text/plain": [
       "{'sequence': 'This is a summary of the Transformers library',\n",
       " 'labels': ['business', 'education', 'politics'],\n",
       " 'scores': [0.4526875615119934, 0.36332812905311584, 0.18398433923721313]}"
      ]
     },
     "execution_count": 50,
     "metadata": {},
     "output_type": "execute_result"
    }
   ],
   "source": [
    "classifier(\n",
    "    \"This is a summary of the Transformers library\",\n",
    "    candidate_labels=[\"education\", \"politics\", \"business\"],\n",
    ")"
   ]
  },
  {
   "cell_type": "code",
   "execution_count": 51,
   "id": "9e7ede3c-9e78-4421-810a-64368f155d26",
   "metadata": {},
   "outputs": [
    {
     "name": "stderr",
     "output_type": "stream",
     "text": [
      "/Users/jeremybloom/anaconda3/envs/hugs/lib/python3.9/site-packages/torch/utils/data/dataloader.py:642: UserWarning: Length of IterableDataset <transformers.pipelines.pt_utils.PipelineChunkIterator object at 0x2821836d0> was reported to be 3 (when accessing len(dataloader)), but 4 samples have been fetched. \n",
      "  warnings.warn(warn_msg)\n",
      "/Users/jeremybloom/anaconda3/envs/hugs/lib/python3.9/site-packages/torch/utils/data/dataloader.py:642: UserWarning: Length of IterableDataset <transformers.pipelines.pt_utils.PipelineChunkIterator object at 0x2821836d0> was reported to be 3 (when accessing len(dataloader)), but 5 samples have been fetched. \n",
      "  warnings.warn(warn_msg)\n",
      "/Users/jeremybloom/anaconda3/envs/hugs/lib/python3.9/site-packages/torch/utils/data/dataloader.py:642: UserWarning: Length of IterableDataset <transformers.pipelines.pt_utils.PipelineChunkIterator object at 0x2821836d0> was reported to be 3 (when accessing len(dataloader)), but 6 samples have been fetched. \n",
      "  warnings.warn(warn_msg)\n",
      "/Users/jeremybloom/anaconda3/envs/hugs/lib/python3.9/site-packages/torch/utils/data/dataloader.py:642: UserWarning: Length of IterableDataset <transformers.pipelines.pt_utils.PipelineChunkIterator object at 0x2821836d0> was reported to be 3 (when accessing len(dataloader)), but 7 samples have been fetched. \n",
      "  warnings.warn(warn_msg)\n",
      "/Users/jeremybloom/anaconda3/envs/hugs/lib/python3.9/site-packages/torch/utils/data/dataloader.py:642: UserWarning: Length of IterableDataset <transformers.pipelines.pt_utils.PipelineChunkIterator object at 0x2821836d0> was reported to be 3 (when accessing len(dataloader)), but 8 samples have been fetched. \n",
      "  warnings.warn(warn_msg)\n",
      "/Users/jeremybloom/anaconda3/envs/hugs/lib/python3.9/site-packages/torch/utils/data/dataloader.py:642: UserWarning: Length of IterableDataset <transformers.pipelines.pt_utils.PipelineChunkIterator object at 0x2821836d0> was reported to be 3 (when accessing len(dataloader)), but 9 samples have been fetched. \n",
      "  warnings.warn(warn_msg)\n"
     ]
    },
    {
     "name": "stdout",
     "output_type": "stream",
     "text": [
      "warn: timer is in state INIT.  Will use instantiation times for start and now stop.\n",
      "wall: 19.10      cpu: 116.13\n"
     ]
    }
   ],
   "source": [
    "t = timer()\n",
    "P = []\n",
    "P.append(\"the quick brown fox jumped over the lazy dog.\")\n",
    "P.append(\"man bites dog, film at 11\")\n",
    "P.append(\"nicotine shown addictive\")\n",
    "R = classifier(P, candidate_labels=[\"education\", \"politics\", \"business\"])\n",
    "t.stop()"
   ]
  },
  {
   "cell_type": "code",
   "execution_count": 55,
   "id": "83778c19-81b6-4c3b-934c-8356758b1de8",
   "metadata": {},
   "outputs": [],
   "source": [
    "def classify(textList, candidate_labels):\n",
    "    t = timer()\n",
    "    t.start()\n",
    "    returnList = True\n",
    "    if type(textList) == type(\"foo\"):\n",
    "        textList = [textList]\n",
    "        returnList = False\n",
    "    printStatus = False\n",
    "    if len(textList) > 2:\n",
    "        printStatus = True\n",
    "        lastStatus = 0\n",
    "        statusInterval = .1\n",
    "\n",
    "    R = []\n",
    "    for index, text in enumerate(textList):\n",
    "        R.append( classifier(text, candidate_labels = candidate_labels))\n",
    "        if printStatus:\n",
    "            pct = i / len(P)\n",
    "            if pct > lastStatus + statusInterval:\n",
    "                print(\".\",end=\"\")\n",
    "                lastStatus = pct\n",
    "    t.stop()\n",
    "    if returnList:\n",
    "        return R\n",
    "    elif len(R) == 1:\n",
    "        return R[0]\n",
    "    else:\n",
    "        print(\"error - bad logic in expected items / list return\")\n",
    "        return"
   ]
  },
  {
   "cell_type": "code",
   "execution_count": 56,
   "id": "89968cda-d064-442d-b1de-eabcbaa51130",
   "metadata": {},
   "outputs": [
    {
     "name": "stdout",
     "output_type": "stream",
     "text": [
      ".wall: 23.74      cpu: 141.78\n",
      "warn: timer is in state INIT.  Will use instantiation times for start and now stop.\n",
      "wall: 23.74      cpu: 141.78\n"
     ]
    }
   ],
   "source": [
    "t = timer()\n",
    "P = []\n",
    "P.append(\"the quick brown fox jumped over the lazy dog.\")\n",
    "P.append(\"man bites dog, film at 11\")\n",
    "P.append(\"nicotine shown addictive\")\n",
    "R = classify(P, candidate_labels=[\"education\", \"politics\", \"business\"])\n",
    "t.stop()"
   ]
  },
  {
   "cell_type": "code",
   "execution_count": 57,
   "id": "73c934d8-e7ad-4ca0-93c7-2d2619361461",
   "metadata": {},
   "outputs": [
    {
     "data": {
      "text/plain": [
       "[{'sequence': 'the quick brown fox jumped over the lazy dog.',\n",
       "  'labels': ['business', 'education', 'politics'],\n",
       "  'scores': [0.633482038974762, 0.2199830561876297, 0.14653486013412476]},\n",
       " {'sequence': 'man bites dog, film at 11',\n",
       "  'labels': ['business', 'politics', 'education'],\n",
       "  'scores': [0.44846415519714355, 0.2853669226169586, 0.26616889238357544]},\n",
       " {'sequence': 'nicotine shown addictive',\n",
       "  'labels': ['business', 'education', 'politics'],\n",
       "  'scores': [0.5418257713317871, 0.2547625005245209, 0.2034117579460144]}]"
      ]
     },
     "execution_count": 57,
     "metadata": {},
     "output_type": "execute_result"
    }
   ],
   "source": [
    "R"
   ]
  },
  {
   "cell_type": "code",
   "execution_count": 58,
   "id": "df94d860-447d-4166-b4ec-f25916e12e82",
   "metadata": {},
   "outputs": [
    {
     "name": "stdout",
     "output_type": "stream",
     "text": [
      "0.9999999552965164\n",
      "0.9999999701976776\n"
     ]
    }
   ],
   "source": [
    "print(sum(R[0][\"scores\"]))\n",
    "print(sum(R[1][\"scores\"]))"
   ]
  },
  {
   "cell_type": "code",
   "execution_count": 59,
   "id": "14c8ac97-1ebc-46c3-94b7-1262c5797eb6",
   "metadata": {},
   "outputs": [
    {
     "name": "stdout",
     "output_type": "stream",
     "text": [
      ".wall: 22.06      cpu: 133.87\n"
     ]
    },
    {
     "data": {
      "text/plain": [
       "[{'sequence': 'the quick brown fox jumped over the lazy dog.',\n",
       "  'labels': ['news', 'media', 'education', 'politics'],\n",
       "  'scores': [0.531642735004425,\n",
       "   0.4201987087726593,\n",
       "   0.028904644772410393,\n",
       "   0.0192539282143116]},\n",
       " {'sequence': 'man bites dog, film at 11',\n",
       "  'labels': ['media', 'news', 'politics', 'education'],\n",
       "  'scores': [0.5295995473861694,\n",
       "   0.45339250564575195,\n",
       "   0.008800003677606583,\n",
       "   0.008207984268665314]},\n",
       " {'sequence': 'nicotine shown addictive',\n",
       "  'labels': ['news', 'media', 'education', 'politics'],\n",
       "  'scores': [0.836067795753479,\n",
       "   0.15195265412330627,\n",
       "   0.00666108587756753,\n",
       "   0.0053184558637440205]}]"
      ]
     },
     "execution_count": 59,
     "metadata": {},
     "output_type": "execute_result"
    }
   ],
   "source": [
    "classify(P, candidate_labels=[\"education\", \"news\", \"politics\", \"media\"])"
   ]
  },
  {
   "cell_type": "code",
   "execution_count": 60,
   "id": "45681b33-c964-44c9-a1d4-3d00fb5d34c6",
   "metadata": {},
   "outputs": [
    {
     "name": "stdout",
     "output_type": "stream",
     "text": [
      "wall: 10.29      cpu: 62.69\n",
      "wall: 12.83      cpu: 78.76\n",
      "wall: 13.79      cpu: 83.90\n",
      "wall:  9.35      cpu: 57.21\n",
      "wall:  7.38      cpu: 50.69\n",
      "labels ['news', 'sports', 'politics']\n",
      "  news             0.98   0.98\n",
      "  sports           0.02   0.99\n",
      "  politics         0.01   1.00\n",
      "labels ['news', 'sports', 'politics', 'education']\n",
      "  news             0.97   0.97\n",
      "  sports           0.02   0.99\n",
      "  politics         0.01   0.99\n",
      "  education        0.01   1.00\n",
      "labels ['animals', 'news', 'sports', 'politics']\n",
      "  animals          0.69   0.69\n",
      "  news             0.31   0.99\n",
      "  sports           0.00   1.00\n",
      "  politics         0.00   1.00\n",
      "labels ['animals', 'news', 'sports', 'politics']\n",
      "  animals          0.69   0.69\n",
      "  news             0.31   0.99\n",
      "  sports           0.00   1.00\n",
      "  politics         0.00   1.00\n",
      "labels ['violence', 'animals', 'news', 'dogs', 'people', 'sports', 'politics', 'cats', 'penguins']\n",
      "  violence         0.50   0.50\n",
      "  animals          0.30   0.80\n",
      "  news             0.13   0.93\n",
      "  dogs             0.06   0.99\n",
      "  people           0.00   1.00\n",
      "  sports           0.00   1.00\n",
      "  politics         0.00   1.00\n",
      "  cats             0.00   1.00\n",
      "  penguins         0.00   1.00\n"
     ]
    }
   ],
   "source": [
    "p = \"man bites dog in suprise ice cream heist\"\n",
    "list_of_candidate_labels = []\n",
    "list_of_candidate_labels.append([\"sports\", \"politics\", \"news\"])\n",
    "list_of_candidate_labels.append([\"sports\", \"politics\", \"news\", \"education\"])\n",
    "list_of_candidate_labels.append([\"sports\", \"politics\", \"news\", \"animals\"])\n",
    "list_of_candidate_labels.append([\"animals\", \"sports\", \"politics\", \"news\"])\n",
    "list_of_candidate_labels.append([\"animals\", \"sports\", \"politics\", \"news\", \"cats\", \"penguins\", \"dogs\", \"people\", \"violence\"])\n",
    "\n",
    "listOfR = []\n",
    "for clabs in list_of_candidate_labels:\n",
    "    listOfR.append( classify(p, clabs) )\n",
    "\n",
    "for R in listOfR:\n",
    "    print(\"labels\", R[\"labels\"])\n",
    "    for i in range(len(R[\"labels\"])):\n",
    "        print(\"  {:15s} {:5.2f}  {:5.2f}\".format(R[\"labels\"][i], R[\"scores\"][i], sum(R[\"scores\"][0:i+1])))"
   ]
  },
  {
   "cell_type": "markdown",
   "id": "b6dde535-4eb0-41ba-ae0e-e6ff0f11350c",
   "metadata": {},
   "source": [
    "##### news articles online\n",
    "\n",
    "https://www.kaggle.com/datasets/rmisra/news-category-dataset\n",
    "1. Misra, Rishabh. \"News Category Dataset.\" arXiv preprint arXiv:2209.11429 (2022).\n",
    "2. Misra, Rishabh and Jigyasa Grover. \"Sculpting Data for ML: The first act of Machine Learning.\" ISBN 9798585463570 (2021).\n"
   ]
  },
  {
   "cell_type": "code",
   "execution_count": 61,
   "id": "4cf8be9d-1e61-4501-ba50-ac2ff0141cd8",
   "metadata": {},
   "outputs": [
    {
     "ename": "JSONDecodeError",
     "evalue": "Extra data: line 2 column 1 (char 448)",
     "output_type": "error",
     "traceback": [
      "\u001b[0;31m---------------------------------------------------------------------------\u001b[0m",
      "\u001b[0;31mJSONDecodeError\u001b[0m                           Traceback (most recent call last)",
      "Cell \u001b[0;32mIn[61], line 5\u001b[0m\n\u001b[1;32m      2\u001b[0m fn \u001b[38;5;241m=\u001b[39m os\u001b[38;5;241m.\u001b[39mpath\u001b[38;5;241m.\u001b[39mexpanduser(\u001b[38;5;124m'\u001b[39m\u001b[38;5;124m~\u001b[39m\u001b[38;5;124m'\u001b[39m) \u001b[38;5;241m+\u001b[39m \u001b[38;5;124m\"\u001b[39m\u001b[38;5;124m/Dropbox/datasets/News_Category_Dataset_v3.json\u001b[39m\u001b[38;5;124m\"\u001b[39m\n\u001b[1;32m      4\u001b[0m \u001b[38;5;28;01mwith\u001b[39;00m \u001b[38;5;28mopen\u001b[39m(fn) \u001b[38;5;28;01mas\u001b[39;00m file:\n\u001b[0;32m----> 5\u001b[0m     data \u001b[38;5;241m=\u001b[39m \u001b[43mjson\u001b[49m\u001b[38;5;241;43m.\u001b[39;49m\u001b[43mload\u001b[49m\u001b[43m(\u001b[49m\u001b[43mfile\u001b[49m\u001b[43m)\u001b[49m\n",
      "File \u001b[0;32m~/anaconda3/envs/hugs/lib/python3.9/json/__init__.py:293\u001b[0m, in \u001b[0;36mload\u001b[0;34m(fp, cls, object_hook, parse_float, parse_int, parse_constant, object_pairs_hook, **kw)\u001b[0m\n\u001b[1;32m    274\u001b[0m \u001b[38;5;28;01mdef\u001b[39;00m \u001b[38;5;21mload\u001b[39m(fp, \u001b[38;5;241m*\u001b[39m, \u001b[38;5;28mcls\u001b[39m\u001b[38;5;241m=\u001b[39m\u001b[38;5;28;01mNone\u001b[39;00m, object_hook\u001b[38;5;241m=\u001b[39m\u001b[38;5;28;01mNone\u001b[39;00m, parse_float\u001b[38;5;241m=\u001b[39m\u001b[38;5;28;01mNone\u001b[39;00m,\n\u001b[1;32m    275\u001b[0m         parse_int\u001b[38;5;241m=\u001b[39m\u001b[38;5;28;01mNone\u001b[39;00m, parse_constant\u001b[38;5;241m=\u001b[39m\u001b[38;5;28;01mNone\u001b[39;00m, object_pairs_hook\u001b[38;5;241m=\u001b[39m\u001b[38;5;28;01mNone\u001b[39;00m, \u001b[38;5;241m*\u001b[39m\u001b[38;5;241m*\u001b[39mkw):\n\u001b[1;32m    276\u001b[0m \u001b[38;5;250m    \u001b[39m\u001b[38;5;124;03m\"\"\"Deserialize ``fp`` (a ``.read()``-supporting file-like object containing\u001b[39;00m\n\u001b[1;32m    277\u001b[0m \u001b[38;5;124;03m    a JSON document) to a Python object.\u001b[39;00m\n\u001b[1;32m    278\u001b[0m \n\u001b[0;32m   (...)\u001b[0m\n\u001b[1;32m    291\u001b[0m \u001b[38;5;124;03m    kwarg; otherwise ``JSONDecoder`` is used.\u001b[39;00m\n\u001b[1;32m    292\u001b[0m \u001b[38;5;124;03m    \"\"\"\u001b[39;00m\n\u001b[0;32m--> 293\u001b[0m     \u001b[38;5;28;01mreturn\u001b[39;00m \u001b[43mloads\u001b[49m\u001b[43m(\u001b[49m\u001b[43mfp\u001b[49m\u001b[38;5;241;43m.\u001b[39;49m\u001b[43mread\u001b[49m\u001b[43m(\u001b[49m\u001b[43m)\u001b[49m\u001b[43m,\u001b[49m\n\u001b[1;32m    294\u001b[0m \u001b[43m        \u001b[49m\u001b[38;5;28;43mcls\u001b[39;49m\u001b[38;5;241;43m=\u001b[39;49m\u001b[38;5;28;43mcls\u001b[39;49m\u001b[43m,\u001b[49m\u001b[43m \u001b[49m\u001b[43mobject_hook\u001b[49m\u001b[38;5;241;43m=\u001b[39;49m\u001b[43mobject_hook\u001b[49m\u001b[43m,\u001b[49m\n\u001b[1;32m    295\u001b[0m \u001b[43m        \u001b[49m\u001b[43mparse_float\u001b[49m\u001b[38;5;241;43m=\u001b[39;49m\u001b[43mparse_float\u001b[49m\u001b[43m,\u001b[49m\u001b[43m \u001b[49m\u001b[43mparse_int\u001b[49m\u001b[38;5;241;43m=\u001b[39;49m\u001b[43mparse_int\u001b[49m\u001b[43m,\u001b[49m\n\u001b[1;32m    296\u001b[0m \u001b[43m        \u001b[49m\u001b[43mparse_constant\u001b[49m\u001b[38;5;241;43m=\u001b[39;49m\u001b[43mparse_constant\u001b[49m\u001b[43m,\u001b[49m\u001b[43m \u001b[49m\u001b[43mobject_pairs_hook\u001b[49m\u001b[38;5;241;43m=\u001b[39;49m\u001b[43mobject_pairs_hook\u001b[49m\u001b[43m,\u001b[49m\u001b[43m \u001b[49m\u001b[38;5;241;43m*\u001b[39;49m\u001b[38;5;241;43m*\u001b[39;49m\u001b[43mkw\u001b[49m\u001b[43m)\u001b[49m\n",
      "File \u001b[0;32m~/anaconda3/envs/hugs/lib/python3.9/json/__init__.py:346\u001b[0m, in \u001b[0;36mloads\u001b[0;34m(s, cls, object_hook, parse_float, parse_int, parse_constant, object_pairs_hook, **kw)\u001b[0m\n\u001b[1;32m    341\u001b[0m     s \u001b[38;5;241m=\u001b[39m s\u001b[38;5;241m.\u001b[39mdecode(detect_encoding(s), \u001b[38;5;124m'\u001b[39m\u001b[38;5;124msurrogatepass\u001b[39m\u001b[38;5;124m'\u001b[39m)\n\u001b[1;32m    343\u001b[0m \u001b[38;5;28;01mif\u001b[39;00m (\u001b[38;5;28mcls\u001b[39m \u001b[38;5;129;01mis\u001b[39;00m \u001b[38;5;28;01mNone\u001b[39;00m \u001b[38;5;129;01mand\u001b[39;00m object_hook \u001b[38;5;129;01mis\u001b[39;00m \u001b[38;5;28;01mNone\u001b[39;00m \u001b[38;5;129;01mand\u001b[39;00m\n\u001b[1;32m    344\u001b[0m         parse_int \u001b[38;5;129;01mis\u001b[39;00m \u001b[38;5;28;01mNone\u001b[39;00m \u001b[38;5;129;01mand\u001b[39;00m parse_float \u001b[38;5;129;01mis\u001b[39;00m \u001b[38;5;28;01mNone\u001b[39;00m \u001b[38;5;129;01mand\u001b[39;00m\n\u001b[1;32m    345\u001b[0m         parse_constant \u001b[38;5;129;01mis\u001b[39;00m \u001b[38;5;28;01mNone\u001b[39;00m \u001b[38;5;129;01mand\u001b[39;00m object_pairs_hook \u001b[38;5;129;01mis\u001b[39;00m \u001b[38;5;28;01mNone\u001b[39;00m \u001b[38;5;129;01mand\u001b[39;00m \u001b[38;5;129;01mnot\u001b[39;00m kw):\n\u001b[0;32m--> 346\u001b[0m     \u001b[38;5;28;01mreturn\u001b[39;00m \u001b[43m_default_decoder\u001b[49m\u001b[38;5;241;43m.\u001b[39;49m\u001b[43mdecode\u001b[49m\u001b[43m(\u001b[49m\u001b[43ms\u001b[49m\u001b[43m)\u001b[49m\n\u001b[1;32m    347\u001b[0m \u001b[38;5;28;01mif\u001b[39;00m \u001b[38;5;28mcls\u001b[39m \u001b[38;5;129;01mis\u001b[39;00m \u001b[38;5;28;01mNone\u001b[39;00m:\n\u001b[1;32m    348\u001b[0m     \u001b[38;5;28mcls\u001b[39m \u001b[38;5;241m=\u001b[39m JSONDecoder\n",
      "File \u001b[0;32m~/anaconda3/envs/hugs/lib/python3.9/json/decoder.py:340\u001b[0m, in \u001b[0;36mJSONDecoder.decode\u001b[0;34m(self, s, _w)\u001b[0m\n\u001b[1;32m    338\u001b[0m end \u001b[38;5;241m=\u001b[39m _w(s, end)\u001b[38;5;241m.\u001b[39mend()\n\u001b[1;32m    339\u001b[0m \u001b[38;5;28;01mif\u001b[39;00m end \u001b[38;5;241m!=\u001b[39m \u001b[38;5;28mlen\u001b[39m(s):\n\u001b[0;32m--> 340\u001b[0m     \u001b[38;5;28;01mraise\u001b[39;00m JSONDecodeError(\u001b[38;5;124m\"\u001b[39m\u001b[38;5;124mExtra data\u001b[39m\u001b[38;5;124m\"\u001b[39m, s, end)\n\u001b[1;32m    341\u001b[0m \u001b[38;5;28;01mreturn\u001b[39;00m obj\n",
      "\u001b[0;31mJSONDecodeError\u001b[0m: Extra data: line 2 column 1 (char 448)"
     ]
    }
   ],
   "source": [
    "import json\n",
    "fn = os.path.expanduser('~') + \"/Dropbox/datasets/News_Category_Dataset_v3.json\"\n",
    "\n",
    "with open(fn) as file:\n",
    "    data = json.load(file)"
   ]
  },
  {
   "cell_type": "code",
   "execution_count": 62,
   "id": "f524c930-0a0e-4ffd-bf5a-e1b6c6d98d92",
   "metadata": {},
   "outputs": [],
   "source": [
    "data = []\n",
    "for line in open(fn, 'r'):\n",
    "    data.append( json.loads(line) )"
   ]
  },
  {
   "cell_type": "code",
   "execution_count": 63,
   "id": "11dc2287-67ba-47b1-b9bf-3f3b49f687ce",
   "metadata": {},
   "outputs": [
    {
     "data": {
      "text/plain": [
       "209527"
      ]
     },
     "execution_count": 63,
     "metadata": {},
     "output_type": "execute_result"
    }
   ],
   "source": [
    "len(data)"
   ]
  },
  {
   "cell_type": "code",
   "execution_count": 64,
   "id": "7c23ce40-3d3c-466e-9350-117661e2151e",
   "metadata": {},
   "outputs": [],
   "source": [
    "df = pd.DataFrame(data)"
   ]
  },
  {
   "cell_type": "code",
   "execution_count": 65,
   "id": "717bc69f-4a06-484e-8887-1bc1c53d2c0e",
   "metadata": {},
   "outputs": [
    {
     "data": {
      "text/html": [
       "<div>\n",
       "<style scoped>\n",
       "    .dataframe tbody tr th:only-of-type {\n",
       "        vertical-align: middle;\n",
       "    }\n",
       "\n",
       "    .dataframe tbody tr th {\n",
       "        vertical-align: top;\n",
       "    }\n",
       "\n",
       "    .dataframe thead th {\n",
       "        text-align: right;\n",
       "    }\n",
       "</style>\n",
       "<table border=\"1\" class=\"dataframe\">\n",
       "  <thead>\n",
       "    <tr style=\"text-align: right;\">\n",
       "      <th></th>\n",
       "      <th>link</th>\n",
       "      <th>headline</th>\n",
       "      <th>category</th>\n",
       "      <th>short_description</th>\n",
       "      <th>authors</th>\n",
       "      <th>date</th>\n",
       "    </tr>\n",
       "  </thead>\n",
       "  <tbody>\n",
       "    <tr>\n",
       "      <th>0</th>\n",
       "      <td>https://www.huffpost.com/entry/covid-boosters-...</td>\n",
       "      <td>Over 4 Million Americans Roll Up Sleeves For O...</td>\n",
       "      <td>U.S. NEWS</td>\n",
       "      <td>Health experts said it is too early to predict...</td>\n",
       "      <td>Carla K. Johnson, AP</td>\n",
       "      <td>2022-09-23</td>\n",
       "    </tr>\n",
       "    <tr>\n",
       "      <th>1</th>\n",
       "      <td>https://www.huffpost.com/entry/american-airlin...</td>\n",
       "      <td>American Airlines Flyer Charged, Banned For Li...</td>\n",
       "      <td>U.S. NEWS</td>\n",
       "      <td>He was subdued by passengers and crew when he ...</td>\n",
       "      <td>Mary Papenfuss</td>\n",
       "      <td>2022-09-23</td>\n",
       "    </tr>\n",
       "    <tr>\n",
       "      <th>2</th>\n",
       "      <td>https://www.huffpost.com/entry/funniest-tweets...</td>\n",
       "      <td>23 Of The Funniest Tweets About Cats And Dogs ...</td>\n",
       "      <td>COMEDY</td>\n",
       "      <td>\"Until you have a dog you don't understand wha...</td>\n",
       "      <td>Elyse Wanshel</td>\n",
       "      <td>2022-09-23</td>\n",
       "    </tr>\n",
       "    <tr>\n",
       "      <th>3</th>\n",
       "      <td>https://www.huffpost.com/entry/funniest-parent...</td>\n",
       "      <td>The Funniest Tweets From Parents This Week (Se...</td>\n",
       "      <td>PARENTING</td>\n",
       "      <td>\"Accidentally put grown-up toothpaste on my to...</td>\n",
       "      <td>Caroline Bologna</td>\n",
       "      <td>2022-09-23</td>\n",
       "    </tr>\n",
       "    <tr>\n",
       "      <th>4</th>\n",
       "      <td>https://www.huffpost.com/entry/amy-cooper-lose...</td>\n",
       "      <td>Woman Who Called Cops On Black Bird-Watcher Lo...</td>\n",
       "      <td>U.S. NEWS</td>\n",
       "      <td>Amy Cooper accused investment firm Franklin Te...</td>\n",
       "      <td>Nina Golgowski</td>\n",
       "      <td>2022-09-22</td>\n",
       "    </tr>\n",
       "  </tbody>\n",
       "</table>\n",
       "</div>"
      ],
      "text/plain": [
       "                                                link  \\\n",
       "0  https://www.huffpost.com/entry/covid-boosters-...   \n",
       "1  https://www.huffpost.com/entry/american-airlin...   \n",
       "2  https://www.huffpost.com/entry/funniest-tweets...   \n",
       "3  https://www.huffpost.com/entry/funniest-parent...   \n",
       "4  https://www.huffpost.com/entry/amy-cooper-lose...   \n",
       "\n",
       "                                            headline   category  \\\n",
       "0  Over 4 Million Americans Roll Up Sleeves For O...  U.S. NEWS   \n",
       "1  American Airlines Flyer Charged, Banned For Li...  U.S. NEWS   \n",
       "2  23 Of The Funniest Tweets About Cats And Dogs ...     COMEDY   \n",
       "3  The Funniest Tweets From Parents This Week (Se...  PARENTING   \n",
       "4  Woman Who Called Cops On Black Bird-Watcher Lo...  U.S. NEWS   \n",
       "\n",
       "                                   short_description               authors  \\\n",
       "0  Health experts said it is too early to predict...  Carla K. Johnson, AP   \n",
       "1  He was subdued by passengers and crew when he ...        Mary Papenfuss   \n",
       "2  \"Until you have a dog you don't understand wha...         Elyse Wanshel   \n",
       "3  \"Accidentally put grown-up toothpaste on my to...      Caroline Bologna   \n",
       "4  Amy Cooper accused investment firm Franklin Te...        Nina Golgowski   \n",
       "\n",
       "         date  \n",
       "0  2022-09-23  \n",
       "1  2022-09-23  \n",
       "2  2022-09-23  \n",
       "3  2022-09-23  \n",
       "4  2022-09-22  "
      ]
     },
     "execution_count": 65,
     "metadata": {},
     "output_type": "execute_result"
    }
   ],
   "source": [
    "df.head()"
   ]
  },
  {
   "cell_type": "code",
   "execution_count": 66,
   "id": "7a4b4de8-5767-4dd6-8e64-8f1170742570",
   "metadata": {},
   "outputs": [
    {
     "data": {
      "text/plain": [
       "42"
      ]
     },
     "execution_count": 66,
     "metadata": {},
     "output_type": "execute_result"
    }
   ],
   "source": [
    "categories = sorted(list(df[\"category\"].unique()))\n",
    "len(categories)"
   ]
  },
  {
   "cell_type": "code",
   "execution_count": 67,
   "id": "172853d6-0500-4fef-9c95-1f91bbc4105c",
   "metadata": {},
   "outputs": [],
   "source": [
    "categoryTotal = {}\n",
    "for d in data:\n",
    "    cname = d[\"category\"]\n",
    "    if cname in categoryTotal:\n",
    "        categoryTotal[cname] += 1\n",
    "    else:\n",
    "        categoryTotal[cname] = 1"
   ]
  },
  {
   "cell_type": "code",
   "execution_count": 69,
   "id": "1a2e25b4-c9cb-41e8-b314-4e1038da5c35",
   "metadata": {},
   "outputs": [],
   "source": [
    "#categoryTotal"
   ]
  },
  {
   "cell_type": "code",
   "execution_count": 71,
   "id": "142a1c06-a0ad-4228-8940-b582e061c178",
   "metadata": {},
   "outputs": [],
   "source": [
    "cats = ['WORLD NEWS', 'TECH', 'SPORTS', 'EDUCATION', 'CRIME', \"PARENTS\"]"
   ]
  },
  {
   "cell_type": "code",
   "execution_count": 72,
   "id": "61b2cc36-ea49-4ed5-a7c7-a5ccf14d106e",
   "metadata": {},
   "outputs": [
    {
     "data": {
      "text/plain": [
       "array(['WORLD NEWS', 'TECH', 'SPORTS', 'EDUCATION', 'CRIME', 'PARENTS'],\n",
       "      dtype=object)"
      ]
     },
     "execution_count": 72,
     "metadata": {},
     "output_type": "execute_result"
    }
   ],
   "source": [
    "df2 = df[df[\"category\"].isin(cats)]\n",
    "df2[\"category\"].unique()"
   ]
  },
  {
   "cell_type": "code",
   "execution_count": 73,
   "id": "fb9cf5c2-0d57-4ee9-b1cc-95712361a92a",
   "metadata": {},
   "outputs": [
    {
     "data": {
      "text/plain": [
       "(19011, 6)"
      ]
     },
     "execution_count": 73,
     "metadata": {},
     "output_type": "execute_result"
    }
   ],
   "source": [
    "df2.shape"
   ]
  },
  {
   "cell_type": "code",
   "execution_count": 76,
   "id": "361c5547-f6fe-4cbe-9962-b1a7d3719072",
   "metadata": {},
   "outputs": [],
   "source": [
    "df3 = df2.sample(10)"
   ]
  },
  {
   "cell_type": "code",
   "execution_count": 77,
   "id": "52530f25-e929-4298-b6ce-9e7cf67d5b9b",
   "metadata": {},
   "outputs": [
    {
     "data": {
      "text/html": [
       "<div>\n",
       "<style scoped>\n",
       "    .dataframe tbody tr th:only-of-type {\n",
       "        vertical-align: middle;\n",
       "    }\n",
       "\n",
       "    .dataframe tbody tr th {\n",
       "        vertical-align: top;\n",
       "    }\n",
       "\n",
       "    .dataframe thead th {\n",
       "        text-align: right;\n",
       "    }\n",
       "</style>\n",
       "<table border=\"1\" class=\"dataframe\">\n",
       "  <thead>\n",
       "    <tr style=\"text-align: right;\">\n",
       "      <th></th>\n",
       "      <th>link</th>\n",
       "      <th>headline</th>\n",
       "      <th>category</th>\n",
       "      <th>short_description</th>\n",
       "      <th>authors</th>\n",
       "      <th>date</th>\n",
       "    </tr>\n",
       "  </thead>\n",
       "  <tbody>\n",
       "    <tr>\n",
       "      <th>196535</th>\n",
       "      <td>https://www.huffingtonpost.com/entry/mac-os-ol...</td>\n",
       "      <td>'Mac OS (Old School)' Skin Will Take Your Lapt...</td>\n",
       "      <td>TECH</td>\n",
       "      <td>Are you a Mac user who wants the power and spe...</td>\n",
       "      <td>Britney Fitzgerald</td>\n",
       "      <td>2012-06-16</td>\n",
       "    </tr>\n",
       "    <tr>\n",
       "      <th>60529</th>\n",
       "      <td>https://www.huffingtonpost.com/entry/pilot-in-...</td>\n",
       "      <td>Pilot In Fatal Hot Air Balloon Crash Had Drunk...</td>\n",
       "      <td>CRIME</td>\n",
       "      <td>The balloon's basket caught fire after hitting...</td>\n",
       "      <td>JON HERSKOVITZ, Reuters</td>\n",
       "      <td>2016-08-01</td>\n",
       "    </tr>\n",
       "    <tr>\n",
       "      <th>38328</th>\n",
       "      <td>https://www.huffingtonpost.com/entry/toddler-w...</td>\n",
       "      <td>Toddler Who Lost Eye To Cancer Forms Special B...</td>\n",
       "      <td>PARENTS</td>\n",
       "      <td>Love this!</td>\n",
       "      <td>Caroline Bologna</td>\n",
       "      <td>2017-04-10</td>\n",
       "    </tr>\n",
       "    <tr>\n",
       "      <th>134807</th>\n",
       "      <td>https://www.huffingtonpost.com/entry/google-gl...</td>\n",
       "      <td>Google Really, Really Wants To Trademark The W...</td>\n",
       "      <td>TECH</td>\n",
       "      <td>According to The Wall Street Journal, the comp...</td>\n",
       "      <td>Tyler McCarthy</td>\n",
       "      <td>2014-04-05</td>\n",
       "    </tr>\n",
       "    <tr>\n",
       "      <th>91903</th>\n",
       "      <td>https://www.huffingtonpost.com/entry/hackers-m...</td>\n",
       "      <td>Hackers Made $100 Million With Info From Stole...</td>\n",
       "      <td>TECH</td>\n",
       "      <td>\"The lesson in this is your information is onl...</td>\n",
       "      <td>David Porter, AP</td>\n",
       "      <td>2015-08-11</td>\n",
       "    </tr>\n",
       "    <tr>\n",
       "      <th>59759</th>\n",
       "      <td>https://www.huffingtonpost.com/entry/rio-olymp...</td>\n",
       "      <td>Here's Why The Olympic Diving Pool Turned Gree...</td>\n",
       "      <td>SPORTS</td>\n",
       "      <td>It's not easy being green.</td>\n",
       "      <td>Ryan Grenoble</td>\n",
       "      <td>2016-08-10</td>\n",
       "    </tr>\n",
       "    <tr>\n",
       "      <th>72702</th>\n",
       "      <td>https://www.huffingtonpost.com/entry/lithium-b...</td>\n",
       "      <td>Surging Demand For Rechargeable Batteries Is D...</td>\n",
       "      <td>TECH</td>\n",
       "      <td>Lithium is an essential component of many cons...</td>\n",
       "      <td>Rosalba O'Brien and Rod Nickel, Reuters</td>\n",
       "      <td>2016-03-15</td>\n",
       "    </tr>\n",
       "    <tr>\n",
       "      <th>92379</th>\n",
       "      <td>https://www.huffingtonpost.com/entry/lessons-p...</td>\n",
       "      <td>12 Lessons From Pre-Internet Days Parents Wish...</td>\n",
       "      <td>PARENTS</td>\n",
       "      <td>Like how to use a dictionary or read a map.</td>\n",
       "      <td>Hollis Miller</td>\n",
       "      <td>2015-08-05</td>\n",
       "    </tr>\n",
       "    <tr>\n",
       "      <th>35322</th>\n",
       "      <td>https://www.huffingtonpost.com/entry/eleven-li...</td>\n",
       "      <td>Eleven Life Lessons I Learned From My Grandfather</td>\n",
       "      <td>PARENTS</td>\n",
       "      <td>The Magnificence of Grandparents Grandparents ...</td>\n",
       "      <td>Supreeya Swarup D.O., ContributorPhysician who...</td>\n",
       "      <td>2017-05-14</td>\n",
       "    </tr>\n",
       "    <tr>\n",
       "      <th>186068</th>\n",
       "      <td>https://www.huffingtonpost.com/entry/ohio-stat...</td>\n",
       "      <td>Ohio State University Marching Band Performs T...</td>\n",
       "      <td>SPORTS</td>\n",
       "      <td>(via Reddit) The video was posted to YouTube o...</td>\n",
       "      <td>Andres Jauregui</td>\n",
       "      <td>2012-10-07</td>\n",
       "    </tr>\n",
       "  </tbody>\n",
       "</table>\n",
       "</div>"
      ],
      "text/plain": [
       "                                                     link  \\\n",
       "196535  https://www.huffingtonpost.com/entry/mac-os-ol...   \n",
       "60529   https://www.huffingtonpost.com/entry/pilot-in-...   \n",
       "38328   https://www.huffingtonpost.com/entry/toddler-w...   \n",
       "134807  https://www.huffingtonpost.com/entry/google-gl...   \n",
       "91903   https://www.huffingtonpost.com/entry/hackers-m...   \n",
       "59759   https://www.huffingtonpost.com/entry/rio-olymp...   \n",
       "72702   https://www.huffingtonpost.com/entry/lithium-b...   \n",
       "92379   https://www.huffingtonpost.com/entry/lessons-p...   \n",
       "35322   https://www.huffingtonpost.com/entry/eleven-li...   \n",
       "186068  https://www.huffingtonpost.com/entry/ohio-stat...   \n",
       "\n",
       "                                                 headline category  \\\n",
       "196535  'Mac OS (Old School)' Skin Will Take Your Lapt...     TECH   \n",
       "60529   Pilot In Fatal Hot Air Balloon Crash Had Drunk...    CRIME   \n",
       "38328   Toddler Who Lost Eye To Cancer Forms Special B...  PARENTS   \n",
       "134807  Google Really, Really Wants To Trademark The W...     TECH   \n",
       "91903   Hackers Made $100 Million With Info From Stole...     TECH   \n",
       "59759   Here's Why The Olympic Diving Pool Turned Gree...   SPORTS   \n",
       "72702   Surging Demand For Rechargeable Batteries Is D...     TECH   \n",
       "92379   12 Lessons From Pre-Internet Days Parents Wish...  PARENTS   \n",
       "35322   Eleven Life Lessons I Learned From My Grandfather  PARENTS   \n",
       "186068  Ohio State University Marching Band Performs T...   SPORTS   \n",
       "\n",
       "                                        short_description  \\\n",
       "196535  Are you a Mac user who wants the power and spe...   \n",
       "60529   The balloon's basket caught fire after hitting...   \n",
       "38328                                          Love this!   \n",
       "134807  According to The Wall Street Journal, the comp...   \n",
       "91903   \"The lesson in this is your information is onl...   \n",
       "59759                          It's not easy being green.   \n",
       "72702   Lithium is an essential component of many cons...   \n",
       "92379         Like how to use a dictionary or read a map.   \n",
       "35322   The Magnificence of Grandparents Grandparents ...   \n",
       "186068  (via Reddit) The video was posted to YouTube o...   \n",
       "\n",
       "                                                  authors        date  \n",
       "196535                                 Britney Fitzgerald  2012-06-16  \n",
       "60529                             JON HERSKOVITZ, Reuters  2016-08-01  \n",
       "38328                                    Caroline Bologna  2017-04-10  \n",
       "134807                                     Tyler McCarthy  2014-04-05  \n",
       "91903                                    David Porter, AP  2015-08-11  \n",
       "59759                                       Ryan Grenoble  2016-08-10  \n",
       "72702             Rosalba O'Brien and Rod Nickel, Reuters  2016-03-15  \n",
       "92379                                       Hollis Miller  2015-08-05  \n",
       "35322   Supreeya Swarup D.O., ContributorPhysician who...  2017-05-14  \n",
       "186068                                    Andres Jauregui  2012-10-07  "
      ]
     },
     "execution_count": 77,
     "metadata": {},
     "output_type": "execute_result"
    }
   ],
   "source": [
    "df3"
   ]
  },
  {
   "cell_type": "code",
   "execution_count": 79,
   "id": "a7c322e6-d80f-42b1-8b88-4c8d1d48e865",
   "metadata": {},
   "outputs": [],
   "source": [
    "headlines = list(df3[\"headline\"])\n",
    "descriptions = list(df3[\"short_description\"])\n",
    "combined = []\n",
    "for i in range(len(headlines)):\n",
    "    combined.append(headlines[i] + \": \" + descriptions[i])"
   ]
  },
  {
   "cell_type": "code",
   "execution_count": null,
   "id": "21f52281-6603-404f-9962-a6e01b5f6c6e",
   "metadata": {},
   "outputs": [],
   "source": []
  },
  {
   "cell_type": "code",
   "execution_count": 80,
   "id": "d506582d-40b9-47b3-9443-264a0f26356c",
   "metadata": {},
   "outputs": [
    {
     "name": "stdout",
     "output_type": "stream",
     "text": [
      ".wall: 88.87      cpu: 548.29\n",
      ".wall: 60.44      cpu: 404.34\n",
      ".wall: 64.20      cpu: 450.34\n"
     ]
    }
   ],
   "source": [
    "H = classify(headlines,    candidate_labels=cats)\n",
    "D = classify(descriptions, candidate_labels=cats)\n",
    "C = classify(combined,     candidate_labels=cats)\n",
    "A = list(df3[\"category\"])"
   ]
  },
  {
   "cell_type": "code",
   "execution_count": 81,
   "id": "2160fa1c-dc27-4abf-ae01-e241f2365cfc",
   "metadata": {},
   "outputs": [
    {
     "name": "stdout",
     "output_type": "stream",
     "text": [
      "Headline:      'Mac OS (Old School)' Skin Will Take Your Laptop Back To 1984 (PICTURE)\n",
      "Description:   Are you a Mac user who wants the power and speed of a modern-day laptop but yearns for the basic graphics and stripped-down\n",
      "Original classification: TECH\n",
      "Headline Analysis:\n",
      "  TECH              0.90\n",
      "  PARENTS           0.03\n",
      "  SPORTS            0.02\n",
      "Description Analysis:\n",
      "  TECH              0.76\n",
      "  SPORTS            0.07\n",
      "  WORLD NEWS        0.06\n",
      "Combined Analysis:\n",
      "  TECH              0.84\n",
      "  PARENTS           0.04\n",
      "  SPORTS            0.04\n",
      "Headline:      Pilot In Fatal Hot Air Balloon Crash Had Drunk Driving, Drug Convictions\n",
      "Description:   The balloon's basket caught fire after hitting power lines and killed 16 people in the crash.\n",
      "Original classification: CRIME\n",
      "Headline Analysis:\n",
      "  CRIME             0.84\n",
      "  WORLD NEWS        0.06\n",
      "  TECH              0.05\n",
      "Description Analysis:\n",
      "  CRIME             0.28\n",
      "  TECH              0.24\n",
      "  WORLD NEWS        0.23\n",
      "Combined Analysis:\n",
      "  CRIME             0.70\n",
      "  TECH              0.14\n",
      "  WORLD NEWS        0.07\n",
      "Headline:      Toddler Who Lost Eye To Cancer Forms Special Bond With Toy That Looks Like Her\n",
      "Description:   Love this!\n",
      "Original classification: PARENTS\n",
      "Headline Analysis:\n",
      "  TECH              0.39\n",
      "  WORLD NEWS        0.22\n",
      "  PARENTS           0.13\n",
      "Description Analysis:\n",
      "  TECH              0.34\n",
      "  SPORTS            0.24\n",
      "  PARENTS           0.16\n",
      "Combined Analysis:\n",
      "  TECH              0.39\n",
      "  WORLD NEWS        0.19\n",
      "  PARENTS           0.15\n",
      "Headline:      Google Really, Really Wants To Trademark The Word 'Glass'\n",
      "Description:   According to The Wall Street Journal, the company submitted an application last year for a trademark on the word, but was\n",
      "Original classification: TECH\n",
      "Headline Analysis:\n",
      "  TECH              0.42\n",
      "  WORLD NEWS        0.22\n",
      "  PARENTS           0.16\n",
      "Description Analysis:\n",
      "  TECH              0.26\n",
      "  PARENTS           0.18\n",
      "  SPORTS            0.17\n",
      "Combined Analysis:\n",
      "  WORLD NEWS        0.34\n",
      "  TECH              0.27\n",
      "  PARENTS           0.17\n",
      "Headline:      Hackers Made $100 Million With Info From Stolen Press Releases: FBI\n",
      "Description:   \"The lesson in this is your information is only as secure as the people you share it with.\"\n",
      "Original classification: TECH\n",
      "Headline Analysis:\n",
      "  CRIME             0.80\n",
      "  TECH              0.09\n",
      "  WORLD NEWS        0.04\n",
      "Description Analysis:\n",
      "  TECH              0.33\n",
      "  EDUCATION         0.33\n",
      "  WORLD NEWS        0.12\n",
      "Combined Analysis:\n",
      "  CRIME             0.56\n",
      "  TECH              0.17\n",
      "  EDUCATION         0.12\n",
      "Headline:      Here's Why The Olympic Diving Pool Turned Green (UPDATE: It's Spreading)\n",
      "Description:   It's not easy being green.\n",
      "Original classification: SPORTS\n",
      "Headline Analysis:\n",
      "  SPORTS            0.64\n",
      "  TECH              0.18\n",
      "  WORLD NEWS        0.06\n",
      "Description Analysis:\n",
      "  TECH              0.22\n",
      "  SPORTS            0.22\n",
      "  PARENTS           0.17\n",
      "Combined Analysis:\n",
      "  SPORTS            0.61\n",
      "  TECH              0.21\n",
      "  WORLD NEWS        0.08\n",
      "Headline:      Surging Demand For Rechargeable Batteries Is Driving Business To South America\n",
      "Description:   Lithium is an essential component of many consumer tech products.\n",
      "Original classification: TECH\n",
      "Headline Analysis:\n",
      "  TECH              0.70\n",
      "  WORLD NEWS        0.13\n",
      "  PARENTS           0.09\n",
      "Description Analysis:\n",
      "  TECH              0.87\n",
      "  PARENTS           0.04\n",
      "  WORLD NEWS        0.03\n",
      "Combined Analysis:\n",
      "  TECH              0.80\n",
      "  PARENTS           0.07\n",
      "  SPORTS            0.05\n",
      "Headline:      12 Lessons From Pre-Internet Days Parents Wish Kids Still Learned Today\n",
      "Description:   Like how to use a dictionary or read a map.\n",
      "Original classification: PARENTS\n",
      "Headline Analysis:\n",
      "  PARENTS           0.70\n",
      "  TECH              0.22\n",
      "  EDUCATION         0.03\n",
      "Description Analysis:\n",
      "  EDUCATION         0.43\n",
      "  TECH              0.40\n",
      "  PARENTS           0.05\n",
      "Combined Analysis:\n",
      "  PARENTS           0.63\n",
      "  TECH              0.15\n",
      "  EDUCATION         0.13\n",
      "Headline:      Eleven Life Lessons I Learned From My Grandfather\n",
      "Description:   The Magnificence of Grandparents Grandparents are those unique individuals who allow us to be who we are without having any\n",
      "Original classification: PARENTS\n",
      "Headline Analysis:\n",
      "  EDUCATION         0.44\n",
      "  TECH              0.18\n",
      "  WORLD NEWS        0.13\n",
      "Description Analysis:\n",
      "  PARENTS           0.32\n",
      "  TECH              0.22\n",
      "  SPORTS            0.16\n",
      "Combined Analysis:\n",
      "  TECH              0.40\n",
      "  PARENTS           0.18\n",
      "  EDUCATION         0.15\n",
      "Headline:      Ohio State University Marching Band Performs Tribute To Video Games During Buckeyes Halftime (VIDEO)\n",
      "Description:   (via Reddit) The video was posted to YouTube on Oct. 7 by user \"handmrow gobucks,\" who has also recorded past halftime performances\n",
      "Original classification: SPORTS\n",
      "Headline Analysis:\n",
      "  SPORTS            0.91\n",
      "  TECH              0.04\n",
      "  WORLD NEWS        0.02\n",
      "Description Analysis:\n",
      "  TECH              0.44\n",
      "  SPORTS            0.24\n",
      "  WORLD NEWS        0.11\n",
      "Combined Analysis:\n",
      "  SPORTS            0.75\n",
      "  TECH              0.10\n",
      "  WORLD NEWS        0.09\n"
     ]
    }
   ],
   "source": [
    "for i in range(len(H)):\n",
    "    print(\"Headline:     \", H[i][\"sequence\"])\n",
    "    print(\"Description:  \", D[i][\"sequence\"])\n",
    "    print(\"Original classification:\", A[i])\n",
    "    print(\"Headline Analysis:\")\n",
    "    for j in range(3):\n",
    "        print(\"  {:15s}  {:5.2f}\".format(H[i][\"labels\"][j], H[i][\"scores\"][j]))\n",
    "    print(\"Description Analysis:\")\n",
    "    for j in range(3):\n",
    "        print(\"  {:15s}  {:5.2f}\".format(D[i][\"labels\"][j], D[i][\"scores\"][j]))\n",
    "    print(\"Combined Analysis:\")\n",
    "    for j in range(3):\n",
    "        print(\"  {:15s}  {:5.2f}\".format(C[i][\"labels\"][j], C[i][\"scores\"][j]))"
   ]
  },
  {
   "cell_type": "markdown",
   "id": "7a87509f",
   "metadata": {},
   "source": [
    "# 3. Text Generation"
   ]
  },
  {
   "cell_type": "code",
   "execution_count": 82,
   "id": "afb1796a-0458-4543-8b3a-682cc692c710",
   "metadata": {},
   "outputs": [
    {
     "name": "stderr",
     "output_type": "stream",
     "text": [
      "No model was supplied, defaulted to gpt2 and revision 6c0e608 (https://huggingface.co/gpt2).\n",
      "Using a pipeline without specifying a model name and revision in production is not recommended.\n"
     ]
    }
   ],
   "source": [
    "from transformers import pipeline\n",
    "generator = pipeline(\"text-generation\")"
   ]
  },
  {
   "cell_type": "code",
   "execution_count": 83,
   "id": "28dbcf58-dc62-4357-b3f3-1a29a8d85709",
   "metadata": {},
   "outputs": [
    {
     "name": "stdout",
     "output_type": "stream",
     "text": [
      "wall:  0.72      cpu:  0.32\n"
     ]
    }
   ],
   "source": [
    "t = timer()\n",
    "t.start()\n",
    "time.sleep(.4)\n",
    "runcputime(.3)\n",
    "t.stop()"
   ]
  },
  {
   "cell_type": "code",
   "execution_count": 84,
   "id": "883508a4-8f43-4a11-acbd-f67af4a7ca5e",
   "metadata": {},
   "outputs": [
    {
     "name": "stderr",
     "output_type": "stream",
     "text": [
      "Setting `pad_token_id` to `eos_token_id`:50256 for open-end generation.\n"
     ]
    },
    {
     "data": {
      "text/plain": [
       "[{'generated_text': 'today we will see.'}]"
      ]
     },
     "execution_count": 84,
     "metadata": {},
     "output_type": "execute_result"
    }
   ],
   "source": [
    "generator(\"today we will see\")"
   ]
  },
  {
   "cell_type": "code",
   "execution_count": 85,
   "id": "299052d1-d9b2-434b-8983-c7cffab94bf3",
   "metadata": {},
   "outputs": [
    {
     "name": "stderr",
     "output_type": "stream",
     "text": [
      "Setting `pad_token_id` to `eos_token_id`:50256 for open-end generation.\n"
     ]
    },
    {
     "data": {
      "text/plain": [
       "[{'generated_text': 'today we will see that the government is taking significant steps to address the threat.\"\\n\\nOn Tuesday, the minister said it is time for \"greater security\" and called the increase to levels that the government had tried, \"justifiable in light'}]"
      ]
     },
     "execution_count": 85,
     "metadata": {},
     "output_type": "execute_result"
    }
   ],
   "source": [
    "generator(\"today we will see\")"
   ]
  },
  {
   "cell_type": "code",
   "execution_count": 86,
   "id": "c5cca938-b78a-48a2-8f20-798553f4946e",
   "metadata": {},
   "outputs": [
    {
     "name": "stdout",
     "output_type": "stream",
     "text": [
      "wall: 18.46      cpu: 105.40\n",
      "today we will see why.\n",
      "\n",
      "It's an event I've been asking myself many times this month. What if it was just a one time event, which I don't think can be a great solution if there are too many of them?\n"
     ]
    }
   ],
   "source": [
    "t.restart()\n",
    "X = generator(\"today we will see\", pad_token_id=50256)\n",
    "t.stop()\n",
    "print(X[0][\"generated_text\"])"
   ]
  },
  {
   "cell_type": "code",
   "execution_count": 87,
   "id": "2561762a-78b5-4a15-b5a4-be7759fd8b4e",
   "metadata": {},
   "outputs": [
    {
     "name": "stdout",
     "output_type": "stream",
     "text": [
      "wall:  4.80      cpu: 33.15\n",
      "today we will see what happens. And that doesn't matter if the government doesn't want to make that a problem.\" If we lose our current political system to the state, and we get more in power, we will be reduced to a class of\n"
     ]
    }
   ],
   "source": [
    "t.restart()\n",
    "X = generator(\"today we will see\",pad_token_id=50256)\n",
    "t.stop()\n",
    "print(X[0][\"generated_text\"])"
   ]
  },
  {
   "cell_type": "code",
   "execution_count": 88,
   "id": "02799e7b-5f5c-4214-a52c-7c5aace7b68b",
   "metadata": {},
   "outputs": [
    {
     "name": "stdout",
     "output_type": "stream",
     "text": [
      "wall:  6.01      cpu: 40.28\n",
      "today we will see how we make it work and I hope we did that in the future.\"\n",
      "\n",
      "It's the first instance of President Obama's approval rating that it stands, well, in the high 30s. And it's the first time\n"
     ]
    }
   ],
   "source": [
    "t.restart()\n",
    "X = generator(\"today we will see\", pad_token_id=50256)\n",
    "t.stop()\n",
    "print(X[0][\"generated_text\"])"
   ]
  },
  {
   "cell_type": "code",
   "execution_count": 89,
   "id": "907265c0-f756-48f9-a279-752052ac2225",
   "metadata": {},
   "outputs": [
    {
     "name": "stdout",
     "output_type": "stream",
     "text": [
      "wall: 12.81      cpu: 71.94\n",
      "today we will see you at this time.\"\n",
      "\n",
      "Afterwards, he sat in the center of the room with a large smile on his face.\n",
      "\n",
      "\"… I'm thinking of going outside to talk with someone.\"\n",
      "\n",
      "\"Eh? What\n"
     ]
    }
   ],
   "source": [
    "t.restart()\n",
    "X = generator(\"today we will see\", pad_token_id=50256)\n",
    "t.stop()\n",
    "print(X[0][\"generated_text\"])"
   ]
  },
  {
   "cell_type": "code",
   "execution_count": 90,
   "id": "66b5998a-19b3-4315-8836-0555dd65d62e",
   "metadata": {},
   "outputs": [
    {
     "name": "stdout",
     "output_type": "stream",
     "text": [
      "[[{'generated_text': 'In this course, we will teach you how to get elephants to stop killing themselves in the wild. We will learn about how you can get free of elephants, and how long you may stay in the wild. We will also discuss how to take steps'}, {'generated_text': 'In this course, we will teach you how to get elephants to stop. We will show you how to take care of them when they are scared. We will show you how to be a part of them for them and be helpful with them. We'}], [{'generated_text': 'In this course, we will teach you how to get elephants to play outside of their natural habitat and explore the wildlife habitat without disturbing the ecology or wildlife from its interactions with nature.\\n\\nOur students will study an interactive nature immersion, demonstrating what it'}, {'generated_text': 'In this course, we will teach you how to get elephants to respond to the music (or the sounds of music without a sound in their head). Once you have learned this, we can listen and learn to create a unique and unique experience. This'}]]\n"
     ]
    }
   ],
   "source": [
    "p1 = \"In this course, we will teach you how to get elephants to stop\"\n",
    "p2 = 'In this course, we will teach you how to get elephants to'\n",
    "P = [p1, p2]\n",
    "X = generator(P, num_return_sequences=2, pad_token_id=50256)\n",
    "print(X)"
   ]
  },
  {
   "cell_type": "code",
   "execution_count": 92,
   "id": "3e731969-020e-4920-85ee-3f2d70b1dc83",
   "metadata": {},
   "outputs": [],
   "source": [
    "def genprint(prompt, **kwargs):\n",
    "    t = timer()\n",
    "    t.start()\n",
    "    R = generator(prompt, pad_token_id=50256, **kwargs)\n",
    "    t.stop()\n",
    "\n",
    "    if type(prompt) == type(\"foo\"):  # a single prompt\n",
    "        print(\"P>{:s}...\".format(prompt))\n",
    "        skip_length = len(prompt)\n",
    "        for i, r in enumerate(R):\n",
    "            r2 = r[\"generated_text\"][skip_length:].replace(\"\\n\", \"  \")\n",
    "            print(\"  R{:d}:{:s}\".format(i+1,r2), end=\"\")\n",
    "            words = r2.split(\" \")\n",
    "            print(\"  ({:d} words)\".format(len(words)))\n",
    "    if type(prompt) == type([]):     # a list of prompts\n",
    "        for i, p in enumerate(prompt):\n",
    "            print(\"P{:d}>{:s}...\".format(i + 1,p))\n",
    "            skip_length = len(p)\n",
    "            for j, r in enumerate(R[i]):\n",
    "                r2 = r[\"generated_text\"][skip_length:].replace(\"\\n\", \"  \")\n",
    "                print(\"  P{:d}:R{:d}:{:s}\".format(i + 1, j+1,r2), end=\"\")        \n",
    "                words = r2.split(\" \")\n",
    "                print(\"  ({:d} words)\".format(len(words)))\n",
    "    #return R"
   ]
  },
  {
   "cell_type": "code",
   "execution_count": 93,
   "id": "58c88e52-07b9-4a8c-a905-3b4d521d9d94",
   "metadata": {},
   "outputs": [
    {
     "name": "stdout",
     "output_type": "stream",
     "text": [
      "wall: 120.56      cpu: 690.00\n",
      "P1>In this course, we will teach you how to get elephants to stop...\n",
      "  P1:R1: playing with dolls for the first time!    • Teaching the Dachshund by yourself in 3 ways    • How to play as a Dachshund, with your friends    • How to play with your friends as you start playing the Dachshund    • How to play with your friends as you start playing the game    • Why it's great to play while waiting for a new one, not all species will get to the dachshund by accident  (90 words)\n",
      "  P1:R2: looking and to see what happens. Our goal is to show you how to put your elephants to rest and how to be the first person to see this.    What You'll Learn    This course is designed for trainers and educational resources. The course has a 4+ minute video segment. We have a 10 minute video segment. An emphasis is placed on elephants and teaching their needs in an accessible way. You will have the opportunity to learn different elephant behaviour and learn about their habits and natural habitat.    Course Overview    You will learn about how elephants learn and adapt to the surrounding environment. The elephant was an active member of our herd until a sudden break in the  (131 words)\n",
      "P2>In this course, we will teach you how to get elephants to...\n",
      "  P2:R1: stop beating their hornet heads. For more information, please see the elephant-training page on the website of the Association of Elephant Specialist, and learn how to prevent beating.    How Do We Train Elephant Pupils    You'll also learn several skills you can use from elephants. Training elephants is a very practical way to learn how to interact with humans and the environment, rather than to fight. The elephant trainer in the class will be asked to perform tasks that he or she can't complete.    You'll also learn several skills you can use from one another. A training elephant is equipped with several different kinds of equipment that can improve the quality of their behavior:  (123 words)\n",
      "  P2:R2: learn their tricks by using their hands and feet in \"leap of hope\". If you enjoy the learning process, you can follow our simple tutorial.    We have been using this technique for almost five years now.    To take it to its logical conclusion, we will teach you how to practice elephants using their fingers and feet in \"leap of hope\".    We will show you a method to be able to walk up to a fence on your own without taking the time to walk. Let's see how it goes.    It's time for you to learn how to walk a fence.    Let us break down this method if you think it is difficult  (128 words)\n"
     ]
    }
   ],
   "source": [
    "genprint(P, num_return_sequences = 2, min_length = 100, max_length = 150)"
   ]
  },
  {
   "cell_type": "code",
   "execution_count": 94,
   "id": "25e04aa0-6fc3-445f-89a0-7d35038bbb4d",
   "metadata": {},
   "outputs": [
    {
     "name": "stdout",
     "output_type": "stream",
     "text": [
      "wall:  6.97      cpu: 40.05\n",
      "P1>In this course, we will teach you how to get elephants to stop...\n",
      "  P1:R1: using drugs and get it off  (7 words)\n",
      "  P1:R2: barking – and how to stop  (7 words)\n",
      "  P1:R3:. What are some lessons to  (6 words)\n",
      "  P1:R4: and then move on. You  (6 words)\n",
      "  P1:R5: running.    1:  (6 words)\n",
      "P2>In this course, we will teach you how to get elephants to...\n",
      "  P2:R1: calm down and come up with a  (8 words)\n",
      "  P2:R2: adopt. We will also talk about  (7 words)\n",
      "  P2:R3: breed quickly and to get a few  (8 words)\n",
      "  P2:R4: the African forest at night and how  (8 words)\n",
      "  P2:R5: behave as they want. What are  (7 words)\n"
     ]
    }
   ],
   "source": [
    "genprint(P, num_return_sequences = 5, min_length = 10, max_length = 20)"
   ]
  },
  {
   "cell_type": "markdown",
   "id": "82378848-e4f1-4f1a-9c6a-35a6f72c1488",
   "metadata": {},
   "source": [
    "# Mask Filling"
   ]
  },
  {
   "cell_type": "code",
   "execution_count": 95,
   "id": "6f7e1813-204d-4849-8a7a-05832770cdd8",
   "metadata": {},
   "outputs": [
    {
     "name": "stderr",
     "output_type": "stream",
     "text": [
      "No model was supplied, defaulted to distilroberta-base and revision ec58a5b (https://huggingface.co/distilroberta-base).\n",
      "Using a pipeline without specifying a model name and revision in production is not recommended.\n",
      "Some weights of the model checkpoint at distilroberta-base were not used when initializing RobertaForMaskedLM: ['roberta.pooler.dense.weight', 'roberta.pooler.dense.bias']\n",
      "- This IS expected if you are initializing RobertaForMaskedLM from the checkpoint of a model trained on another task or with another architecture (e.g. initializing a BertForSequenceClassification model from a BertForPreTraining model).\n",
      "- This IS NOT expected if you are initializing RobertaForMaskedLM from the checkpoint of a model that you expect to be exactly identical (initializing a BertForSequenceClassification model from a BertForSequenceClassification model).\n"
     ]
    }
   ],
   "source": [
    "unmasker = pipeline(\"fill-mask\")"
   ]
  },
  {
   "cell_type": "code",
   "execution_count": 96,
   "id": "511ab22f-8344-47f0-a4a2-05ab74965d76",
   "metadata": {},
   "outputs": [
    {
     "data": {
      "text/plain": [
       "[{'score': 0.06934794038534164,\n",
       "  'token': 25342,\n",
       "  'token_str': ' simplicity',\n",
       "  'sequence': 'Never forget that simplicity is the most important rule.'},\n",
       " {'score': 0.06421764194965363,\n",
       "  'token': 11383,\n",
       "  'token_str': ' patience',\n",
       "  'sequence': 'Never forget that patience is the most important rule.'},\n",
       " {'score': 0.04692889004945755,\n",
       "  'token': 12787,\n",
       "  'token_str': ' consistency',\n",
       "  'sequence': 'Never forget that consistency is the most important rule.'},\n",
       " {'score': 0.03850202634930611,\n",
       "  'token': 27352,\n",
       "  'token_str': ' humility',\n",
       "  'sequence': 'Never forget that humility is the most important rule.'},\n",
       " {'score': 0.03507177531719208,\n",
       "  'token': 30698,\n",
       "  'token_str': ' moderation',\n",
       "  'sequence': 'Never forget that moderation is the most important rule.'}]"
      ]
     },
     "execution_count": 96,
     "metadata": {},
     "output_type": "execute_result"
    }
   ],
   "source": [
    "unmasker(\"Never forget that <mask> is the most important rule.\")"
   ]
  },
  {
   "cell_type": "code",
   "execution_count": 97,
   "id": "fb8a512a-b9cf-4620-9547-d5afd25a2eee",
   "metadata": {},
   "outputs": [
    {
     "data": {
      "text/plain": [
       "[{'score': 0.06934794038534164,\n",
       "  'token': 25342,\n",
       "  'token_str': ' simplicity',\n",
       "  'sequence': 'Never forget that simplicity is the most important rule.'},\n",
       " {'score': 0.06421764194965363,\n",
       "  'token': 11383,\n",
       "  'token_str': ' patience',\n",
       "  'sequence': 'Never forget that patience is the most important rule.'},\n",
       " {'score': 0.04692889004945755,\n",
       "  'token': 12787,\n",
       "  'token_str': ' consistency',\n",
       "  'sequence': 'Never forget that consistency is the most important rule.'}]"
      ]
     },
     "execution_count": 97,
     "metadata": {},
     "output_type": "execute_result"
    }
   ],
   "source": [
    "unmasker(\"Never forget that <mask> is the most important rule.\", top_k = 3)"
   ]
  },
  {
   "cell_type": "code",
   "execution_count": 98,
   "id": "2701c52a-c33b-4e2c-9852-e8cbcfa6d80f",
   "metadata": {},
   "outputs": [],
   "source": [
    "def unmask(m, **kwargs):\n",
    "    R = unmasker(m, **kwargs)\n",
    "    print(\" {:20s}  {:7s}  {:6s}  {:6s}\".format(\"word\", \"tknNum\", \"prob\", \"aggr\"))\n",
    "    aggr = 0.0\n",
    "    for r in R:\n",
    "        aggr += r[\"score\"]\n",
    "        print(\"{:20s}  {:7d}  {:6.3f}  {:6.3f}\".format(r[\"token_str\"], r[\"token\"], r[\"score\"], aggr))\n",
    "    return"
   ]
  },
  {
   "cell_type": "code",
   "execution_count": 99,
   "id": "eac4bc69-5ce5-49ef-a5af-9d64abed1a12",
   "metadata": {},
   "outputs": [
    {
     "name": "stdout",
     "output_type": "stream",
     "text": [
      " word                  tknNum   prob    aggr  \n",
      " simplicity             25342   0.069   0.069\n",
      " patience               11383   0.064   0.134\n",
      " consistency            12787   0.047   0.180\n",
      " humility               27352   0.039   0.219\n",
      " moderation             30698   0.035   0.254\n",
      " modesty                39706   0.029   0.283\n",
      " repetition             37176   0.021   0.303\n",
      " luck                    6620   0.017   0.320\n",
      " honesty                19439   0.014   0.334\n",
      " tolerance              12352   0.013   0.347\n",
      " equality                9057   0.012   0.359\n",
      " ignorance              22092   0.010   0.369\n",
      " diversity               5845   0.010   0.379\n",
      " discretion             14145   0.010   0.389\n",
      " loyalty                10177   0.009   0.398\n"
     ]
    }
   ],
   "source": [
    "unmask(\"Never forget that <mask> is the most important rule.\", top_k = 15)"
   ]
  },
  {
   "cell_type": "code",
   "execution_count": 100,
   "id": "4d8dfa51-cb00-4ae9-ac89-9d0f4d65b5dc",
   "metadata": {},
   "outputs": [
    {
     "name": "stdout",
     "output_type": "stream",
     "text": [
      " word                  tknNum   prob    aggr  \n",
      " simplicity             25342   0.069   0.069\n",
      " patience               11383   0.064   0.134\n",
      " consistency            12787   0.047   0.180\n",
      " humility               27352   0.039   0.219\n",
      " moderation             30698   0.035   0.254\n",
      " modesty                39706   0.029   0.283\n",
      " repetition             37176   0.021   0.303\n",
      " luck                    6620   0.017   0.320\n",
      " honesty                19439   0.014   0.334\n",
      " tolerance              12352   0.013   0.347\n",
      " equality                9057   0.012   0.359\n",
      " ignorance              22092   0.010   0.369\n",
      " diversity               5845   0.010   0.379\n",
      " discretion             14145   0.010   0.389\n",
      " loyalty                10177   0.009   0.398\n",
      " trust                   2416   0.009   0.407\n",
      " respect                 2098   0.008   0.416\n",
      " obedience              41227   0.008   0.424\n",
      " caution                 8038   0.008   0.433\n",
      " kindness               15963   0.007   0.440\n",
      " fairness               16890   0.007   0.447\n",
      " symmetry               43769   0.007   0.454\n",
      " this                      42   0.007   0.462\n",
      " faith                   3975   0.007   0.468\n",
      " truth                   3157   0.007   0.475\n",
      " intuition              39054   0.006   0.481\n",
      " balance                 2394   0.006   0.487\n",
      " flexibility             8243   0.006   0.492\n",
      " persistence            31512   0.005   0.498\n",
      " teamwork               29736   0.005   0.503\n",
      " arithmetic             43585   0.005   0.508\n",
      " safety                  1078   0.005   0.513\n",
      " freedom                 3519   0.005   0.518\n",
      " forgiveness            21473   0.005   0.523\n",
      " abstinence             42570   0.005   0.528\n",
      " principle               9322   0.005   0.533\n",
      " transparency            7218   0.005   0.537\n",
      " math                   10638   0.005   0.542\n",
      " continuity             21420   0.005   0.547\n",
      " decency                30338   0.004   0.551\n",
      " beauty                  4002   0.004   0.555\n",
      " resilience             13790   0.004   0.559\n",
      " mercy                  20222   0.004   0.562\n",
      " vigilance              35116   0.004   0.566\n",
      " neutrality             18755   0.004   0.570\n"
     ]
    }
   ],
   "source": [
    "unmask(\"Never forget that <mask> is the most important rule.\", top_k = 45)"
   ]
  },
  {
   "cell_type": "code",
   "execution_count": 101,
   "id": "cecba766-6ae6-4357-bb3e-53a8a0ca6523",
   "metadata": {},
   "outputs": [
    {
     "name": "stdout",
     "output_type": "stream",
     "text": [
      " word                  tknNum   prob    aggr  \n",
      " forget                  4309   0.864   0.864\n",
      " remember                2145   0.028   0.892\n",
      " hesitate               21587   0.021   0.914\n",
      " bother                 15304   0.021   0.935\n",
      " try                      860   0.007   0.942\n",
      " have                      33   0.005   0.948\n",
      " expect                  1057   0.005   0.952\n",
      " think                    206   0.005   0.957\n",
      " fail                    5998   0.004   0.961\n",
      " get                      120   0.003   0.964\n"
     ]
    }
   ],
   "source": [
    "unmask(\"On rainy days never <mask> to bring an umbrella.\", top_k=10)"
   ]
  },
  {
   "cell_type": "code",
   "execution_count": 102,
   "id": "396beba4-5675-4e4a-ad77-7b89ab4e032e",
   "metadata": {},
   "outputs": [
    {
     "name": "stdout",
     "output_type": "stream",
     "text": [
      " word                  tknNum   prob    aggr  \n",
      " Catalonia              17393   0.069   0.069\n",
      " it                        24   0.068   0.137\n",
      " chocolate               7548   0.063   0.200\n",
      " wine                    3984   0.036   0.235\n",
      " Pepe                   35711   0.028   0.264\n"
     ]
    }
   ],
   "source": [
    "unmask(\"everyone in Spain loves <mask> - it's a national treasure.\", top_k = 5)"
   ]
  },
  {
   "cell_type": "code",
   "execution_count": 104,
   "id": "482fd71d-7646-4044-b6d2-b7e589afafbd",
   "metadata": {},
   "outputs": [
    {
     "name": "stdout",
     "output_type": "stream",
     "text": [
      " word                  tknNum   prob    aggr  \n",
      " wants                   1072   0.082   0.082\n",
      " way                      169   0.065   0.147\n",
      " has                       34   0.038   0.185\n",
      " person                   621   0.034   0.219\n",
      " man                      313   0.024   0.242\n",
      " thing                    631   0.022   0.264\n",
      " chance                   778   0.020   0.285\n",
      " needs                    782   0.020   0.304\n",
      " day                      183   0.019   0.324\n",
      " need                     240   0.019   0.343\n",
      " tries                   5741   0.014   0.357\n",
      " reason                  1219   0.013   0.370\n",
      " gets                    1516   0.011   0.381\n",
      " faction                18666   0.011   0.392\n",
      " is                        16   0.010   0.402\n",
      " wanted                   770   0.009   0.411\n",
      " word                    2136   0.009   0.420\n",
      " hopes                   1991   0.009   0.428\n",
      " ought                  12960   0.008   0.436\n",
      " want                     236   0.008   0.444\n",
      " wishes                  8605   0.007   0.452\n",
      " hope                    1034   0.007   0.458\n",
      " desire                  4724   0.006   0.464\n",
      " goes                    1411   0.006   0.470\n",
      " plan                     563   0.005   0.476\n",
      " nation                  1226   0.005   0.481\n",
      " mission                 2511   0.005   0.486\n",
      " guy                     2173   0.005   0.491\n",
      " woman                    693   0.005   0.495\n",
      " seems                   1302   0.005   0.500\n",
      " generation              2706   0.004   0.504\n",
      " means                    839   0.004   0.508\n",
      " wish                    2813   0.004   0.512\n",
      " team                     165   0.004   0.516\n",
      " had                       56   0.004   0.520\n",
      " stone                   7326   0.004   0.524\n",
      " tends                  11818   0.003   0.527\n",
      " deserves                8613   0.003   0.531\n",
      " power                    476   0.003   0.534\n",
      " path                    2718   0.003   0.537\n"
     ]
    }
   ],
   "source": [
    "unmask(\"One <mask> to rule them all.\", top_k=40)"
   ]
  },
  {
   "cell_type": "code",
   "execution_count": 105,
   "id": "64e79554-737b-48e9-85fd-706e708428c4",
   "metadata": {},
   "outputs": [
    {
     "name": "stdout",
     "output_type": "stream",
     "text": [
      " word                  tknNum   prob    aggr  \n",
      " organization            1651   0.313   0.313\n",
      " organisation            6010   0.200   0.513\n",
      " club                     950   0.145   0.658\n",
      " group                    333   0.030   0.688\n",
      " party                    537   0.029   0.717\n"
     ]
    }
   ],
   "source": [
    "unmask(\"I won't belong to any <mask> that would have me as a member\", top_k = 5)"
   ]
  },
  {
   "cell_type": "code",
   "execution_count": 106,
   "id": "d068ebac-ddd9-434e-acb3-a9d666c85e96",
   "metadata": {},
   "outputs": [
    {
     "name": "stdout",
     "output_type": "stream",
     "text": [
      " word                  tknNum   prob    aggr  \n",
      " celebrity               6794   0.363   0.363\n",
      " comedian               10688   0.029   0.392\n",
      " legend                  7875   0.029   0.421\n",
      " billionaire             9479   0.021   0.442\n",
      " millionaire            31541   0.014   0.457\n",
      " movie                   1569   0.014   0.471\n",
      " superstar              10896   0.014   0.485\n",
      " musician                9613   0.013   0.498\n",
      " name                     766   0.013   0.511\n",
      " famous                  3395   0.012   0.523\n"
     ]
    }
   ],
   "source": [
    "unmask(\"My Top 10 lists always include a <mask> and at lesat one famous person\", top_k = 10)"
   ]
  },
  {
   "cell_type": "code",
   "execution_count": 107,
   "id": "c3cfff66-3d4d-497e-84ee-13b0c2860f6d",
   "metadata": {},
   "outputs": [
    {
     "name": "stdout",
     "output_type": "stream",
     "text": [
      " word                  tknNum   prob    aggr  \n",
      " celebrity               6794   0.323   0.323\n",
      " billionaire             9479   0.070   0.392\n",
      " legend                  7875   0.034   0.426\n",
      " politician              8676   0.030   0.457\n",
      " comedian               10688   0.027   0.484\n",
      " name                     766   0.024   0.508\n",
      " winner                  1924   0.017   0.525\n",
      " star                     999   0.017   0.542\n",
      " movie                   1569   0.016   0.558\n",
      " millionaire            31541   0.015   0.573\n"
     ]
    }
   ],
   "source": [
    "unmask(\"My Top 10 lists always include a <mask> and at least one famous person\", top_k = 10)"
   ]
  },
  {
   "cell_type": "markdown",
   "id": "33b66ed7-9626-4b3e-bcfd-c59a9cac1669",
   "metadata": {},
   "source": [
    "# 5. Named Entity Recognition"
   ]
  },
  {
   "cell_type": "code",
   "execution_count": 108,
   "id": "95135daf-0ffb-437b-a218-ba5db032abda",
   "metadata": {},
   "outputs": [
    {
     "name": "stderr",
     "output_type": "stream",
     "text": [
      "No model was supplied, defaulted to dbmdz/bert-large-cased-finetuned-conll03-english and revision f2482bf (https://huggingface.co/dbmdz/bert-large-cased-finetuned-conll03-english).\n",
      "Using a pipeline without specifying a model name and revision in production is not recommended.\n",
      "Some weights of the model checkpoint at dbmdz/bert-large-cased-finetuned-conll03-english were not used when initializing BertForTokenClassification: ['bert.pooler.dense.bias', 'bert.pooler.dense.weight']\n",
      "- This IS expected if you are initializing BertForTokenClassification from the checkpoint of a model trained on another task or with another architecture (e.g. initializing a BertForSequenceClassification model from a BertForPreTraining model).\n",
      "- This IS NOT expected if you are initializing BertForTokenClassification from the checkpoint of a model that you expect to be exactly identical (initializing a BertForSequenceClassification model from a BertForSequenceClassification model).\n",
      "/Users/jeremybloom/anaconda3/envs/hugs/lib/python3.9/site-packages/transformers/pipelines/token_classification.py:169: UserWarning: `grouped_entities` is deprecated and will be removed in version v5.0.0, defaulted to `aggregation_strategy=\"simple\"` instead.\n",
      "  warnings.warn(\n"
     ]
    }
   ],
   "source": [
    "ner = pipeline(\"ner\", grouped_entities=True)"
   ]
  },
  {
   "cell_type": "code",
   "execution_count": 109,
   "id": "6f23ffca-080e-47c9-a8a6-7d4c243a5673",
   "metadata": {},
   "outputs": [
    {
     "data": {
      "text/plain": [
       "[{'entity_group': 'PER',\n",
       "  'score': 0.99857616,\n",
       "  'word': 'Pablo',\n",
       "  'start': 11,\n",
       "  'end': 16},\n",
       " {'entity_group': 'ORG',\n",
       "  'score': 0.9685392,\n",
       "  'word': 'Hugging Face',\n",
       "  'start': 31,\n",
       "  'end': 43},\n",
       " {'entity_group': 'LOC',\n",
       "  'score': 0.9945529,\n",
       "  'word': 'Brooklyn',\n",
       "  'start': 47,\n",
       "  'end': 55}]"
      ]
     },
     "execution_count": 109,
     "metadata": {},
     "output_type": "execute_result"
    }
   ],
   "source": [
    "ner(\"My name is Pablo and I work at Hugging Face in Brooklyn.\")"
   ]
  },
  {
   "cell_type": "code",
   "execution_count": 110,
   "id": "bde38109-727b-467a-8379-e69ad259fd35",
   "metadata": {},
   "outputs": [],
   "source": [
    "def showner(m):\n",
    "    X = ner(m)\n",
    "    if len(X) == 0:\n",
    "        print(\"No entities recognized\")\n",
    "    print(\"{:20s}  {:10s}  {:5s}\".format(\"<word>\", \"<entity>\", \"<score>\"))\n",
    "    for x in X:\n",
    "        print(\"{:20s}  {:10s}  {:5.3f}\".format(x[\"word\"], x[\"entity_group\"], x[\"score\"]))"
   ]
  },
  {
   "cell_type": "code",
   "execution_count": 111,
   "id": "939a112b-7642-4b71-b7d4-ed910412551b",
   "metadata": {},
   "outputs": [
    {
     "name": "stdout",
     "output_type": "stream",
     "text": [
      "Abraham Lincoln was an American lawyer, politician, and statesman who served as the 16th president of the United States from 1861 until his assassination in 1865. Lincoln led the United States through the American Civil War, defending the nation as a constitutional union, defeating the insurgent Confederacy, abolishing slavery, expanding the power of the federal government, and modernizing the U.S. economy.\n",
      "<word>                <entity>    <score>\n",
      "Abraham Lincoln       PER         0.999\n",
      "American              MISC        0.999\n",
      "United States         LOC         0.998\n",
      "Lincoln               PER         0.999\n",
      "United States         LOC         0.999\n",
      "American Civil War    MISC        0.997\n",
      "Confederacy           ORG         0.516\n",
      "U                     LOC         0.999\n",
      "S                     LOC         0.997\n"
     ]
    }
   ],
   "source": [
    "m = \"Abraham Lincoln was an American lawyer, politician, and statesman who served as the 16th president of the United States from 1861 until his assassination in 1865. Lincoln led the United States through the American Civil War, defending the nation as a constitutional union, defeating the insurgent Confederacy, abolishing slavery, expanding the power of the federal government, and modernizing the U.S. economy.\"\n",
    "print(m)\n",
    "showner(m)"
   ]
  },
  {
   "cell_type": "code",
   "execution_count": 112,
   "id": "643baf98-7311-4b58-89b5-b95c5c459914",
   "metadata": {},
   "outputs": [
    {
     "name": "stdout",
     "output_type": "stream",
     "text": [
      "<word>                <entity>    <score>\n",
      "Penelope              PER         0.980\n",
      "Madison               LOC         0.992\n"
     ]
    }
   ],
   "source": [
    "showner(\"Penelope drove to Madison to see the packers.\")"
   ]
  },
  {
   "cell_type": "code",
   "execution_count": 113,
   "id": "301d1c4e-3fa4-4f55-8ba1-ff58f7c1cb4e",
   "metadata": {},
   "outputs": [
    {
     "name": "stdout",
     "output_type": "stream",
     "text": [
      "<word>                <entity>    <score>\n",
      "Penelope              PER         0.979\n",
      "Madison               LOC         0.991\n",
      "Packers               ORG         0.999\n"
     ]
    }
   ],
   "source": [
    "showner(\"Penelope drove to Madison to see the Packers.\")"
   ]
  },
  {
   "cell_type": "code",
   "execution_count": 114,
   "id": "c1c11a28-6021-4e37-adcb-afa7ffacae08",
   "metadata": {},
   "outputs": [
    {
     "name": "stdout",
     "output_type": "stream",
     "text": [
      "<word>                <entity>    <score>\n",
      "Penelope              PER         0.974\n",
      "Madison               LOC         0.981\n",
      "S                     PER         0.844\n",
      "##mor                 ORG         0.334\n",
      "##ges                 MISC        0.464\n"
     ]
    }
   ],
   "source": [
    "showner(\"Penelope drove to Madison to see the Smorges.\")"
   ]
  },
  {
   "cell_type": "code",
   "execution_count": 115,
   "id": "9c33c0e4-28a1-426f-875e-27e89ec9fb79",
   "metadata": {},
   "outputs": [
    {
     "name": "stdout",
     "output_type": "stream",
     "text": [
      "<word>                <entity>    <score>\n",
      "Penelope              PER         0.981\n",
      "Madison               LOC         0.984\n",
      "Stooges               MISC        0.435\n"
     ]
    }
   ],
   "source": [
    "showner(\"Penelope drove to Madison to see the Stooges.\")"
   ]
  },
  {
   "cell_type": "code",
   "execution_count": 116,
   "id": "4d536e3a-5d18-4138-96d7-eb8267fb5014",
   "metadata": {},
   "outputs": [
    {
     "name": "stdout",
     "output_type": "stream",
     "text": [
      "<word>                <entity>    <score>\n",
      "Penelope              PER         0.965\n",
      "Madison               LOC         0.991\n"
     ]
    }
   ],
   "source": [
    "showner(\"Penelope drove to Madison to see the stooges.\")"
   ]
  },
  {
   "cell_type": "code",
   "execution_count": 117,
   "id": "d01023c3-6d4a-461d-9086-49db707ca46b",
   "metadata": {},
   "outputs": [
    {
     "name": "stdout",
     "output_type": "stream",
     "text": [
      "No entities recognized\n",
      "<word>                <entity>    <score>\n"
     ]
    }
   ],
   "source": [
    "m = \"a game played on a field between two teams of 11 players each with the object to propel a round ball into the opponent's goal by kicking or by hitting it with any part of the body except the hands and arms. called also association football\"\n",
    "m\n",
    "showner(m)"
   ]
  },
  {
   "cell_type": "code",
   "execution_count": 118,
   "id": "6da0bca0-a1d0-4be7-a98c-ec494dd21a37",
   "metadata": {},
   "outputs": [
    {
     "name": "stdout",
     "output_type": "stream",
     "text": [
      "No entities recognized\n",
      "<word>                <entity>    <score>\n"
     ]
    }
   ],
   "source": [
    "m = \"here is my cat.  My cat sat on the bed.  My cat is white.\"\n",
    "showner(m)"
   ]
  },
  {
   "cell_type": "code",
   "execution_count": 120,
   "id": "50c48cc4-288d-4f1f-9b1d-6653053a0fbf",
   "metadata": {},
   "outputs": [
    {
     "name": "stdout",
     "output_type": "stream",
     "text": [
      "No entities recognized\n",
      "<word>                <entity>    <score>\n"
     ]
    }
   ],
   "source": [
    "m = \"The cat sat on the hat.\"\n",
    "showner(m)"
   ]
  },
  {
   "cell_type": "code",
   "execution_count": 124,
   "id": "0b946bf3-96f9-4e81-92d6-4cf7e9f33714",
   "metadata": {},
   "outputs": [
    {
     "name": "stdout",
     "output_type": "stream",
     "text": [
      "<word>                <entity>    <score>\n",
      "Joey                  PER         0.997\n",
      "Paulo                 PER         0.994\n"
     ]
    }
   ],
   "source": [
    "showner(\"Joey ran after Paulo.\")"
   ]
  },
  {
   "cell_type": "code",
   "execution_count": 125,
   "id": "59e3e0b0-cd2d-44b6-8e7f-3a673032274a",
   "metadata": {},
   "outputs": [
    {
     "name": "stdout",
     "output_type": "stream",
     "text": [
      "<word>                <entity>    <score>\n",
      "Jane                  PER         0.997\n",
      "Bob                   PER         0.996\n"
     ]
    }
   ],
   "source": [
    "showner(\"Jane ran the race with Bob.\")"
   ]
  },
  {
   "cell_type": "code",
   "execution_count": 126,
   "id": "c5276d77-83a3-467b-ae3b-8d8e9cfe3dc0",
   "metadata": {},
   "outputs": [
    {
     "name": "stdout",
     "output_type": "stream",
     "text": [
      "<word>                <entity>    <score>\n",
      "Jane                  PER         0.997\n",
      "Bob                   PER         0.997\n",
      "George                PER         0.998\n",
      "Al                    PER         0.997\n"
     ]
    }
   ],
   "source": [
    "showner(\"Jane ran the race with Bob.  George ran alone.  Al watched television.\")"
   ]
  },
  {
   "cell_type": "code",
   "execution_count": 129,
   "id": "6f451dc6-af4f-4864-b259-63dcadb29112",
   "metadata": {},
   "outputs": [
    {
     "name": "stdout",
     "output_type": "stream",
     "text": [
      "Martin Luther King Jr. was an American Christian minister, activist, and political philosopher who was one of the most prominent leaders in the civil rights movement from 1955 until his assassination in 1968. A Black church leader and a son of early civil rights activist and minister Martin Luther King Sr., King advanced civil rights for people of color in the United States through the use of nonviolent resistance and nonviolent civil disobedience against Jim Crow laws and other forms of legalized discrimination.\n",
      "<word>                <entity>    <score>\n",
      "Martin Luther King Jr  PER         0.999\n",
      "American Christian    MISC        0.995\n",
      "Black                 MISC        0.982\n",
      "Martin Luther King Sr  PER         0.975\n",
      "King                  PER         0.999\n",
      "United States         LOC         0.999\n",
      "Jim Crow              MISC        0.978\n"
     ]
    }
   ],
   "source": [
    "m = \"Martin Luther King Jr. was an American Christian minister, activist, and political philosopher who was one of the most prominent leaders in the civil rights movement from 1955 until his assassination in 1968. A Black church leader and a son of early civil rights activist and minister Martin Luther King Sr., King advanced civil rights for people of color in the United States through the use of nonviolent resistance and nonviolent civil disobedience against Jim Crow laws and other forms of legalized discrimination.\"\n",
    "print(m)\n",
    "showner(m)"
   ]
  },
  {
   "cell_type": "code",
   "execution_count": 130,
   "id": "05f00f19-0994-4bc5-8c39-1e84f47adb2d",
   "metadata": {},
   "outputs": [
    {
     "name": "stdout",
     "output_type": "stream",
     "text": [
      "Martin Luther King Jr. was an American Christian minister, activist, and political philosopher who was one of the most prominent leaders in the civil rights movement from 1955 until his assassination in 1968. A Black church leader and a son of early civil rights activist and minister Martin Luther King Sr., King advanced civil rights for people of color in the United States through the use of nonviolent resistance and nonviolent civil disobedience against bad laws and other forms of legalized discrimination.\n",
      "<word>                <entity>    <score>\n",
      "Martin Luther King Jr  PER         0.999\n",
      "American Christian    MISC        0.995\n",
      "Black                 MISC        0.978\n",
      "Martin Luther King Sr  PER         0.977\n",
      "King                  PER         0.999\n",
      "United States         LOC         0.999\n"
     ]
    }
   ],
   "source": [
    "m = \"Martin Luther King Jr. was an American Christian minister, activist, and political philosopher who was one of\" + \" the most prominent leaders in the civil rights movement from 1955 until his assassination in 1968. A Black church leader\" + \" and a son of early civil rights activist and minister Martin Luther King Sr., King advanced civil rights for people of color \" +  \"in the United States through the use of nonviolent resistance and nonviolent civil disobedience against bad laws and other forms of legalized discrimination.\"\n",
    "print(m)\n",
    "showner(m)"
   ]
  },
  {
   "cell_type": "markdown",
   "id": "2e39ea2a-3269-4920-a336-55b34dabaa47",
   "metadata": {},
   "source": [
    "# 6. Question Answering"
   ]
  },
  {
   "cell_type": "code",
   "execution_count": 131,
   "id": "dc7bd534-9ff7-47fc-8940-5f9c45b93842",
   "metadata": {},
   "outputs": [
    {
     "name": "stderr",
     "output_type": "stream",
     "text": [
      "No model was supplied, defaulted to distilbert-base-cased-distilled-squad and revision 626af31 (https://huggingface.co/distilbert-base-cased-distilled-squad).\n",
      "Using a pipeline without specifying a model name and revision in production is not recommended.\n"
     ]
    }
   ],
   "source": [
    "qa = pipeline(\"question-answering\")"
   ]
  },
  {
   "cell_type": "code",
   "execution_count": 132,
   "id": "e2d1fad6-da34-4048-adcf-812a47d3d344",
   "metadata": {},
   "outputs": [
    {
     "data": {
      "text/plain": [
       "{'score': 0.6508346199989319, 'start': 35, 'end': 47, 'answer': 'Hugging Face'}"
      ]
     },
     "execution_count": 132,
     "metadata": {},
     "output_type": "execute_result"
    }
   ],
   "source": [
    "qa( question=\"where do I work?\",\n",
    "    context=\"my  name is sylvain, and I work at Hugging Face in Brooklyn\")"
   ]
  },
  {
   "cell_type": "code",
   "execution_count": 133,
   "id": "a158c9db-b8b9-4cc3-8b65-c8a0ca858284",
   "metadata": {},
   "outputs": [
    {
     "data": {
      "text/plain": [
       "{'score': 0.36139973998069763,\n",
       " 'start': 35,\n",
       " 'end': 68,\n",
       " 'answer': 'Hugging Face in Madison Wisconsin'}"
      ]
     },
     "execution_count": 133,
     "metadata": {},
     "output_type": "execute_result"
    }
   ],
   "source": [
    "qa( question=\"what city do I work?\",\n",
    "    context=\"my  name is sylvain, and I work at Hugging Face in Madison Wisconsin\")"
   ]
  },
  {
   "cell_type": "code",
   "execution_count": 134,
   "id": "7da914bd-e49a-4255-aa0e-b28b514f49f2",
   "metadata": {},
   "outputs": [
    {
     "data": {
      "text/plain": [
       "{'score': 0.39718547463417053,\n",
       " 'start': 9,\n",
       " 'end': 23,\n",
       " 'answer': '42nd president'}"
      ]
     },
     "execution_count": 134,
     "metadata": {},
     "output_type": "execute_result"
    }
   ],
   "source": [
    "qa(\n",
    "    question=\"What is my name?\",\n",
    "    context=\"I am the 42nd president of the united states\",\n",
    ")"
   ]
  },
  {
   "cell_type": "code",
   "execution_count": 135,
   "id": "c91f9dca-17fe-4a50-9d0b-2a62d33cbdbd",
   "metadata": {},
   "outputs": [
    {
     "data": {
      "text/plain": [
       "{'score': 0.45681890845298767, 'start': 0, 'end': 10, 'answer': '3 * x = 27'}"
      ]
     },
     "execution_count": 135,
     "metadata": {},
     "output_type": "execute_result"
    }
   ],
   "source": [
    "qa( question=\"What is the value of x in the equation?\",\n",
    "    context=\"3 * x = 27\")"
   ]
  },
  {
   "cell_type": "code",
   "execution_count": 136,
   "id": "666ada25-8d6c-473b-a16a-9733e637dfbf",
   "metadata": {},
   "outputs": [
    {
     "data": {
      "text/plain": [
       "{'score': 0.3335028886795044, 'start': 0, 'end': 5, 'answer': 'x = 5'}"
      ]
     },
     "execution_count": 136,
     "metadata": {},
     "output_type": "execute_result"
    }
   ],
   "source": [
    "qa( question=\"What is the value of x?\",\n",
    "    context=\"x = 5 and y = 3\")"
   ]
  },
  {
   "cell_type": "code",
   "execution_count": 137,
   "id": "15ca2da0-fc38-4c00-b660-18d185a8503e",
   "metadata": {},
   "outputs": [
    {
     "data": {
      "text/plain": [
       "{'score': 0.2668091952800751, 'start': 14, 'end': 15, 'answer': '3'}"
      ]
     },
     "execution_count": 137,
     "metadata": {},
     "output_type": "execute_result"
    }
   ],
   "source": [
    "qa( question=\"What is the value of x + y?\",\n",
    "    context=\"x = 5 and y = 3\")"
   ]
  },
  {
   "cell_type": "code",
   "execution_count": 138,
   "id": "15a6b505-163d-400e-87a5-69e73bfeca54",
   "metadata": {},
   "outputs": [
    {
     "data": {
      "text/plain": [
       "{'score': 0.4152500033378601, 'start': 14, 'end': 15, 'answer': '3'}"
      ]
     },
     "execution_count": 138,
     "metadata": {},
     "output_type": "execute_result"
    }
   ],
   "source": [
    "qa( question=\"What is the value of   y + x?\",\n",
    "    context=\"x = 5 and y = 3\")"
   ]
  },
  {
   "cell_type": "code",
   "execution_count": 139,
   "id": "ff065e08-c546-4d8e-bbca-c6c240a1874b",
   "metadata": {},
   "outputs": [
    {
     "data": {
      "text/plain": [
       "{'score': 0.47785842418670654, 'start': 14, 'end': 15, 'answer': '3'}"
      ]
     },
     "execution_count": 139,
     "metadata": {},
     "output_type": "execute_result"
    }
   ],
   "source": [
    "qa( question=\"What is the value of   y plus x?\",\n",
    "    context=\"x = 5 and y = 3\")"
   ]
  },
  {
   "cell_type": "markdown",
   "id": "dde6e24b-72e9-4b45-afb5-6f9050f3d02b",
   "metadata": {},
   "source": [
    "# 7. summarization"
   ]
  },
  {
   "cell_type": "code",
   "execution_count": 140,
   "id": "12e596a4-c88d-4b01-b754-a7ea4bb4e031",
   "metadata": {},
   "outputs": [],
   "source": [
    "p = f\"\"\"\n",
    "To be, or not to be: that is the question:\n",
    "Whether ’tis nobler in the mind to suffer\n",
    "The slings and arrows of outrageous fortune,\n",
    "Or to take arms against a sea of troubles,\n",
    "And by opposing end them? To die: to sleep;\n",
    "No more; and by a sleep to say we end\n",
    "The heart-ache and the thousand natural shocks\n",
    "That flesh is heir to, ’tis a consummation\n",
    "Devoutly to be wished. To die, to sleep;\n",
    "To sleep: perchance to dream: ay, there’s the rub;\n",
    "For in that sleep of death what dreams may come\n",
    "When we have shuffled off this mortal coil,\n",
    "Must give us pause: there’s the respect\n",
    "That makes calamity of so long life;\n",
    "For who would bear the whips and scorns of time,\n",
    "The oppressor’s wrong, the proud man’s contumely,\n",
    "The pangs of despised love, the law’s delay,\n",
    "The insolence of office and the spurns\n",
    "That patient merit of the unworthy takes,\n",
    "When he himself might his quietus make\n",
    "With a bare bodkin? who would fardels bear,\n",
    "To grunt and sweat under a weary life,\n",
    "But that the dread of something after death,\n",
    "The undiscovered country from whose bourn\n",
    "No traveller returns, puzzles the will\n",
    "And makes us rather bear those ills we have\n",
    "Than fly to others that we know not of?\n",
    "Thus conscience does make cowards of us all;\n",
    "And thus the native hue of resolution\n",
    "Is sicklied o’er with the pale cast of thought,\n",
    "And enterprises of great pith and moment\n",
    "With this regard their currents turn awry,\n",
    "And lose the name of action.  Soft you now!\n",
    "The fair Ophelia! Nymph, in thy orisons\n",
    "Be all my sins remembered.\n",
    "\"\"\""
   ]
  },
  {
   "cell_type": "code",
   "execution_count": 141,
   "id": "0d1ef10d-d91c-4586-ab80-70b3247dfedc",
   "metadata": {},
   "outputs": [
    {
     "name": "stderr",
     "output_type": "stream",
     "text": [
      "No model was supplied, defaulted to sshleifer/distilbart-cnn-12-6 and revision a4f8f3e (https://huggingface.co/sshleifer/distilbart-cnn-12-6).\n",
      "Using a pipeline without specifying a model name and revision in production is not recommended.\n"
     ]
    }
   ],
   "source": [
    "summarizer = pipeline(\"summarization\")"
   ]
  },
  {
   "cell_type": "code",
   "execution_count": 142,
   "id": "c404e575-ab41-436a-8ce5-01caaa069b2b",
   "metadata": {},
   "outputs": [
    {
     "data": {
      "text/plain": [
       "[{'summary_text': \" To die: to sleep; that is the question: whether ’tis nobler in the mind to suffer’s slings and arrows of outrageous fortune, or to take arms against a sea of troubles, is it nobler to suffer? To sleep: perchance to dream: ay, there's the rub; in that sleep of death what dreams may come?\"}]"
      ]
     },
     "execution_count": 142,
     "metadata": {},
     "output_type": "execute_result"
    }
   ],
   "source": [
    "summarizer(p)"
   ]
  },
  {
   "cell_type": "code",
   "execution_count": 143,
   "id": "0317b7ca-f74f-4bd6-ae13-8146391fb7d8",
   "metadata": {},
   "outputs": [
    {
     "data": {
      "text/plain": [
       "[{'summary_text': \" To die: to sleep; that is the question: whether ’tis nobler in the mind to suffer’s slings and arrows of outrageous fortune, or to take arms against a sea of troubles, is it nobler to suffer? To sleep: perchance to dream: 'In that sleep of death what dreams may come?'\"}]"
      ]
     },
     "execution_count": 143,
     "metadata": {},
     "output_type": "execute_result"
    }
   ],
   "source": [
    "summarizer(p, min_length=50, max_length=100)"
   ]
  },
  {
   "cell_type": "code",
   "execution_count": 144,
   "id": "1fd03272-bdae-4c09-ac76-08b49e39ea14",
   "metadata": {},
   "outputs": [
    {
     "data": {
      "text/plain": [
       "[{'summary_text': \" To die: to sleep; that is the question: whether ’tis nobler in the mind to suffer’s slings and arrows of outrageous fortune, or to take arms against a sea of troubles, is it nobler to suffer? To sleep: perchance to dream: 'In that sleep of death what dreams may come?'\"}]"
      ]
     },
     "execution_count": 144,
     "metadata": {},
     "output_type": "execute_result"
    }
   ],
   "source": [
    "summarizer(p, min_length=50, max_length=100)"
   ]
  },
  {
   "cell_type": "code",
   "execution_count": 146,
   "id": "e81fc9f2-b203-468d-891f-bbdd06a7fbfb",
   "metadata": {},
   "outputs": [
    {
     "data": {
      "text/plain": [
       "'Abraham Lincoln became the United States’ 16th President in 1861, issuing the Emancipation Proclamation that declared forever free those slaves within the Confederacy in 1863.\\nLincoln warned the South in his Inaugural Address: “In your hands, my dissatisfied fellow countrymen, and not in mine, is the momentous issue of civil war. The government will not assail you…. You have no oath registered in Heaven to destroy the government, while I shall have the most solemn one to preserve, protect and defend it.”\\nLincoln thought secession illegal, and was willing to use force to defend Federal law and the Union. When Confederate batteries fired on Fort Sumter and forced its surrender, he called on the states for 75,000 volunteers. Four more slave states joined the Confederacy but four remained within the Union. The Civil War had begun.\\nThe son of a Kentucky frontiersman, Lincoln had to struggle for a living and for learning. Five months before receiving his party’s nomination for President, he sketched his life:\\n“I was born Feb. 12, 1809, in Hardin County, Kentucky. My parents were both born in Virginia, of undistinguished families–second families, perhaps I should say. My mother, who died in my tenth year, was of a family of the name of Hanks…. My father … removed from Kentucky to … Indiana, in my eighth year…. It was a wild region, with many bears and other wild animals still in the woods. There I grew up…. Of course when I came of age I did not know much. Still somehow, I could read, write, and cipher … but that was all.”\\nLincoln made extraordinary efforts to attain knowledge while working on a farm, splitting rails for fences, and keeping store at New Salem, Illinois. He was a captain in the Black Hawk War, spent eight years in the Illinois legislature, and rode the circuit of courts for many years. His law partner said of him, “His ambition was a little engine that knew no rest.”\\nHe married Mary Todd, and they had four boys, only one of whom lived to maturity. In 1858 Lincoln ran against Stephen A. Douglas for Senator. He lost the election, but in debating with Douglas he gained a national reputation that won him the Republican nomination for President in 1860.\\nAs President, he built the Republican Party into a strong national organization. Further, he rallied most of the northern Democrats to the Union cause. On January 1, 1863, he issued the Emancipation Proclamation that declared forever free those slaves within the Confederacy.\\nLincoln never let the world forget that the Civil War involved an even larger issue. This he stated most movingly in dedicating the military cemetery at Gettysburg: “that we here highly resolve that these dead shall not have died in vain–that this nation, under God, shall have a new birth of freedom–and that government of the people, by the people, for the people, shall not perish from the earth.”\\nLincoln won re-election in 1864, as Union military triumphs heralded an end to the war. In his planning for peace, the President was flexible and generous, encouraging Southerners to lay down their arms and join speedily in reunion.\\nThe spirit that guided him was clearly that of his Second Inaugural Address, now inscribed on one wall of the Lincoln Memorial in Washington, D. C.: “With malice toward none; with charity for all; with firmness in the right, as God gives us to see the right, let us strive on to finish the work we are in; to bind up the nation’s wounds…. ”\\nOn Good Friday, April 14, 1865, Lincoln was assassinated at Ford’s Theatre in Washington by John Wilkes Booth, an actor, who somehow thought he was helping the South. The opposite was the result, for with Lincoln’s death, the possibility of peace with magnanimity died.\\n'"
      ]
     },
     "execution_count": 146,
     "metadata": {},
     "output_type": "execute_result"
    }
   ],
   "source": [
    "# https://www.whitehouse.gov/about-the-white-house/presidents/abraham-lincoln/\n",
    "p = f\"\"\"Abraham Lincoln became the United States’ 16th President in 1861, issuing the Emancipation Proclamation that declared forever free those slaves within the Confederacy in 1863.\n",
    "Lincoln warned the South in his Inaugural Address: “In your hands, my dissatisfied fellow countrymen, and not in mine, is the momentous issue of civil war. The government will not assail you…. You have no oath registered in Heaven to destroy the government, while I shall have the most solemn one to preserve, protect and defend it.”\n",
    "Lincoln thought secession illegal, and was willing to use force to defend Federal law and the Union. When Confederate batteries fired on Fort Sumter and forced its surrender, he called on the states for 75,000 volunteers. Four more slave states joined the Confederacy but four remained within the Union. The Civil War had begun.\n",
    "The son of a Kentucky frontiersman, Lincoln had to struggle for a living and for learning. Five months before receiving his party’s nomination for President, he sketched his life:\n",
    "“I was born Feb. 12, 1809, in Hardin County, Kentucky. My parents were both born in Virginia, of undistinguished families–second families, perhaps I should say. My mother, who died in my tenth year, was of a family of the name of Hanks…. My father … removed from Kentucky to … Indiana, in my eighth year…. It was a wild region, with many bears and other wild animals still in the woods. There I grew up…. Of course when I came of age I did not know much. Still somehow, I could read, write, and cipher … but that was all.”\n",
    "Lincoln made extraordinary efforts to attain knowledge while working on a farm, splitting rails for fences, and keeping store at New Salem, Illinois. He was a captain in the Black Hawk War, spent eight years in the Illinois legislature, and rode the circuit of courts for many years. His law partner said of him, “His ambition was a little engine that knew no rest.”\n",
    "He married Mary Todd, and they had four boys, only one of whom lived to maturity. In 1858 Lincoln ran against Stephen A. Douglas for Senator. He lost the election, but in debating with Douglas he gained a national reputation that won him the Republican nomination for President in 1860.\n",
    "As President, he built the Republican Party into a strong national organization. Further, he rallied most of the northern Democrats to the Union cause. On January 1, 1863, he issued the Emancipation Proclamation that declared forever free those slaves within the Confederacy.\n",
    "Lincoln never let the world forget that the Civil War involved an even larger issue. This he stated most movingly in dedicating the military cemetery at Gettysburg: “that we here highly resolve that these dead shall not have died in vain–that this nation, under God, shall have a new birth of freedom–and that government of the people, by the people, for the people, shall not perish from the earth.”\n",
    "Lincoln won re-election in 1864, as Union military triumphs heralded an end to the war. In his planning for peace, the President was flexible and generous, encouraging Southerners to lay down their arms and join speedily in reunion.\n",
    "The spirit that guided him was clearly that of his Second Inaugural Address, now inscribed on one wall of the Lincoln Memorial in Washington, D. C.: “With malice toward none; with charity for all; with firmness in the right, as God gives us to see the right, let us strive on to finish the work we are in; to bind up the nation’s wounds…. ”\n",
    "On Good Friday, April 14, 1865, Lincoln was assassinated at Ford’s Theatre in Washington by John Wilkes Booth, an actor, who somehow thought he was helping the South. The opposite was the result, for with Lincoln’s death, the possibility of peace with magnanimity died.\n",
    "\"\"\"\n",
    "p"
   ]
  },
  {
   "cell_type": "code",
   "execution_count": 150,
   "id": "4cd0b707-e29f-4ae3-899f-2d55694cf6cb",
   "metadata": {},
   "outputs": [
    {
     "data": {
      "text/plain": [
       "[{'summary_text': ' Abraham Lincoln became the United States’ 16th President in 1861, issuing the Emancipation Proclamation that declared forever free those slaves within the Confederacy in 1863 . The son of a Kentucky frontiersman, Lincoln had to struggle for a living and for learning .'}]"
      ]
     },
     "execution_count": 150,
     "metadata": {},
     "output_type": "execute_result"
    }
   ],
   "source": [
    "summarizer(p, max_length=60)"
   ]
  },
  {
   "cell_type": "code",
   "execution_count": 148,
   "id": "e39068f5-a26e-49f5-b058-3d8fce27dfd7",
   "metadata": {},
   "outputs": [
    {
     "data": {
      "text/plain": [
       "[{'summary_text': ' Abraham Lincoln became the United States’ 16th President in 1861, issuing the Emancipation Proclamation that declared forever free those slaves within the Confederacy in 1863 . The son of a Kentucky frontiersman, Lincoln had to struggle for a living and for learning . Lincoln thought secession illegal, and was willing to use force to defend Federal law and the Union .'}]"
      ]
     },
     "execution_count": 148,
     "metadata": {},
     "output_type": "execute_result"
    }
   ],
   "source": [
    "summarizer(p, max_length=100)"
   ]
  },
  {
   "cell_type": "code",
   "execution_count": 149,
   "id": "e3421a47-b2e6-4263-b4e1-bcce53782f1f",
   "metadata": {},
   "outputs": [
    {
     "data": {
      "text/plain": [
       "[{'summary_text': ' Abraham Lincoln became the United States’ 16th President in 1861, issuing the Emancipation Proclamation that declared forever free those slaves within the Confederacy in 1863 . The son of a Kentucky frontiersman, Lincoln had to struggle for a living and for learning . Lincoln thought secession illegal, and was willing to use force to defend Federal law and the Union .'}]"
      ]
     },
     "execution_count": 149,
     "metadata": {},
     "output_type": "execute_result"
    }
   ],
   "source": [
    "summarizer(p, max_length=180)"
   ]
  },
  {
   "cell_type": "markdown",
   "id": "9a4f2439-cac2-4806-8e40-46f7ee5393e8",
   "metadata": {},
   "source": [
    "# 8. Language"
   ]
  },
  {
   "cell_type": "code",
   "execution_count": 151,
   "id": "86e20063-0b1c-46d5-98e1-b690109be1bd",
   "metadata": {},
   "outputs": [],
   "source": [
    "from transformers import MBartForConditionalGeneration, MBart50TokenizerFast\n",
    "\n",
    "article_hi = \"संयुक्त राष्ट्र के प्रमुख का कहना है कि सीरिया में कोई सैन्य समाधान नहीं है\"\n",
    "article_ar = \"الأمين العام للأمم المتحدة يقول إنه لا يوجد حل عسكري في سوريا.\"\n",
    "\n",
    "model = MBartForConditionalGeneration.from_pretrained(\"facebook/mbart-large-50-many-to-many-mmt\")\n",
    "tokenizer = MBart50TokenizerFast.from_pretrained(\"facebook/mbart-large-50-many-to-many-mmt\")"
   ]
  },
  {
   "cell_type": "code",
   "execution_count": 152,
   "id": "66aa0687-74b8-46ec-a292-a4e4ca9e0bcf",
   "metadata": {},
   "outputs": [
    {
     "data": {
      "text/plain": [
       "[\"Le chef de l 'ONU affirme qu 'il n 'y a pas de solution militaire en Syria.\"]"
      ]
     },
     "execution_count": 152,
     "metadata": {},
     "output_type": "execute_result"
    }
   ],
   "source": [
    "# translate Hindi to French\n",
    "tokenizer.src_lang = \"hi_IN\"\n",
    "encoded_hi = tokenizer(article_hi, return_tensors=\"pt\")\n",
    "generated_tokens = model.generate(\n",
    "    **encoded_hi,\n",
    "    forced_bos_token_id=tokenizer.lang_code_to_id[\"fr_XX\"]\n",
    ")\n",
    "tokenizer.batch_decode(generated_tokens, skip_special_tokens=True)"
   ]
  },
  {
   "cell_type": "code",
   "execution_count": 153,
   "id": "c4b3edfa-5223-4689-90fb-ccf6aa658b3f",
   "metadata": {},
   "outputs": [
    {
     "data": {
      "text/plain": [
       "['The Secretary-General of the United Nations says there is no military solution in Syria.']"
      ]
     },
     "execution_count": 153,
     "metadata": {},
     "output_type": "execute_result"
    }
   ],
   "source": [
    "# translate Arabic to English\n",
    "tokenizer.src_lang = \"ar_AR\"\n",
    "encoded_ar = tokenizer(article_ar, return_tensors=\"pt\")\n",
    "generated_tokens = model.generate(\n",
    "    **encoded_ar,\n",
    "    forced_bos_token_id=tokenizer.lang_code_to_id[\"en_XX\"]\n",
    ")\n",
    "tokenizer.batch_decode(generated_tokens, skip_special_tokens=True)"
   ]
  },
  {
   "cell_type": "code",
   "execution_count": null,
   "id": "4144a32d-1b92-49c5-9e11-3d74d38bd94b",
   "metadata": {},
   "outputs": [],
   "source": []
  },
  {
   "cell_type": "code",
   "execution_count": 154,
   "id": "82087ae8-dde8-4f27-a205-a6abfe064607",
   "metadata": {},
   "outputs": [],
   "source": [
    "langEng = \"en_XX\"\n",
    "langFr = \"fr_XX\"\n",
    "\n",
    "tokenizer.src_lang = langEng\n",
    "m1_eng = \"Time flies like an arrow.  Fruit flies like a banana\"\n",
    "\n",
    "encoded_ar = tokenizer(m1_eng, return_tensors=\"pt\")\n",
    "generated_tokens = model.generate(\n",
    "    **encoded_ar,\n",
    "    forced_bos_token_id=tokenizer.lang_code_to_id[langFr]\n",
    ")"
   ]
  },
  {
   "cell_type": "code",
   "execution_count": 155,
   "id": "17bdbc96-1242-4cc1-a40d-82bdc7627dc7",
   "metadata": {},
   "outputs": [],
   "source": [
    "m2 = tokenizer.batch_decode(generated_tokens, skip_special_tokens=True)\n",
    "m3_fr = \" \".join([str(x) for x in m2])"
   ]
  },
  {
   "cell_type": "code",
   "execution_count": 156,
   "id": "5bea6b7d-7b5a-414d-ba54-3cfc5f5c238b",
   "metadata": {},
   "outputs": [],
   "source": [
    "tokenizer.src_lang = langFr\n",
    "encoded_ar = tokenizer(m3_fr, return_tensors=\"pt\")\n",
    "generated_tokens = model.generate(\n",
    "    **encoded_ar,\n",
    "    forced_bos_token_id=tokenizer.lang_code_to_id[langEng]\n",
    ")"
   ]
  },
  {
   "cell_type": "code",
   "execution_count": 157,
   "id": "4121faaa-f0b5-40c4-bfe4-dab3d4dab9c9",
   "metadata": {},
   "outputs": [],
   "source": [
    "m4 = tokenizer.batch_decode(generated_tokens, skip_special_tokens=True)"
   ]
  },
  {
   "cell_type": "code",
   "execution_count": 158,
   "id": "b79d6665-f7fc-423a-83ba-c45414dc1390",
   "metadata": {},
   "outputs": [
    {
     "name": "stdout",
     "output_type": "stream",
     "text": [
      "Time flies like an arrow.  Fruit flies like a banana\n",
      "m2 encoded:\n",
      "['Le temps va comme une flèche, les fruits comme une banane.']\n",
      "  to french\n",
      "Le temps va comme une flèche, les fruits comme une banane.\n",
      "  back to english\n",
      "['Time goes like a arrow, fruits like bananas.']\n"
     ]
    }
   ],
   "source": [
    "print(m1_eng)\n",
    "print(\"m2 encoded:\")\n",
    "print(m2)\n",
    "print(\"  to french\")\n",
    "print(m3_fr)\n",
    "print(\"  back to english\")\n",
    "print(m4)"
   ]
  },
  {
   "cell_type": "markdown",
   "id": "00e07d74-f73b-4f0a-b2e5-a1921f978d93",
   "metadata": {},
   "source": [
    "# 9. bias and limitations"
   ]
  },
  {
   "cell_type": "code",
   "execution_count": 159,
   "id": "05e35cc1-2200-4f78-be21-22c7dd955b98",
   "metadata": {},
   "outputs": [
    {
     "name": "stderr",
     "output_type": "stream",
     "text": [
      "Some weights of the model checkpoint at bert-base-uncased were not used when initializing BertForMaskedLM: ['bert.pooler.dense.bias', 'cls.seq_relationship.weight', 'bert.pooler.dense.weight', 'cls.seq_relationship.bias']\n",
      "- This IS expected if you are initializing BertForMaskedLM from the checkpoint of a model trained on another task or with another architecture (e.g. initializing a BertForSequenceClassification model from a BertForPreTraining model).\n",
      "- This IS NOT expected if you are initializing BertForMaskedLM from the checkpoint of a model that you expect to be exactly identical (initializing a BertForSequenceClassification model from a BertForSequenceClassification model).\n"
     ]
    }
   ],
   "source": [
    "unmasker = pipeline(\"fill-mask\", model=\"bert-base-uncased\")"
   ]
  },
  {
   "cell_type": "code",
   "execution_count": 160,
   "id": "445f1366-e3b5-4971-abdb-51d2cefcd21a",
   "metadata": {},
   "outputs": [
    {
     "data": {
      "text/plain": [
       "[{'score': 0.07510633021593094,\n",
       "  'token': 10533,\n",
       "  'token_str': 'carpenter',\n",
       "  'sequence': 'this man works as a carpenter.'},\n",
       " {'score': 0.04641924798488617,\n",
       "  'token': 5160,\n",
       "  'token_str': 'lawyer',\n",
       "  'sequence': 'this man works as a lawyer.'},\n",
       " {'score': 0.03914566710591316,\n",
       "  'token': 7500,\n",
       "  'token_str': 'farmer',\n",
       "  'sequence': 'this man works as a farmer.'},\n",
       " {'score': 0.03280138969421387,\n",
       "  'token': 6883,\n",
       "  'token_str': 'businessman',\n",
       "  'sequence': 'this man works as a businessman.'},\n",
       " {'score': 0.029292281717061996,\n",
       "  'token': 3460,\n",
       "  'token_str': 'doctor',\n",
       "  'sequence': 'this man works as a doctor.'}]"
      ]
     },
     "execution_count": 160,
     "metadata": {},
     "output_type": "execute_result"
    }
   ],
   "source": [
    "unmasker(\"This man works as a [MASK].\")"
   ]
  },
  {
   "cell_type": "code",
   "execution_count": 161,
   "id": "f54a2b82-9a90-47c0-b9c9-9855f92a5bf6",
   "metadata": {},
   "outputs": [
    {
     "data": {
      "text/plain": [
       "[{'score': 0.1279517561197281,\n",
       "  'token': 6821,\n",
       "  'token_str': 'nurse',\n",
       "  'sequence': 'this woman works as a nurse.'},\n",
       " {'score': 0.07453138381242752,\n",
       "  'token': 10850,\n",
       "  'token_str': 'maid',\n",
       "  'sequence': 'this woman works as a maid.'},\n",
       " {'score': 0.07191146165132523,\n",
       "  'token': 3836,\n",
       "  'token_str': 'teacher',\n",
       "  'sequence': 'this woman works as a teacher.'},\n",
       " {'score': 0.061337556689977646,\n",
       "  'token': 13877,\n",
       "  'token_str': 'waitress',\n",
       "  'sequence': 'this woman works as a waitress.'},\n",
       " {'score': 0.04157001152634621,\n",
       "  'token': 19215,\n",
       "  'token_str': 'prostitute',\n",
       "  'sequence': 'this woman works as a prostitute.'}]"
      ]
     },
     "execution_count": 161,
     "metadata": {},
     "output_type": "execute_result"
    }
   ],
   "source": [
    "unmasker(\"This woman works as a [MASK].\")"
   ]
  },
  {
   "cell_type": "code",
   "execution_count": 162,
   "id": "d453d844-07d7-44b0-a441-757bafc071e5",
   "metadata": {},
   "outputs": [
    {
     "data": {
      "text/plain": [
       "[{'score': 0.6286600232124329,\n",
       "  'token': 2014,\n",
       "  'token_str': 'her',\n",
       "  'sequence': 'the doctor married her in a large wedding'},\n",
       " {'score': 0.015075196512043476,\n",
       "  'token': 4698,\n",
       "  'token_str': 'anna',\n",
       "  'sequence': 'the doctor married anna in a large wedding'},\n",
       " {'score': 0.011716079898178577,\n",
       "  'token': 2032,\n",
       "  'token_str': 'him',\n",
       "  'sequence': 'the doctor married him in a large wedding'},\n",
       " {'score': 0.011649948544800282,\n",
       "  'token': 2068,\n",
       "  'token_str': 'them',\n",
       "  'sequence': 'the doctor married them in a large wedding'},\n",
       " {'score': 0.008837484754621983,\n",
       "  'token': 2984,\n",
       "  'token_str': 'mary',\n",
       "  'sequence': 'the doctor married mary in a large wedding'}]"
      ]
     },
     "execution_count": 162,
     "metadata": {},
     "output_type": "execute_result"
    }
   ],
   "source": [
    "unmasker(\"The doctor married [MASK] in a large wedding\")"
   ]
  },
  {
   "cell_type": "code",
   "execution_count": 163,
   "id": "c0c10d2d-ba49-40a8-99c1-50f87c777c5a",
   "metadata": {},
   "outputs": [
    {
     "data": {
      "text/plain": [
       "[{'score': 0.22439421713352203,\n",
       "  'token': 4873,\n",
       "  'token_str': 'somewhere',\n",
       "  'sequence': 'the doctor was from somewhere in africa'},\n",
       " {'score': 0.04250261187553406,\n",
       "  'token': 7938,\n",
       "  'token_str': 'kenya',\n",
       "  'sequence': 'the doctor was from kenya in africa'},\n",
       " {'score': 0.042246848344802856,\n",
       "  'token': 3088,\n",
       "  'token_str': 'africa',\n",
       "  'sequence': 'the doctor was from africa in africa'},\n",
       " {'score': 0.036910396069288254,\n",
       "  'token': 10031,\n",
       "  'token_str': 'uganda',\n",
       "  'sequence': 'the doctor was from uganda in africa'},\n",
       " {'score': 0.032685037702322006,\n",
       "  'token': 11959,\n",
       "  'token_str': 'tanzania',\n",
       "  'sequence': 'the doctor was from tanzania in africa'}]"
      ]
     },
     "execution_count": 163,
     "metadata": {},
     "output_type": "execute_result"
    }
   ],
   "source": [
    "unmasker(\"The doctor was from [MASK] in Africa\")"
   ]
  },
  {
   "cell_type": "code",
   "execution_count": 164,
   "id": "54db7dbb-42c8-42d5-a6bf-5fa8d80ce5b6",
   "metadata": {},
   "outputs": [
    {
     "data": {
      "text/plain": [
       "[{'score': 0.214686781167984,\n",
       "  'token': 5635,\n",
       "  'token_str': 'poverty',\n",
       "  'sequence': 'the two largest causes of homelessness are poverty and mental illness'},\n",
       " {'score': 0.11533404886722565,\n",
       "  'token': 12163,\n",
       "  'token_str': 'unemployment',\n",
       "  'sequence': 'the two largest causes of homelessness are unemployment and mental illness'},\n",
       " {'score': 0.046964023262262344,\n",
       "  'token': 15877,\n",
       "  'token_str': 'tuberculosis',\n",
       "  'sequence': 'the two largest causes of homelessness are tuberculosis and mental illness'},\n",
       " {'score': 0.04671980068087578,\n",
       "  'token': 9012,\n",
       "  'token_str': 'hunger',\n",
       "  'sequence': 'the two largest causes of homelessness are hunger and mental illness'},\n",
       " {'score': 0.041504934430122375,\n",
       "  'token': 25519,\n",
       "  'token_str': 'alcoholism',\n",
       "  'sequence': 'the two largest causes of homelessness are alcoholism and mental illness'}]"
      ]
     },
     "execution_count": 164,
     "metadata": {},
     "output_type": "execute_result"
    }
   ],
   "source": [
    "unmasker(\"The two largest causes of homelessness are [MASK] and mental illness\")"
   ]
  },
  {
   "cell_type": "code",
   "execution_count": null,
   "id": "85622a9e-7a03-49c2-868e-87efbbdad48b",
   "metadata": {},
   "outputs": [],
   "source": []
  }
 ],
 "metadata": {
  "kernelspec": {
   "display_name": "Python 3 (ipykernel)",
   "language": "python",
   "name": "python3"
  },
  "language_info": {
   "codemirror_mode": {
    "name": "ipython",
    "version": 3
   },
   "file_extension": ".py",
   "mimetype": "text/x-python",
   "name": "python",
   "nbconvert_exporter": "python",
   "pygments_lexer": "ipython3",
   "version": "3.9.18"
  }
 },
 "nbformat": 4,
 "nbformat_minor": 5
}
